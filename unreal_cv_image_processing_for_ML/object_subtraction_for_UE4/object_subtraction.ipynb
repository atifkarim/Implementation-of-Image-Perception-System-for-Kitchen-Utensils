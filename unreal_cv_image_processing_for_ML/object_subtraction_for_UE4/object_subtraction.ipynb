{
 "cells": [
  {
   "cell_type": "code",
   "execution_count": null,
   "metadata": {},
   "outputs": [],
   "source": [
    "import cv2\n",
    "cv2.__version__"
   ]
  },
  {
   "cell_type": "code",
   "execution_count": null,
   "metadata": {},
   "outputs": [],
   "source": [
    "import numpy as np\n",
    "import cv2\n",
    "\n",
    " # Load an color image in grayscale\n",
    "img = cv2.imread('F:/save_image_ai/error.png',1)\n",
    "\n",
    " # show image\n",
    "\n",
    "cv2.imshow('image',img)\n",
    "cv2.imwrite('F:/save_image_ai/error_1.png')\n",
    "cv2.waitKey(0)\n",
    "cv2.destroyAllWindows()"
   ]
  },
  {
   "cell_type": "code",
   "execution_count": null,
   "metadata": {},
   "outputs": [],
   "source": [
    "import numpy as np\n",
    "import cv2\n",
    "import matplotlib.pyplot as plt\n",
    "%matplotlib inline # if you are running this code in jupyter notebook\n",
    "img = cv2.imread('F:/save_image_ai/error.png',0) # reads image as grayscale\n",
    "plt.imshow(img, cmap='gray')"
   ]
  },
  {
   "cell_type": "code",
   "execution_count": null,
   "metadata": {},
   "outputs": [],
   "source": [
    "import cv2\n",
    "import numpy as np\n",
    "from matplotlib import pyplot as plt\n",
    "\n",
    "img = cv2.imread('/media/atif/0820209220208930/save_image_ai/error.png',0)\n",
    "\n",
    "laplacian = cv2.Laplacian(img,cv2.CV_64F)\n",
    "sobelx = cv2.Sobel(img,cv2.CV_64F,1,0,ksize=5)\n",
    "sobely = cv2.Sobel(img,cv2.CV_64F,0,1,ksize=5)\n",
    "\n",
    "plt.subplot(2,2,1),plt.imshow(img,cmap = 'gray')\n",
    "plt.title('Original'), plt.xticks([]), plt.yticks([])\n",
    "plt.subplot(2,2,2),plt.imshow(laplacian,cmap = 'gray')\n",
    "plt.title('Laplacian'), plt.xticks([]), plt.yticks([])\n",
    "plt.subplot(2,2,3),plt.imshow(sobelx,cmap = 'gray')\n",
    "plt.title('Sobel X'), plt.xticks([]), plt.yticks([])\n",
    "plt.subplot(2,2,4),plt.imshow(sobely,cmap = 'gray')\n",
    "plt.title('Sobel Y'), plt.xticks([]), plt.yticks([])\n",
    "\n",
    "plt.show()"
   ]
  },
  {
   "cell_type": "markdown",
   "metadata": {},
   "source": [
    "# Below code can open, display and save an image. Also, turning off the image is also working after displaying\n",
    "# press ESC for closing the image"
   ]
  },
  {
   "cell_type": "code",
   "execution_count": 3,
   "metadata": {},
   "outputs": [
    {
     "data": {
      "text/plain": [
       "-1"
      ]
     },
     "execution_count": 3,
     "metadata": {},
     "output_type": "execute_result"
    }
   ],
   "source": [
    "from __future__ import division\n",
    "import cv2\n",
    "\n",
    "\n",
    "img = cv2.imread('/media/atif/0820209220208930/save_image_ai/error.png')\n",
    "\n",
    "screen_res = 1280, 720\n",
    "scale_width = screen_res[0] / img.shape[1]\n",
    "scale_height = screen_res[1] / img.shape[0]\n",
    "scale = min(scale_width, scale_height)\n",
    "window_width = int(img.shape[1] * scale)\n",
    "window_height = int(img.shape[0] * scale)\n",
    "\n",
    "cv2.namedWindow('dst_rt', cv2.WINDOW_NORMAL)\n",
    "cv2.resizeWindow('dst_rt', window_width, window_height)\n",
    "\n",
    "cv2.imshow('dst_rt', img)\n",
    "cv2.imwrite('/media/atif/0820209220208930/save_image_ai/011.png',img)\n",
    "# cv2.waitKey(0)\n",
    "# cv2.destroyAllWindows()\n",
    "\n",
    "cv2.waitKey(0)\n",
    "cv2.destroyAllWindows()\n",
    "cv2.waitKey(1)"
   ]
  },
  {
   "cell_type": "markdown",
   "metadata": {},
   "source": [
    "# Following code also can load, show, write an image. Press ESC to close the image"
   ]
  },
  {
   "cell_type": "code",
   "execution_count": 6,
   "metadata": {},
   "outputs": [],
   "source": [
    "import numpy as np\n",
    "import cv2\n",
    "img = cv2.imread('/media/atif/0820209220208930/save_image_ai/error.png',0)\n",
    "cv2.imshow('image',img)\n",
    "k = cv2.waitKey(0)\n",
    "if k == 27:\n",
    "    cv2.imwrite('/media/atif/0820209220208930/save_image_ai/errorRRR.png',img)\n",
    "    cv2.destroyAllWindows()"
   ]
  },
  {
   "cell_type": "markdown",
   "metadata": {},
   "source": [
    "# Following code for image subtraction but not reaching my expectation"
   ]
  },
  {
   "cell_type": "code",
   "execution_count": 4,
   "metadata": {},
   "outputs": [],
   "source": [
    "import numpy as np\n",
    "import cv2\n",
    "image1 = cv2.imread(\"/media/atif/0820209220208930/save_image_ai/chair.png\")\n",
    "image2 = cv2.imread(\"/media/atif/0820209220208930/save_image_ai/environment.png\")\n",
    "image3 = image1 - image2\n",
    "cv2.imshow('image3',image3)\n",
    "k = cv2.waitKey(0)\n",
    "if k == 27:\n",
    "#     cv2.imwrite('/media/atif/0820209220208930/save_image_ai/errorRRR.png',img)\n",
    "    cv2.destroyAllWindows()"
   ]
  },
  {
   "cell_type": "code",
   "execution_count": 4,
   "metadata": {},
   "outputs": [
    {
     "data": {
      "text/plain": [
       "True"
      ]
     },
     "execution_count": 4,
     "metadata": {},
     "output_type": "execute_result"
    }
   ],
   "source": [
    "import cv2\n",
    "image = cv2.imread(\"/media/atif/0820209220208930/save_image_ai/chair.png\")\n",
    "gray = cv2.cvtColor(image,cv2.COLOR_BGR2GRAY) # grayscale\n",
    "# cv2.imshow('gray',gray)\n",
    "_,thresh = cv2.threshold(gray,150,255,cv2.THRESH_BINARY_INV) \n",
    "#threshold\n",
    "kernel = cv2.getStructuringElement(cv2.MORPH_CROSS,(3,3))\n",
    "dilated = cv2.dilate(thresh,kernel,iterations = 13) # dilate\n",
    "# contours, hierarchy = cv2.findContours(dilated,cv2.RETR_EXTERNAL,cv2.CHAIN_APPROX_NONE) \n",
    "_, contours, _= cv2.findContours(dilated,cv2.RETR_EXTERNAL,cv2.CHAIN_APPROX_NONE)\n",
    "# get contours\n",
    "# for each contour found, draw a rectangle around it on original image\n",
    "for contour in contours:\n",
    " \n",
    "    # get rectangle bounding contour\n",
    " \n",
    "    [x,y,w,h] = cv2.boundingRect(contour)\n",
    "    # discard areas that are too large\n",
    " \n",
    "    if h>50 and w>50:\n",
    " \n",
    "        continue\n",
    "    # discard areas that are too small\n",
    " \n",
    "    if h<40 or w<40:\n",
    " \n",
    "        continue\n",
    "    # draw rectangle around contour on original image\n",
    " \n",
    "    cv2.rectangle(image,(x,y),(x+w,y+h),(255,0,255),2)\n",
    "# write original image with added contours to disk  \n",
    "cv2.imwrite(\"/media/atif/0820209220208930/save_image_ai/chair_contoured.png\", image)"
   ]
  },
  {
   "cell_type": "code",
   "execution_count": 12,
   "metadata": {},
   "outputs": [
    {
     "data": {
      "text/plain": [
       "True"
      ]
     },
     "execution_count": 12,
     "metadata": {},
     "output_type": "execute_result"
    }
   ],
   "source": [
    "import sys\n",
    "import numpy\n",
    "import cv2\n",
    "\n",
    "im = cv2.imread('/media/atif/0820209220208930/save_image_ai/chair.png')\n",
    "im_ycrcb = cv2.cvtColor(im, cv2.COLOR_BGR2YCR_CB)\n",
    "\n",
    "skin_ycrcb_mint = numpy.array((0, 133, 77))\n",
    "skin_ycrcb_maxt = numpy.array((255, 173, 127))\n",
    "skin_ycrcb = cv2.inRange(im_ycrcb, skin_ycrcb_mint, skin_ycrcb_maxt)\n",
    "cv2.imwrite('/media/atif/0820209220208930/save_image_ai/chair_1.png', skin_ycrcb) # Second image\n",
    "\n",
    "# contours, _ = cv2.findContours(skin_ycrcb, cv2.RETR_EXTERNAL, cv2.CHAIN_APPROX_SIMPLE)\n",
    "_, contours, _= cv2.findContours(skin_ycrcb, cv2.RETR_EXTERNAL, cv2.CHAIN_APPROX_SIMPLE)\n",
    "\n",
    "for i, c in enumerate(contours):\n",
    "    area = cv2.contourArea(c)\n",
    "    if area > 1000:\n",
    "        cv2.drawContours(im, contours, i, (255, 0, 0), 3)\n",
    "cv2.imwrite('/media/atif/0820209220208930/save_image_ai/chair_2.png', im)"
   ]
  },
  {
   "cell_type": "code",
   "execution_count": 10,
   "metadata": {},
   "outputs": [],
   "source": [
    "import numpy as np\n",
    "import cv2\n",
    "from matplotlib import pyplot as plt\n",
    "img = cv2.imread('/media/atif/0820209220208930/save_image_ai/chair.png')\n",
    "gray = cv2.cvtColor(img,cv2.COLOR_BGR2GRAY)\n",
    "ret, thresh = cv2.threshold(gray,0,255,cv2.THRESH_BINARY_INV+cv2.THRESH_OTSU)\n",
    "cv2.imshow('im',thresh)\n",
    "k = cv2.waitKey(0)\n",
    "if k == 27:\n",
    "#     cv2.imwrite('/media/atif/0820209220208930/save_image_ai/errorRRR.png',img)\n",
    "    cv2.destroyAllWindows()"
   ]
  },
  {
   "cell_type": "code",
   "execution_count": null,
   "metadata": {},
   "outputs": [],
   "source": []
  }
 ],
 "metadata": {
  "kernelspec": {
   "display_name": "Python 3",
   "language": "python",
   "name": "python3"
  },
  "language_info": {
   "codemirror_mode": {
    "name": "ipython",
    "version": 3
   },
   "file_extension": ".py",
   "mimetype": "text/x-python",
   "name": "python",
   "nbconvert_exporter": "python",
   "pygments_lexer": "ipython3",
   "version": "3.6.5"
  }
 },
 "nbformat": 4,
 "nbformat_minor": 2
}
