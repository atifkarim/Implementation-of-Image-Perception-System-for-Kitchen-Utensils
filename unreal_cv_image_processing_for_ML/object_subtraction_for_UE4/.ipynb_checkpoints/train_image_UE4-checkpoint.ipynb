{
 "cells": [
  {
   "cell_type": "code",
   "execution_count": 11,
   "metadata": {},
   "outputs": [],
   "source": [
    "import numpy as np\n",
    "from skimage import io, color, exposure, transform\n",
    "from skimage.color import rgb2gray\n",
    "#from sklearn.cross_validation import train_test_split\n",
    "from sklearn.model_selection import train_test_split  #it came from update scikit learn. https://stackoverflow.com/questions/40704484/importerror-no-module-named-model-selection\n",
    "import os\n",
    "import glob\n",
    "import h5py\n",
    "\n",
    "from keras.preprocessing.image import ImageDataGenerator\n",
    "from keras.models import Sequential, model_from_json\n",
    "from keras.layers.core import Dense, Dropout, Activation, Flatten\n",
    "from keras.layers.convolutional import Conv2D,Conv1D\n",
    "from keras.layers.pooling import MaxPooling2D\n",
    "\n",
    "from keras.layers.convolutional import Convolution2D, MaxPooling2D\n",
    "\n",
    "from keras.optimizers import SGD\n",
    "from keras.utils import np_utils\n",
    "from keras.callbacks import LearningRateScheduler, ModelCheckpoint\n",
    "from keras import backend as K\n",
    "K.set_image_data_format('channels_first')\n",
    "\n",
    "from matplotlib import pyplot as plt\n",
    "%matplotlib inline\n",
    "from matplotlib.pylab import rcParams\n",
    "\n",
    "#import keras\n",
    "\n",
    "NUM_CLASSES = 16\n",
    "IMG_SIZE = 48\n",
    "IMG_depth = 3"
   ]
  },
  {
   "cell_type": "code",
   "execution_count": 12,
   "metadata": {},
   "outputs": [],
   "source": [
    "def preprocess_img(img):\n",
    "    # Histogram normalization in y\n",
    "    hsv = color.rgb2hsv(img)\n",
    "    hsv[:,:,2] = exposure.equalize_hist(hsv[:,:,2])\n",
    "    img = color.hsv2rgb(hsv)\n",
    "\n",
    "    # central scrop\n",
    "    min_side = min(img.shape[:-1])\n",
    "    centre = img.shape[0]//2, img.shape[1]//2\n",
    "    img = img[centre[0]-min_side//2:centre[0]+min_side//2,centre[1]-min_side//2:centre[1]+min_side//2,:]\n",
    "#    img = rgb2gray(img)\n",
    "\n",
    "    # rescale to standard size\n",
    "    img = transform.resize(img, (IMG_SIZE, IMG_SIZE))\n",
    "\n",
    "    # roll color axis to axis 0\n",
    "    img = np.rollaxis(img,-1)\n",
    "\n",
    "    return img\n",
    "\n",
    "def get_class(img_path):\n",
    "    return int(img_path.split('/')[-2])"
   ]
  },
  {
   "cell_type": "code",
   "execution_count": 13,
   "metadata": {
    "scrolled": true
   },
   "outputs": [
    {
     "name": "stdout",
     "output_type": "stream",
     "text": [
      "Processed 1200/57600\n",
      "Processed 2400/57600\n",
      "Processed 3600/57600\n",
      "Processed 4800/57600\n",
      "Processed 6000/57600\n",
      "Processed 7200/57600\n",
      "Processed 8400/57600\n",
      "Processed 9600/57600\n",
      "Processed 10800/57600\n",
      "Processed 12000/57600\n",
      "Processed 13200/57600\n",
      "Processed 14400/57600\n",
      "Processed 15600/57600\n",
      "Processed 16800/57600\n",
      "Processed 18000/57600\n",
      "Processed 19200/57600\n",
      "Processed 20400/57600\n",
      "Processed 21600/57600\n",
      "Processed 22800/57600\n",
      "Processed 24000/57600\n",
      "Processed 25200/57600\n",
      "Processed 26400/57600\n",
      "Processed 27600/57600\n",
      "Processed 28800/57600\n",
      "Processed 30000/57600\n",
      "Processed 31200/57600\n",
      "Processed 32400/57600\n",
      "Processed 33600/57600\n",
      "Processed 34800/57600\n",
      "Processed 36000/57600\n",
      "Processed 37200/57600\n",
      "Processed 38400/57600\n",
      "Processed 39600/57600\n",
      "Processed 40800/57600\n",
      "Processed 42000/57600\n",
      "Processed 43200/57600\n",
      "Processed 44400/57600\n",
      "Processed 45600/57600\n",
      "Processed 46800/57600\n",
      "Processed 48000/57600\n",
      "Processed 49200/57600\n",
      "Processed 50400/57600\n",
      "Processed 51600/57600\n",
      "Processed 52800/57600\n",
      "Processed 54000/57600\n",
      "Processed 55200/57600\n",
      "Processed 56400/57600\n",
      "Processed 57600/57600\n"
     ]
    }
   ],
   "source": [
    "imgs = []\n",
    "labels = []\n",
    "root_dir = '/home/atif/machine_learning_stuff/ml_image/train_image_AI/'\n",
    "#path='/home/atif/training_by_several_learning_process/flower_photos/00000/'\n",
    "\n",
    "#all_img_paths = glob.glob(path+ '5547758_eea9edfd54_n_000.jpg')\n",
    "\n",
    "all_img_paths = glob.glob(os.path.join(root_dir, '*/*.png')) #I have done the training with .ppm format image. If another type of image will come \n",
    "                                                                                    #them .ppm will be changed by that extension\n",
    "np.random.shuffle(all_img_paths)\n",
    "for img_path in all_img_paths:\n",
    "    try:\n",
    "        img = preprocess_img(io.imread(img_path))\n",
    "        label = get_class(img_path)\n",
    "        imgs.append(img)\n",
    "        labels.append(label)\n",
    "\n",
    "        if len(imgs)%1200 == 0: print(\"Processed {}/{}\".format(len(imgs), len(all_img_paths)))\n",
    "            #print(\"get it 2\")\n",
    "    except (IOError, OSError):\n",
    "        print('missed', img_path)\n",
    "        pass"
   ]
  },
  {
   "cell_type": "code",
   "execution_count": 14,
   "metadata": {},
   "outputs": [],
   "source": [
    "X = np.array(imgs, dtype='float32') #Keeping the image as an array\n",
    "Y = np.eye(NUM_CLASSES, dtype='uint8')[labels]"
   ]
  },
  {
   "cell_type": "code",
   "execution_count": 5,
   "metadata": {},
   "outputs": [],
   "source": [
    "# test_imgs=[]\n",
    "# root_test_dir = r'/media/atif/0820209220208930/unreal_cv_documentation/ignore_from_git/keras_graph_AI/test/'\n",
    "# # test_image_dir = glob.glob(os.path.join(root_test_dir, '*/*.png'))\n",
    "# test_image_dir=glob.glob(root_test_dir+ '/*.png')\n",
    "\n",
    "# np.random.shuffle(test_image_dir)\n",
    "# for test_img_path in test_image_dir:\n",
    "#     try:\n",
    "#         img = preprocess_img(io.imread(test_img_path))\n",
    "# #         label = get_class(img_path)\n",
    "#         test_imgs.append(img)\n",
    "# #         labels.append(label)\n",
    "\n",
    "#         if len(test_imgs)%1000 == 0: print(\"Processed {}/{}\".format(len(test_imgs), len(test_image_dir)))\n",
    "#             #print(\"get it 2\")\n",
    "#     except (IOError, OSError):\n",
    "#         print('missed', test_img_path)\n",
    "#         pass\n",
    "\n",
    "# Z = np.array(test_imgs, dtype='float32') #Keeping the image as an array\n",
    "# # Z_label = np.eye(NUM_CLASSES, dtype='uint8')[labels]\n",
    "# print(len(Z))\n",
    "# print(Z.shape)\n",
    "# # plt.show(1,3,0:,0:)\n",
    "# # print(Z.ndim)\n",
    "# # print(Z[0].size)"
   ]
  },
  {
   "cell_type": "code",
   "execution_count": 15,
   "metadata": {},
   "outputs": [
    {
     "name": "stdout",
     "output_type": "stream",
     "text": [
      "(57600, 3, 48, 48)\n",
      "4\n",
      "(3, 48, 48)\n",
      "(57600, 3, 48, 48)\n",
      "(57600, 16)\n"
     ]
    }
   ],
   "source": [
    "X = X.reshape(len(imgs),IMG_depth,IMG_SIZE,IMG_SIZE) # write (IMG_SIZE,IMG_SIZE,1 if you want channel last; 1= grayscale;3=RGB)\n",
    "# plt.imshow(X[0],cmap=\"gray\")\n",
    "print(X.shape)\n",
    "print(X.ndim)\n",
    "print(X[0].shape)\n",
    "\n",
    "print(X.shape)\n",
    "print(Y.shape)"
   ]
  },
  {
   "cell_type": "code",
   "execution_count": 16,
   "metadata": {},
   "outputs": [
    {
     "name": "stderr",
     "output_type": "stream",
     "text": [
      "WARNING: Logging before flag parsing goes to stderr.\n",
      "W0808 11:41:36.596012 139699305158464 deprecation_wrapper.py:119] From /home/atif/iai_ml_venv/lib/python3.6/site-packages/keras/backend/tensorflow_backend.py:64: The name tf.get_default_graph is deprecated. Please use tf.compat.v1.get_default_graph instead.\n",
      "\n",
      "W0808 11:41:36.610211 139699305158464 deprecation_wrapper.py:119] From /home/atif/iai_ml_venv/lib/python3.6/site-packages/keras/backend/tensorflow_backend.py:497: The name tf.placeholder is deprecated. Please use tf.compat.v1.placeholder instead.\n",
      "\n",
      "W0808 11:41:36.615441 139699305158464 deprecation_wrapper.py:119] From /home/atif/iai_ml_venv/lib/python3.6/site-packages/keras/backend/tensorflow_backend.py:3636: The name tf.random_uniform is deprecated. Please use tf.random.uniform instead.\n",
      "\n",
      "W0808 11:41:36.627099 139699305158464 deprecation_wrapper.py:119] From /home/atif/iai_ml_venv/lib/python3.6/site-packages/keras/backend/tensorflow_backend.py:159: The name tf.get_default_session is deprecated. Please use tf.compat.v1.get_default_session instead.\n",
      "\n",
      "W0808 11:41:36.627709 139699305158464 deprecation_wrapper.py:119] From /home/atif/iai_ml_venv/lib/python3.6/site-packages/keras/backend/tensorflow_backend.py:164: The name tf.ConfigProto is deprecated. Please use tf.compat.v1.ConfigProto instead.\n",
      "\n",
      "W0808 11:41:36.684187 139699305158464 deprecation_wrapper.py:119] From /home/atif/iai_ml_venv/lib/python3.6/site-packages/keras/backend/tensorflow_backend.py:3464: The name tf.nn.max_pool is deprecated. Please use tf.nn.max_pool2d instead.\n",
      "\n",
      "W0808 11:41:36.691428 139699305158464 deprecation.py:506] From /home/atif/iai_ml_venv/lib/python3.6/site-packages/keras/backend/tensorflow_backend.py:3019: calling dropout (from tensorflow.python.ops.nn_ops) with keep_prob is deprecated and will be removed in a future version.\n",
      "Instructions for updating:\n",
      "Please use `rate` instead of `keep_prob`. Rate should be set to `rate = 1 - keep_prob`.\n",
      "W0808 11:41:36.778860 139699305158464 deprecation.py:506] From /home/atif/iai_ml_venv/lib/python3.6/site-packages/keras/backend/tensorflow_backend.py:1264: calling reduce_prod_v1 (from tensorflow.python.ops.math_ops) with keep_dims is deprecated and will be removed in a future version.\n",
      "Instructions for updating:\n",
      "keep_dims is deprecated, use keepdims instead\n",
      "W0808 11:41:36.820414 139699305158464 deprecation_wrapper.py:119] From /home/atif/iai_ml_venv/lib/python3.6/site-packages/keras/optimizers.py:711: The name tf.train.Optimizer is deprecated. Please use tf.compat.v1.train.Optimizer instead.\n",
      "\n",
      "W0808 11:41:36.822120 139699305158464 deprecation.py:506] From /home/atif/iai_ml_venv/lib/python3.6/site-packages/keras/backend/tensorflow_backend.py:2885: calling reduce_sum_v1 (from tensorflow.python.ops.math_ops) with keep_dims is deprecated and will be removed in a future version.\n",
      "Instructions for updating:\n",
      "keep_dims is deprecated, use keepdims instead\n"
     ]
    }
   ],
   "source": [
    "def cnn_model():\n",
    "    model = Sequential()\n",
    "\n",
    "    model.add(Conv2D(32, (3, 3), padding='same',\n",
    "                     input_shape=(3, IMG_SIZE, IMG_SIZE),\n",
    "                     activation='relu'))\n",
    "    model.add(Conv2D(32, (3, 3), activation='relu'))\n",
    "    model.add(MaxPooling2D(pool_size=(2, 2)))\n",
    "    model.add(Dropout(0.2))\n",
    "\n",
    "    model.add(Conv2D(64, (3, 3), padding='same',\n",
    "                     activation='relu'))\n",
    "    model.add(Conv2D(64, (3, 3), activation='relu'))\n",
    "    model.add(MaxPooling2D(pool_size=(2, 2)))\n",
    "    model.add(Dropout(0.2))\n",
    "\n",
    "    model.add(Conv2D(128, (3, 3), padding='same',\n",
    "                     activation='relu'))\n",
    "    model.add(Conv2D(128, (3, 3), activation='relu'))\n",
    "    model.add(MaxPooling2D(pool_size=(2, 2)))\n",
    "    model.add(Dropout(0.2))\n",
    "\n",
    "    model.add(Flatten())\n",
    "    model.add(Dense(512, activation='relu'))\n",
    "    model.add(Dropout(0.5))\n",
    "    model.add(Dense(NUM_CLASSES, activation='softmax'))\n",
    "    return model\n",
    "\n",
    "model = cnn_model()\n",
    "\n",
    "lr = 0.01\n",
    "sgd = SGD(lr=lr, decay=1e-6, momentum=0.9, nesterov=True)\n",
    "model.compile(loss='categorical_crossentropy',\n",
    "          optimizer=sgd,\n",
    "          metrics=['accuracy'])"
   ]
  },
  {
   "cell_type": "code",
   "execution_count": 17,
   "metadata": {
    "scrolled": true
   },
   "outputs": [
    {
     "name": "stdout",
     "output_type": "stream",
     "text": [
      "_________________________________________________________________\n",
      "Layer (type)                 Output Shape              Param #   \n",
      "=================================================================\n",
      "conv2d_1 (Conv2D)            (None, 32, 48, 48)        896       \n",
      "_________________________________________________________________\n",
      "conv2d_2 (Conv2D)            (None, 32, 46, 46)        9248      \n",
      "_________________________________________________________________\n",
      "max_pooling2d_1 (MaxPooling2 (None, 32, 23, 23)        0         \n",
      "_________________________________________________________________\n",
      "dropout_1 (Dropout)          (None, 32, 23, 23)        0         \n",
      "_________________________________________________________________\n",
      "conv2d_3 (Conv2D)            (None, 64, 23, 23)        18496     \n",
      "_________________________________________________________________\n",
      "conv2d_4 (Conv2D)            (None, 64, 21, 21)        36928     \n",
      "_________________________________________________________________\n",
      "max_pooling2d_2 (MaxPooling2 (None, 64, 10, 10)        0         \n",
      "_________________________________________________________________\n",
      "dropout_2 (Dropout)          (None, 64, 10, 10)        0         \n",
      "_________________________________________________________________\n",
      "conv2d_5 (Conv2D)            (None, 128, 10, 10)       73856     \n",
      "_________________________________________________________________\n",
      "conv2d_6 (Conv2D)            (None, 128, 8, 8)         147584    \n",
      "_________________________________________________________________\n",
      "max_pooling2d_3 (MaxPooling2 (None, 128, 4, 4)         0         \n",
      "_________________________________________________________________\n",
      "dropout_3 (Dropout)          (None, 128, 4, 4)         0         \n",
      "_________________________________________________________________\n",
      "flatten_1 (Flatten)          (None, 2048)              0         \n",
      "_________________________________________________________________\n",
      "dense_1 (Dense)              (None, 512)               1049088   \n",
      "_________________________________________________________________\n",
      "dropout_4 (Dropout)          (None, 512)               0         \n",
      "_________________________________________________________________\n",
      "dense_2 (Dense)              (None, 16)                8208      \n",
      "=================================================================\n",
      "Total params: 1,344,304\n",
      "Trainable params: 1,344,304\n",
      "Non-trainable params: 0\n",
      "_________________________________________________________________\n"
     ]
    }
   ],
   "source": [
    "model.summary()"
   ]
  },
  {
   "cell_type": "code",
   "execution_count": 24,
   "metadata": {},
   "outputs": [],
   "source": [
    "path = '/home/atif/machine_learning_stuff/model_file_keras/'"
   ]
  },
  {
   "cell_type": "code",
   "execution_count": 29,
   "metadata": {
    "scrolled": true
   },
   "outputs": [
    {
     "name": "stdout",
     "output_type": "stream",
     "text": [
      "Train on 46080 samples, validate on 11520 samples\n",
      "Epoch 1/3\n",
      " - 207s - loss: 0.1030 - acc: 0.9672 - val_loss: 0.0311 - val_acc: 0.9914\n",
      "Epoch 2/3\n",
      " - 207s - loss: 0.0780 - acc: 0.9750 - val_loss: 0.0242 - val_acc: 0.9912\n",
      "Epoch 3/3\n",
      " - 208s - loss: 0.0725 - acc: 0.9775 - val_loss: 0.0097 - val_acc: 0.9973\n"
     ]
    }
   ],
   "source": [
    "def lr_schedule(epoch):\n",
    "    return lr * (0.1 ** int(epoch / 10))\n",
    "\n",
    "batch_size = 32\n",
    "epochs = 3\n",
    "do_train_model=model.fit(X, Y,\n",
    "          batch_size=batch_size,\n",
    "          epochs=epochs,\n",
    "          validation_split=0.2,verbose=2,\n",
    "          #np.resize(img, (-1, <image shape>)\n",
    "          callbacks=[LearningRateScheduler(lr_schedule),ModelCheckpoint(path+'07_aug_ep_3.h5', save_best_only=True)])"
   ]
  },
  {
   "cell_type": "code",
   "execution_count": 37,
   "metadata": {},
   "outputs": [
    {
     "name": "stdout",
     "output_type": "stream",
     "text": [
      "dict_keys(['val_loss', 'val_acc', 'loss', 'acc'])\n"
     ]
    },
    {
     "data": {
      "image/png": "[encoded data removed]",
      "text/plain": [
       "<Figure size 1440x720 with 1 Axes>"
      ]
     },
     "metadata": {
      "needs_background": "light"
     },
     "output_type": "display_data"
    }
   ],
   "source": [
    "# history = model.fit(X, Y, validation_split=0.33, epochs=1, batch_size=32, verbose=0)\n",
    "# list all data in history\n",
    "print(do_train_model.history.keys())\n",
    "# summarize history for accuracy\n",
    "plt.plot(do_train_model.history['acc'])\n",
    "plt.plot(do_train_model.history['val_acc'])\n",
    "plt.title('model accuracy')\n",
    "plt.ylabel('accuracy')\n",
    "plt.xlabel('epoch')\n",
    "plt.legend(['train_accuracy', 'validation_accuracy'], loc='upper left')\n",
    "plt.rcParams['figure.figsize'] =(20,10)\n",
    "plt.savefig(path+'epoch_vs_accuracy.jpg')\n",
    "# plt.show()"
   ]
  },
  {
   "cell_type": "code",
   "execution_count": 38,
   "metadata": {},
   "outputs": [
    {
     "name": "stdout",
     "output_type": "stream",
     "text": [
      "dict_keys(['val_loss', 'val_acc', 'loss', 'acc'])\n"
     ]
    },
    {
     "data": {
      "image/png": "[encoded data removed]",
      "text/plain": [
       "<Figure size 1440x720 with 1 Axes>"
      ]
     },
     "metadata": {
      "needs_background": "light"
     },
     "output_type": "display_data"
    }
   ],
   "source": [
    "print(do_train_model.history.keys())\n",
    "# summarize history for accuracy\n",
    "plt.plot(do_train_model.history['loss'])\n",
    "plt.plot(do_train_model.history['val_loss'])\n",
    "plt.title('model loss')\n",
    "plt.ylabel('loss')\n",
    "plt.xlabel('epoch')\n",
    "plt.legend(['train_loss', 'validation_loss'], loc='upper left')\n",
    "plt.savefig(path+'epoch_vs_loss.jpg')\n",
    "# plt.show()"
   ]
  },
  {
   "cell_type": "code",
   "execution_count": 48,
   "metadata": {},
   "outputs": [
    {
     "name": "stdout",
     "output_type": "stream",
     "text": [
      "\n",
      " /home/atif/machine_learning_stuff/ml_image/test_image_AI/calgonit_finish_1035.png\n",
      "predicted class:  [0]\n",
      "probability:  [[9.9996901e-01 3.0564499e-07 1.8806542e-08 1.2785509e-07 3.0512660e-05]]\n",
      "\n",
      " /home/atif/machine_learning_stuff/ml_image/test_image_AI/somat_1004.png\n",
      "predicted class:  [3]\n",
      "probability:  [[3.9763695e-06 6.8789525e-03 5.3318934e-07 9.9311650e-01 2.5536767e-10]]\n",
      "\n",
      " /home/atif/machine_learning_stuff/ml_image/test_image_AI/chair_485.png\n",
      "predicted class:  [3]\n",
      "probability:  [[3.6152040e-03 1.1302011e-04 1.7140892e-05 9.9625456e-01 1.8010171e-11]]\n",
      "\n",
      " /home/atif/machine_learning_stuff/ml_image/test_image_AI/rock_875.png\n",
      "predicted class:  [3]\n",
      "probability:  [[9.7615145e-07 1.9497223e-07 7.0287001e-06 9.9999166e-01 9.3392075e-08]]\n",
      "\n",
      " /home/atif/machine_learning_stuff/ml_image/test_image_AI/chair_105.png\n",
      "predicted class:  [3]\n",
      "probability:  [[1.8932965e-07 1.5194129e-07 9.3841118e-05 9.9990582e-01 2.3584274e-08]]\n",
      "\n",
      " /home/atif/machine_learning_stuff/ml_image/test_image_AI/calgonit_finish_435.png\n",
      "predicted class:  [0]\n",
      "probability:  [[9.5557511e-01 2.1860212e-06 2.4987843e-08 5.5061621e-03 3.8916603e-02]]\n",
      "\n",
      " /home/atif/machine_learning_stuff/ml_image/test_image_AI/table_555.png\n",
      "predicted class:  [1]\n",
      "probability:  [[8.1589644e-15 1.0000000e+00 1.9908557e-22 5.7913133e-15 7.6316737e-29]]\n",
      "\n",
      " /home/atif/machine_learning_stuff/ml_image/test_image_AI/chair_22.png\n",
      "predicted class:  [1]\n",
      "probability:  [[1.3799081e-07 8.8842142e-01 3.5976919e-11 1.1157854e-01 1.0964300e-16]]\n",
      "\n",
      " /home/atif/machine_learning_stuff/ml_image/test_image_AI/chair_904.png\n",
      "predicted class:  [1]\n",
      "probability:  [[6.0426622e-11 9.9999928e-01 5.7248023e-14 6.9719636e-07 6.6129109e-19]]\n",
      "\n",
      " /home/atif/machine_learning_stuff/ml_image/test_image_AI/calgonit_finish_24.png\n",
      "predicted class:  [0]\n",
      "probability:  [[9.0596312e-01 2.8271252e-05 1.5359215e-06 8.3696439e-05 9.3923308e-02]]\n",
      "\n",
      " /home/atif/machine_learning_stuff/ml_image/test_image_AI/somat_374.png\n",
      "predicted class:  [3]\n",
      "probability:  [[4.9809329e-03 3.9876960e-04 1.5895547e-04 6.6561764e-01 3.2884374e-01]]\n",
      "\n",
      " /home/atif/machine_learning_stuff/ml_image/test_image_AI/somat_34.png\n",
      "predicted class:  [0]\n",
      "probability:  [[9.8371589e-01 3.9524571e-03 9.6347162e-07 1.1977068e-02 3.5367193e-04]]\n",
      "\n",
      " /home/atif/machine_learning_stuff/ml_image/test_image_AI/calgonit_finish_974.png\n",
      "predicted class:  [0]\n",
      "probability:  [[7.9826897e-01 6.4575352e-07 8.0795317e-08 2.5951246e-02 1.7577894e-01]]\n",
      "\n",
      " /home/atif/machine_learning_stuff/ml_image/test_image_AI/calgonit_finish_824.png\n",
      "predicted class:  [0]\n",
      "probability:  [[9.9820578e-01 1.0300521e-06 2.1656295e-05 1.1059318e-03 6.6557009e-04]]\n",
      "\n",
      " /home/atif/machine_learning_stuff/ml_image/test_image_AI/rock_44.png\n",
      "predicted class:  [3]\n",
      "probability:  [[2.5555270e-03 1.7468301e-08 4.1469229e-14 9.9744451e-01 2.7338874e-08]]\n",
      "\n",
      " /home/atif/machine_learning_stuff/ml_image/test_image_AI/chair_1034.png\n",
      "predicted class:  [1]\n",
      "probability:  [[4.2352820e-08 9.9999928e-01 5.7299714e-17 6.7316665e-07 3.2147051e-22]]\n",
      "\n",
      " /home/atif/machine_learning_stuff/ml_image/test_image_AI/somat_74.png\n",
      "predicted class:  [4]\n",
      "probability:  [[7.6418696e-03 2.0330944e-03 1.6760988e-04 2.4615860e-05 9.9013281e-01]]\n",
      "\n",
      " /home/atif/machine_learning_stuff/ml_image/test_image_AI/table_1044.png\n",
      "predicted class:  [1]\n",
      "probability:  [[1.9059869e-16 1.0000000e+00 9.9183774e-27 2.4424473e-17 3.9920844e-34]]\n",
      "\n",
      " /home/atif/machine_learning_stuff/ml_image/test_image_AI/somat_553.png\n",
      "predicted class:  [1]\n",
      "probability:  [[1.3138471e-09 9.2061055e-01 3.3304732e-09 7.9389483e-02 8.8312002e-15]]\n"
     ]
    }
   ],
   "source": [
    "from keras.models import load_model\n",
    "model = load_model('/home/atif/machine_learning_stuff/model_file_keras/07_aug_ep_5.h5')\n",
    "#for gray scale\n",
    "def preprocess_img(img):\n",
    "#     Histogram normalization in y\n",
    "    hsv = color.rgb2hsv(img)\n",
    "    hsv[:,:,2] = exposure.equalize_hist(hsv[:,:,2])\n",
    "    img = color.hsv2rgb(hsv)\n",
    "\n",
    "    # central scrop\n",
    "    min_side = min(img.shape[:-1])\n",
    "    centre = img.shape[0]//2, img.shape[1]//2\n",
    "    img = img[centre[0]-min_side//2:centre[0]+min_side//2,\n",
    "              centre[1]-min_side//2:centre[1]+min_side//2,\n",
    "              :]\n",
    "#     img = rgb2gray(img)\n",
    "\n",
    "    # rescale to standard size\n",
    "    img = transform.resize(img, (IMG_SIZE, IMG_SIZE))\n",
    "\n",
    "    # roll color axis to axis 0\n",
    "    img = np.rollaxis(img,-1)\n",
    "\n",
    "    return img\n",
    "\n",
    "import glob\n",
    "\n",
    "path = r'/home/atif/machine_learning_stuff/ml_image/test_image_AI/'\n",
    "\n",
    "img_path = glob.glob(path+ '/*.png')\n",
    "for image in img_path:\n",
    "    X_test=[]\n",
    "    X_test.append(preprocess_img(io.imread(image)))\n",
    "    X_test = np.array(X_test)\n",
    "#     plt.imshow(X_test)\n",
    "    X_test = X_test.reshape(len(X_test),3,IMG_SIZE,IMG_SIZE)\n",
    "    \n",
    "    print(\"\\n\",image)\n",
    "    predicted_class = model.predict_classes(X_test)\n",
    "    print(\"predicted class: \",predicted_class)\n",
    "    \n",
    "    probability = model.predict_proba(X_test)\n",
    "    print(\"probability: \",probability)\n",
    "    \n",
    "#     evaluate=model.evaluate(X_test)\n",
    "#     print(\"\\nEvaluation\",evaluate)"
   ]
  },
  {
   "cell_type": "code",
   "execution_count": 49,
   "metadata": {},
   "outputs": [],
   "source": [
    "import tensorflow as tf\n",
    "from tensorflow.python.client import device_lib"
   ]
  },
  {
   "cell_type": "code",
   "execution_count": 50,
   "metadata": {},
   "outputs": [
    {
     "data": {
      "text/plain": [
       "[name: \"/device:CPU:0\"\n",
       " device_type: \"CPU\"\n",
       " memory_limit: 268435456\n",
       " locality {\n",
       " }\n",
       " incarnation: 7613574926921769401, name: \"/device:XLA_CPU:0\"\n",
       " device_type: \"XLA_CPU\"\n",
       " memory_limit: 17179869184\n",
       " locality {\n",
       " }\n",
       " incarnation: 6670460804252057397\n",
       " physical_device_desc: \"device: XLA_CPU device\"]"
      ]
     },
     "execution_count": 50,
     "metadata": {},
     "output_type": "execute_result"
    }
   ],
   "source": [
    "\n",
    "device_lib.list_local_devices()"
   ]
  },
  {
   "cell_type": "code",
   "execution_count": null,
   "metadata": {},
   "outputs": [],
   "source": []
  }
 ],
 "metadata": {
  "kernelspec": {
   "display_name": "Python 3",
   "language": "python",
   "name": "python3"
  },
  "language_info": {
   "codemirror_mode": {
    "name": "ipython",
    "version": 3
   },
   "file_extension": ".py",
   "mimetype": "text/x-python",
   "name": "python",
   "nbconvert_exporter": "python",
   "pygments_lexer": "ipython3",
   "version": "3.6.8"
  }
 },
 "nbformat": 4,
 "nbformat_minor": 2
}
