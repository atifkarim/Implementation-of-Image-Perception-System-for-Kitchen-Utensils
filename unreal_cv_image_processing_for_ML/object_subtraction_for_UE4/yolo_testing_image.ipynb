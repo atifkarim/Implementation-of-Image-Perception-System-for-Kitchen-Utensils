{
 "cells": [
  {
   "cell_type": "code",
   "execution_count": 1,
   "metadata": {},
   "outputs": [],
   "source": [
    "import numpy as np"
   ]
  },
  {
   "cell_type": "code",
   "execution_count": 2,
   "metadata": {},
   "outputs": [],
   "source": [
    "import os"
   ]
  },
  {
   "cell_type": "code",
   "execution_count": 3,
   "metadata": {},
   "outputs": [],
   "source": [
    "path = '/media/atif/0820209220208930/unreal_cv_documentation/my_dir/RGB_info'"
   ]
  },
  {
   "cell_type": "code",
   "execution_count": 4,
   "metadata": {},
   "outputs": [
    {
     "name": "stdout",
     "output_type": "stream",
     "text": [
      "d:  color_info_SM_CalgonitFinishKlarspueler_3.txt\n",
      "d:  color_info_SM_CalgonitFinishVorratspack_12.txt\n",
      "d:  color_info_SM_DenkMitEdelstahlReinigerSpray_18.txt\n",
      "d:  color_info_SM_DenkMitSpezialsalz_15.txt\n"
     ]
    }
   ],
   "source": [
    "f = 1\n",
    "\n",
    "for a,b,file in os.walk(path):\n",
    "    for d in file:\n",
    "        os.system(\"ls -l d\")\n",
    "        print('d: ',d)\n",
    "        print('name: ',os.system(\"ls -l d\"))\n",
    "#         os.system(\"./darknet detector test data/obj.data cfg/yolo-obj.cfg backup/yolo-obj_6200.weights data/test_image/d -out data/test_image_output/d+'out'+f\")\n",
    "        f +=1"
   ]
  },
  {
   "cell_type": "code",
   "execution_count": 6,
   "metadata": {},
   "outputs": [
    {
     "data": {
      "text/plain": [
       "512"
      ]
     },
     "execution_count": 6,
     "metadata": {},
     "output_type": "execute_result"
    }
   ],
   "source": [
    "os.system('ls path')"
   ]
  },
  {
   "cell_type": "code",
   "execution_count": null,
   "metadata": {},
   "outputs": [],
   "source": []
  }
 ],
 "metadata": {
  "kernelspec": {
   "display_name": "Python 3",
   "language": "python",
   "name": "python3"
  },
  "language_info": {
   "codemirror_mode": {
    "name": "ipython",
    "version": 3
   },
   "file_extension": ".py",
   "mimetype": "text/x-python",
   "name": "python",
   "nbconvert_exporter": "python",
   "pygments_lexer": "ipython3",
   "version": "3.6.8"
  }
 },
 "nbformat": 4,
 "nbformat_minor": 2
}
