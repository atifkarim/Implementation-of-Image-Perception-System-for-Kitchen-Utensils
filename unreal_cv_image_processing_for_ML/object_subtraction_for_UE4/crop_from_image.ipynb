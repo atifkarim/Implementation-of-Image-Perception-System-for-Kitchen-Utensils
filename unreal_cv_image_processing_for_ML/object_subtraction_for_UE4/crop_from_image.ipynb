{
 "cells": [
  {
   "cell_type": "code",
   "execution_count": null,
   "metadata": {},
   "outputs": [],
   "source": [
    "import numpy as np\n",
    "import cv2\n",
    "from matplotlib import pyplot as plt\n",
    "img = cv2.imread('F:/save_image_ai/object_subtraction_for_UE4/1_mask.png')\n",
    "mask = np.zeros(img.shape[:2],np.uint8)\n",
    "bgdModel = np.zeros((1,65),np.float64)\n",
    "fgdModel = np.zeros((1,65),np.float64)\n",
    "rect = (50,50,450,290)\n",
    "cv2.grabCut(img,mask,rect,bgdModel,fgdModel,5,cv2.GC_INIT_WITH_RECT)\n",
    "mask2 = np.where((mask==2)|(mask==0),0,1).astype('uint8')\n",
    "img = img*mask2[:,:,np.newaxis]\n",
    "plt.imshow(img)\n",
    "# plt.colorbar(),plt.show()"
   ]
  },
  {
   "cell_type": "code",
   "execution_count": null,
   "metadata": {},
   "outputs": [],
   "source": [
    "frame = cv2.imread(\"F:/save_image_ai/object_subtraction_for_UE4/1_mask.png\")\n",
    "lower_black = np.array([0,0,0], dtype = \"uint16\")q\n",
    "upper_black = np.array([70,70,70], dtype = \"uint16\")\n",
    "light_white = (0, 0, 200)\n",
    "dark_white = (145, 60, 255)\n",
    "# black_mask = cv2.inRange(frame, lower_black, upper_black)\n",
    "black_mask = cv2.inRange(frame, light_white,dark_white)\n",
    "frame[np.where((frame == [0]).all(axis = 2))] = [0]     # it works\n",
    "black_mask[np.where((black_mask == [0]).all(axis = 1))] = [255]\n",
    "cv2.imshow('Test', frame)\n",
    "# cv2.imshow('Test2', raw)\n",
    "if cv2.waitKey() == ord('q'):\n",
    "    cv2.destroyAllWindows()"
   ]
  },
  {
   "cell_type": "code",
   "execution_count": null,
   "metadata": {},
   "outputs": [],
   "source": []
  },
  {
   "cell_type": "code",
   "execution_count": null,
   "metadata": {},
   "outputs": [],
   "source": [
    "import cv2\n",
    "\n",
    "frame = cv2.imread(\"F:/save_image_ai/object_subtraction_for_UE4/1_mask.png\")\n",
    "hsv = cv2.cvtColor(frame, cv2.COLOR_BGR2HSV)\n",
    "\n",
    "cv2.imshow('hsv',hsv)\n",
    "if cv2.waitKey() == ord('q'):\n",
    "    cv2.destroyAllWindows()"
   ]
  },
  {
   "cell_type": "code",
   "execution_count": null,
   "metadata": {},
   "outputs": [],
   "source": [
    " %matplotlib inline\n",
    "import cv2\n",
    "import numpy\n",
    "import matplotlib as plt\n",
    "\n",
    "frame = cv2.imread('F:/save_image_ai/object_subtraction_for_UE4/1_rgb.png')\n",
    "if frame is None:\n",
    "    print('Error loading image')\n",
    "    exit()\n",
    "\n",
    "hsv = cv2.cvtColor(frame, cv2.COLOR_BGR2HSV)\n",
    "\n",
    "hsv_channels = cv2.split(hsv)\n",
    "\n",
    "rows = frame.shape[0]\n",
    "cols = frame.shape[1]\n",
    "\n",
    "for i in range(0, rows):\n",
    "    for j in range(0, cols):\n",
    "        h = hsv_channels[0][i][j]\n",
    "\n",
    "        if h > 90 and h < 255:\n",
    "            hsv_channels[2][i][j] = 255\n",
    "        else:\n",
    "            hsv_channels[2][i][j] = 0\n",
    "\n",
    "cv2.imshow(\"original\",frame)\n",
    "cv2.imshow(\"show0\", hsv_channels[0])\n",
    "cv2.imshow(\"show1\", hsv_channels[1])\n",
    "cv2.imshow(\"show2\", hsv_channels[2])\n",
    "# cv2.imwrite('F:/save_image_ai/object_subtraction_for_UE4/t_1_1.png',hsv_channels[1])\n",
    "# x1=250\n",
    "# y1=200\n",
    "# x2=400\n",
    "# y2=150\n",
    "# cv2.rectangle(hsv_channels[1], (x1, y1), (x2, y2), (0,255,0), 2)\n",
    "# cv2.imwrite(\"F:/save_image_ai/object_subtraction_for_UE4/t_1_rec.png\",hsv_channels[1])\n",
    "# cv2.imshow('rec',hsv_channels[1])\n",
    "\n",
    "if cv2.waitKey() == ord('q'):\n",
    "    cv2.destroyAllWindows()"
   ]
  },
  {
   "cell_type": "code",
   "execution_count": 2,
   "metadata": {},
   "outputs": [],
   "source": [
    "#without for loop\n",
    "\n",
    "%matplotlib inline\n",
    "import cv2\n",
    "import numpy\n",
    "import matplotlib as plt\n",
    "\n",
    "frame = cv2.imread('/media/atif/0820209220208930/unreal_cv_documentation/unreal_cv_image_processing_for_ML/object_subtraction_for_UE4/1_mask.png') #load masked image\n",
    "if frame is None:\n",
    "    print('Error loading image')\n",
    "    exit()\n",
    "\n",
    "hsv = cv2.cvtColor(frame, cv2.COLOR_BGR2HSV) #convert to hsv\n",
    "\n",
    "hsv_channels = cv2.split(hsv) #split the hsv color\n",
    "\n",
    "rows = frame.shape[0]\n",
    "cols = frame.shape[1]\n",
    "\n",
    "cv2.imshow(\"original\",frame)\n",
    "cv2.imshow(\"show0\", hsv_channels[0])\n",
    "cv2.imshow(\"show1\", hsv_channels[1])\n",
    "# cv2.imshow(\"show2\", hsv_channels[2])\n",
    "_,thresh=cv2.threshold(hsv_channels[1],140,255,cv2.THRESH_BINARY_INV) #thresholding done for detecting contour\n",
    "cv2.imshow('thresh',thresh)\n",
    "_, contours, _ = cv2.findContours(thresh, cv2.RETR_EXTERNAL, cv2.CHAIN_APPROX_SIMPLE)\n",
    "cv2.drawContours(frame,contours,-1,(0,255,0),2)\n",
    "cv2.imshow('contour',frame)\n",
    "\n",
    "if cv2.waitKey() == ord('q'): #press q to close the output image window\n",
    "    cv2.destroyAllWindows()"
   ]
  },
  {
   "cell_type": "code",
   "execution_count": 16,
   "metadata": {},
   "outputs": [],
   "source": [
    "import cv2\n",
    "\n",
    "rgb_img = cv2.imread('F:/save_image_ai/object_subtraction_for_UE4/1_mask.png')\n",
    "gray_img=cv2.cvtColor(rgb_img,cv2.COLOR_BGR2GRAY)\n",
    "\n",
    "_,thresh=cv2.threshold(gray_img,225,255,cv2.THRESH_BINARY_INV)\n",
    "cv2.imshow('thresh',thresh)\n",
    "\n",
    "if cv2.waitKey() == ord('q'):\n",
    "    cv2.destroyAllWindows()"
   ]
  },
  {
   "cell_type": "code",
   "execution_count": null,
   "metadata": {},
   "outputs": [],
   "source": []
  }
 ],
 "metadata": {
  "kernelspec": {
   "display_name": "Python 3",
   "language": "python",
   "name": "python3"
  },
  "language_info": {
   "codemirror_mode": {
    "name": "ipython",
    "version": 3
   },
   "file_extension": ".py",
   "mimetype": "text/x-python",
   "name": "python",
   "nbconvert_exporter": "python",
   "pygments_lexer": "ipython3",
   "version": "3.6.5"
  }
 },
 "nbformat": 4,
 "nbformat_minor": 2
}
