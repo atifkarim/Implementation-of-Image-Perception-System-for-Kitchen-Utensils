{
 "cells": [
  {
   "cell_type": "code",
   "execution_count": 1,
   "metadata": {},
   "outputs": [],
   "source": [
    "import numpy as np\n",
    "import cv2\n",
    "import os\n",
    "import imutils"
   ]
  },
  {
   "cell_type": "code",
   "execution_count": 9,
   "metadata": {},
   "outputs": [],
   "source": [
    "path = '/home/atif/Task_patrick_compare_real_with_unreal/image_lab/'\n",
    "\n",
    "path_resized_image = '/home/atif/Task_patrick_compare_real_with_unreal/resized_image_lab/'"
   ]
  },
  {
   "cell_type": "code",
   "execution_count": 13,
   "metadata": {},
   "outputs": [
    {
     "name": "stdout",
     "output_type": "stream",
     "text": [
      "original_shape:  (4032, 3024, 3) ***** resized_image_shape:  (853, 640, 3)\n",
      "original_shape:  (4032, 3024, 3) ***** resized_image_shape:  (853, 640, 3)\n",
      "original_shape:  (4032, 3024, 3) ***** resized_image_shape:  (853, 640, 3)\n",
      "original_shape:  (4032, 3024, 3) ***** resized_image_shape:  (853, 640, 3)\n",
      "original_shape:  (4032, 3024, 3) ***** resized_image_shape:  (853, 640, 3)\n",
      "original_shape:  (4032, 3024, 3) ***** resized_image_shape:  (853, 640, 3)\n",
      "original_shape:  (4032, 3024, 3) ***** resized_image_shape:  (853, 640, 3)\n",
      "original_shape:  (4032, 3024, 3) ***** resized_image_shape:  (853, 640, 3)\n",
      "original_shape:  (4032, 3024, 3) ***** resized_image_shape:  (853, 640, 3)\n",
      "original_shape:  (4032, 3024, 3) ***** resized_image_shape:  (853, 640, 3)\n",
      "original_shape:  (4032, 3024, 3) ***** resized_image_shape:  (853, 640, 3)\n",
      "original_shape:  (4032, 3024, 3) ***** resized_image_shape:  (853, 640, 3)\n",
      "original_shape:  (4032, 3024, 3) ***** resized_image_shape:  (853, 640, 3)\n",
      "original_shape:  (4032, 3024, 3) ***** resized_image_shape:  (853, 640, 3)\n",
      "original_shape:  (4032, 3024, 3) ***** resized_image_shape:  (853, 640, 3)\n",
      "original_shape:  (4032, 3024, 3) ***** resized_image_shape:  (853, 640, 3)\n",
      "original_shape:  (4032, 3024, 3) ***** resized_image_shape:  (853, 640, 3)\n",
      "original_shape:  (4032, 3024, 3) ***** resized_image_shape:  (853, 640, 3)\n",
      "original_shape:  (4032, 3024, 3) ***** resized_image_shape:  (853, 640, 3)\n",
      "original_shape:  (4032, 3024, 3) ***** resized_image_shape:  (853, 640, 3)\n",
      "original_shape:  (4032, 3024, 3) ***** resized_image_shape:  (853, 640, 3)\n",
      "original_shape:  (4032, 3024, 3) ***** resized_image_shape:  (853, 640, 3)\n",
      "original_shape:  (4032, 3024, 3) ***** resized_image_shape:  (853, 640, 3)\n",
      "original_shape:  (4032, 3024, 3) ***** resized_image_shape:  (853, 640, 3)\n",
      "original_shape:  (4032, 3024, 3) ***** resized_image_shape:  (853, 640, 3)\n",
      "original_shape:  (4032, 3024, 3) ***** resized_image_shape:  (853, 640, 3)\n",
      "original_shape:  (4032, 3024, 3) ***** resized_image_shape:  (853, 640, 3)\n",
      "original_shape:  (4032, 3024, 3) ***** resized_image_shape:  (853, 640, 3)\n",
      "original_shape:  (4032, 3024, 3) ***** resized_image_shape:  (853, 640, 3)\n",
      "original_shape:  (4032, 3024, 3) ***** resized_image_shape:  (853, 640, 3)\n",
      "original_shape:  (4032, 3024, 3) ***** resized_image_shape:  (853, 640, 3)\n",
      "original_shape:  (4032, 3024, 3) ***** resized_image_shape:  (853, 640, 3)\n",
      "original_shape:  (4032, 3024, 3) ***** resized_image_shape:  (853, 640, 3)\n",
      "original_shape:  (4032, 3024, 3) ***** resized_image_shape:  (853, 640, 3)\n",
      "original_shape:  (4032, 3024, 3) ***** resized_image_shape:  (853, 640, 3)\n",
      "original_shape:  (4032, 3024, 3) ***** resized_image_shape:  (853, 640, 3)\n",
      "original_shape:  (4032, 3024, 3) ***** resized_image_shape:  (853, 640, 3)\n",
      "original_shape:  (4032, 3024, 3) ***** resized_image_shape:  (853, 640, 3)\n",
      "original_shape:  (4032, 3024, 3) ***** resized_image_shape:  (853, 640, 3)\n",
      "original_shape:  (4032, 3024, 3) ***** resized_image_shape:  (853, 640, 3)\n",
      "original_shape:  (4032, 3024, 3) ***** resized_image_shape:  (853, 640, 3)\n",
      "original_shape:  (4032, 3024, 3) ***** resized_image_shape:  (853, 640, 3)\n",
      "original_shape:  (4032, 3024, 3) ***** resized_image_shape:  (853, 640, 3)\n",
      "original_shape:  (4032, 3024, 3) ***** resized_image_shape:  (853, 640, 3)\n",
      "original_shape:  (4032, 3024, 3) ***** resized_image_shape:  (853, 640, 3)\n",
      "original_shape:  (4032, 3024, 3) ***** resized_image_shape:  (853, 640, 3)\n",
      "original_shape:  (4032, 3024, 3) ***** resized_image_shape:  (853, 640, 3)\n",
      "original_shape:  (4032, 3024, 3) ***** resized_image_shape:  (853, 640, 3)\n",
      "original_shape:  (4032, 3024, 3) ***** resized_image_shape:  (853, 640, 3)\n",
      "original_shape:  (4032, 3024, 3) ***** resized_image_shape:  (853, 640, 3)\n",
      "original_shape:  (4032, 3024, 3) ***** resized_image_shape:  (853, 640, 3)\n",
      "original_shape:  (4032, 3024, 3) ***** resized_image_shape:  (853, 640, 3)\n",
      "original_shape:  (4032, 3024, 3) ***** resized_image_shape:  (853, 640, 3)\n",
      "original_shape:  (4032, 3024, 3) ***** resized_image_shape:  (853, 640, 3)\n",
      "original_shape:  (4032, 3024, 3) ***** resized_image_shape:  (853, 640, 3)\n",
      "original_shape:  (4032, 3024, 3) ***** resized_image_shape:  (853, 640, 3)\n",
      "original_shape:  (4032, 3024, 3) ***** resized_image_shape:  (853, 640, 3)\n",
      "original_shape:  (4032, 3024, 3) ***** resized_image_shape:  (853, 640, 3)\n",
      "original_shape:  (4032, 3024, 3) ***** resized_image_shape:  (853, 640, 3)\n",
      "original_shape:  (4032, 3024, 3) ***** resized_image_shape:  (853, 640, 3)\n",
      "original_shape:  (4032, 3024, 3) ***** resized_image_shape:  (853, 640, 3)\n",
      "original_shape:  (4032, 3024, 3) ***** resized_image_shape:  (853, 640, 3)\n",
      "original_shape:  (4032, 3024, 3) ***** resized_image_shape:  (853, 640, 3)\n",
      "original_shape:  (4032, 3024, 3) ***** resized_image_shape:  (853, 640, 3)\n",
      "original_shape:  (4032, 3024, 3) ***** resized_image_shape:  (853, 640, 3)\n",
      "original_shape:  (4032, 3024, 3) ***** resized_image_shape:  (853, 640, 3)\n",
      "original_shape:  (4032, 3024, 3) ***** resized_image_shape:  (853, 640, 3)\n",
      "original_shape:  (4032, 3024, 3) ***** resized_image_shape:  (853, 640, 3)\n",
      "original_shape:  (4032, 3024, 3) ***** resized_image_shape:  (853, 640, 3)\n",
      "original_shape:  (4032, 3024, 3) ***** resized_image_shape:  (853, 640, 3)\n",
      "original_shape:  (4032, 3024, 3) ***** resized_image_shape:  (853, 640, 3)\n",
      "original_shape:  (4032, 3024, 3) ***** resized_image_shape:  (853, 640, 3)\n",
      "original_shape:  (4032, 3024, 3) ***** resized_image_shape:  (853, 640, 3)\n",
      "original_shape:  (4032, 3024, 3) ***** resized_image_shape:  (853, 640, 3)\n",
      "original_shape:  (4032, 3024, 3) ***** resized_image_shape:  (853, 640, 3)\n",
      "original_shape:  (4032, 3024, 3) ***** resized_image_shape:  (853, 640, 3)\n",
      "original_shape:  (4032, 3024, 3) ***** resized_image_shape:  (853, 640, 3)\n",
      "original_shape:  (4032, 3024, 3) ***** resized_image_shape:  (853, 640, 3)\n",
      "original_shape:  (4032, 3024, 3) ***** resized_image_shape:  (853, 640, 3)\n",
      "original_shape:  (4032, 3024, 3) ***** resized_image_shape:  (853, 640, 3)\n",
      "original_shape:  (4032, 3024, 3) ***** resized_image_shape:  (853, 640, 3)\n",
      "original_shape:  (4032, 3024, 3) ***** resized_image_shape:  (853, 640, 3)\n",
      "original_shape:  (4032, 3024, 3) ***** resized_image_shape:  (853, 640, 3)\n",
      "original_shape:  (4032, 3024, 3) ***** resized_image_shape:  (853, 640, 3)\n",
      "original_shape:  (4032, 3024, 3) ***** resized_image_shape:  (853, 640, 3)\n",
      "original_shape:  (4032, 3024, 3) ***** resized_image_shape:  (853, 640, 3)\n",
      "original_shape:  (4032, 3024, 3) ***** resized_image_shape:  (853, 640, 3)\n",
      "original_shape:  (4032, 3024, 3) ***** resized_image_shape:  (853, 640, 3)\n",
      "original_shape:  (4032, 3024, 3) ***** resized_image_shape:  (853, 640, 3)\n",
      "original_shape:  (4032, 3024, 3) ***** resized_image_shape:  (853, 640, 3)\n",
      "original_shape:  (4032, 3024, 3) ***** resized_image_shape:  (853, 640, 3)\n",
      "original_shape:  (4032, 3024, 3) ***** resized_image_shape:  (853, 640, 3)\n",
      "original_shape:  (4032, 3024, 3) ***** resized_image_shape:  (853, 640, 3)\n",
      "original_shape:  (4032, 3024, 3) ***** resized_image_shape:  (853, 640, 3)\n",
      "original_shape:  (4032, 3024, 3) ***** resized_image_shape:  (853, 640, 3)\n",
      "original_shape:  (4032, 3024, 3) ***** resized_image_shape:  (853, 640, 3)\n",
      "original_shape:  (4032, 3024, 3) ***** resized_image_shape:  (853, 640, 3)\n",
      "original_shape:  (4032, 3024, 3) ***** resized_image_shape:  (853, 640, 3)\n",
      "original_shape:  (4032, 3024, 3) ***** resized_image_shape:  (853, 640, 3)\n",
      "original_shape:  (4032, 3024, 3) ***** resized_image_shape:  (853, 640, 3)\n",
      "original_shape:  (4032, 3024, 3) ***** resized_image_shape:  (853, 640, 3)\n",
      "original_shape:  (4032, 3024, 3) ***** resized_image_shape:  (853, 640, 3)\n",
      "original_shape:  (4032, 3024, 3) ***** resized_image_shape:  (853, 640, 3)\n",
      "original_shape:  (4032, 3024, 3) ***** resized_image_shape:  (853, 640, 3)\n",
      "original_shape:  (4032, 3024, 3) ***** resized_image_shape:  (853, 640, 3)\n",
      "original_shape:  (4032, 3024, 3) ***** resized_image_shape:  (853, 640, 3)\n",
      "original_shape:  (4032, 3024, 3) ***** resized_image_shape:  (853, 640, 3)\n",
      "original_shape:  (4032, 3024, 3) ***** resized_image_shape:  (853, 640, 3)\n",
      "original_shape:  (4032, 3024, 3) ***** resized_image_shape:  (853, 640, 3)\n",
      "original_shape:  (4032, 3024, 3) ***** resized_image_shape:  (853, 640, 3)\n"
     ]
    },
    {
     "name": "stdout",
     "output_type": "stream",
     "text": [
      "original_shape:  (4032, 3024, 3) ***** resized_image_shape:  (853, 640, 3)\n",
      "original_shape:  (4032, 3024, 3) ***** resized_image_shape:  (853, 640, 3)\n",
      "original_shape:  (4032, 3024, 3) ***** resized_image_shape:  (853, 640, 3)\n",
      "original_shape:  (4032, 3024, 3) ***** resized_image_shape:  (853, 640, 3)\n",
      "original_shape:  (4032, 3024, 3) ***** resized_image_shape:  (853, 640, 3)\n",
      "original_shape:  (4032, 3024, 3) ***** resized_image_shape:  (853, 640, 3)\n",
      "original_shape:  (4032, 3024, 3) ***** resized_image_shape:  (853, 640, 3)\n",
      "original_shape:  (4032, 3024, 3) ***** resized_image_shape:  (853, 640, 3)\n",
      "original_shape:  (4032, 3024, 3) ***** resized_image_shape:  (853, 640, 3)\n",
      "original_shape:  (4032, 3024, 3) ***** resized_image_shape:  (853, 640, 3)\n",
      "original_shape:  (4032, 3024, 3) ***** resized_image_shape:  (853, 640, 3)\n",
      "original_shape:  (4032, 3024, 3) ***** resized_image_shape:  (853, 640, 3)\n",
      "original_shape:  (4032, 3024, 3) ***** resized_image_shape:  (853, 640, 3)\n",
      "original_shape:  (4032, 3024, 3) ***** resized_image_shape:  (853, 640, 3)\n",
      "original_shape:  (4032, 3024, 3) ***** resized_image_shape:  (853, 640, 3)\n",
      "original_shape:  (4032, 3024, 3) ***** resized_image_shape:  (853, 640, 3)\n",
      "original_shape:  (4032, 3024, 3) ***** resized_image_shape:  (853, 640, 3)\n",
      "original_shape:  (4032, 3024, 3) ***** resized_image_shape:  (853, 640, 3)\n"
     ]
    }
   ],
   "source": [
    "for a,b,files in os.walk(path):\n",
    "    for file_name in files:\n",
    "        original_image = cv2.imread(path+file_name)\n",
    "        file_name_split = file_name.split('.')\n",
    "#         print(file_name,'****',file_name_split[0])\n",
    "        resized_image = imutils.resize(original_image, width=640)\n",
    "        print('original_shape: ',original_image.shape,'*'*5,'resized_image_shape: ',resized_image.shape)\n",
    "        cv2.imwrite(path_resized_image+file_name_split[0]+'.'+file_name_split[-1],resized_image)"
   ]
  },
  {
   "cell_type": "code",
   "execution_count": null,
   "metadata": {},
   "outputs": [],
   "source": []
  },
  {
   "cell_type": "code",
   "execution_count": null,
   "metadata": {},
   "outputs": [],
   "source": []
  },
  {
   "cell_type": "code",
   "execution_count": null,
   "metadata": {},
   "outputs": [],
   "source": []
  },
  {
   "cell_type": "code",
   "execution_count": null,
   "metadata": {},
   "outputs": [],
   "source": []
  },
  {
   "cell_type": "code",
   "execution_count": null,
   "metadata": {},
   "outputs": [],
   "source": []
  },
  {
   "cell_type": "code",
   "execution_count": null,
   "metadata": {},
   "outputs": [],
   "source": []
  },
  {
   "cell_type": "code",
   "execution_count": null,
   "metadata": {},
   "outputs": [],
   "source": []
  },
  {
   "cell_type": "code",
   "execution_count": null,
   "metadata": {},
   "outputs": [],
   "source": []
  },
  {
   "cell_type": "code",
   "execution_count": null,
   "metadata": {},
   "outputs": [],
   "source": []
  },
  {
   "cell_type": "code",
   "execution_count": 14,
   "metadata": {},
   "outputs": [],
   "source": [
    "img = cv2.imread(\"/home/atif/Task_patrick_compare_real_with_unreal/resized_image_lab/20191002_120614.jpg\")\n",
    "# cv2.imshow(\"target\",img)\n",
    "\n",
    "# if cv2.waitKey() == ord('q'): #press q to close the output image window\n",
    "#     cv2.destroyAllWindows()"
   ]
  },
  {
   "cell_type": "code",
   "execution_count": 15,
   "metadata": {},
   "outputs": [
    {
     "data": {
      "text/plain": [
       "(853, 640, 3)"
      ]
     },
     "execution_count": 15,
     "metadata": {},
     "output_type": "execute_result"
    }
   ],
   "source": [
    "img.shape"
   ]
  },
  {
   "cell_type": "code",
   "execution_count": 3,
   "metadata": {},
   "outputs": [],
   "source": [
    "img_1 = imutils.resize(img, width=640)"
   ]
  },
  {
   "cell_type": "code",
   "execution_count": 4,
   "metadata": {},
   "outputs": [],
   "source": [
    "cv2.imshow('image' , img_1)\n",
    "\n",
    "if cv2.waitKey() == ord('q'): #press q to close the output image window\n",
    "    cv2.destroyAllWindows()"
   ]
  },
  {
   "cell_type": "code",
   "execution_count": 5,
   "metadata": {},
   "outputs": [
    {
     "data": {
      "text/plain": [
       "True"
      ]
     },
     "execution_count": 5,
     "metadata": {},
     "output_type": "execute_result"
    }
   ],
   "source": [
    "path =\"/home/atif/Downloads/\"\n",
    "cv2.imwrite(path+'resized.png',img_1)"
   ]
  },
  {
   "cell_type": "code",
   "execution_count": null,
   "metadata": {},
   "outputs": [],
   "source": []
  }
 ],
 "metadata": {
  "kernelspec": {
   "display_name": "Python 3",
   "language": "python",
   "name": "python3"
  },
  "language_info": {
   "codemirror_mode": {
    "name": "ipython",
    "version": 3
   },
   "file_extension": ".py",
   "mimetype": "text/x-python",
   "name": "python",
   "nbconvert_exporter": "python",
   "pygments_lexer": "ipython3",
   "version": "3.6.8"
  }
 },
 "nbformat": 4,
 "nbformat_minor": 2
}
