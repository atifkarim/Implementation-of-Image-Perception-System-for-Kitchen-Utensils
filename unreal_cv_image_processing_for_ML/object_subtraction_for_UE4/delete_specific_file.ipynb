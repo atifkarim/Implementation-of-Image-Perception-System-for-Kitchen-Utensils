{
 "cells": [
  {
   "cell_type": "code",
   "execution_count": 1,
   "metadata": {},
   "outputs": [],
   "source": [
    "import numpy as np\n",
    "import os"
   ]
  },
  {
   "cell_type": "code",
   "execution_count": 11,
   "metadata": {},
   "outputs": [],
   "source": [
    "# path_mask = 'F:/unreal_cv_documentation/unreal_cv_image_processing_for_ML/object_subtraction_for_UE4/Labels/002'\n",
    "path_mask = '/media/atif/0820209220208930/unreal_cv_documentation/unreal_cv_image_processing_for_ML/object_subtraction_for_UE4/Labels/003'"
   ]
  },
  {
   "cell_type": "code",
   "execution_count": 10,
   "metadata": {},
   "outputs": [],
   "source": [
    "polar_agle = '85'\n",
    "for a,b,image_mask in os.walk(path_mask):\n",
    "#     print(a)\n",
    "#     print(b)\n",
    "#     print(image_mask)\n",
    "    for s in image_mask:\n",
    "        print('s: ',s)\n",
    "        n=s.split(\"_\")\n",
    "# #         print('splitted')\n",
    "#         print('n: ',type(n[-2]))\n",
    "        if n[-2] == polar_agle:\n",
    "#             print(s)\n",
    "#             print('OK')\n",
    "#             print('\\n')\n",
    "            os.remove(str(path_mask)+'/'+s)\n",
    "        else:\n",
    "            print('OH I am saved')"
   ]
  },
  {
   "cell_type": "code",
   "execution_count": 12,
   "metadata": {},
   "outputs": [
    {
     "name": "stdout",
     "output_type": "stream",
     "text": [
      "deleted\n",
      "deleted\n"
     ]
    }
   ],
   "source": [
    "polar_agle = '85'\n",
    "for a,b,image_mask in os.walk(path_mask):\n",
    "    for s in image_mask:\n",
    "        n=s.split(\"_\")\n",
    "        if n[-2] == polar_agle:\n",
    "            os.remove(str(path_mask)+'/'+s)\n",
    "            print('deleted')\n",
    "        else:\n",
    "            pass"
   ]
  },
  {
   "cell_type": "code",
   "execution_count": null,
   "metadata": {},
   "outputs": [],
   "source": [
    "count = 1\n",
    "polar_agle = '85'\n",
    "for a,b,image_mask in os.walk(path_mask):\n",
    "    for s in image_mask:\n",
    "        print(count,'----',s)\n",
    "        print('\\n')\n",
    "        count +=1"
   ]
  }
 ],
 "metadata": {
  "kernelspec": {
   "display_name": "Python 3",
   "language": "python",
   "name": "python3"
  },
  "language_info": {
   "codemirror_mode": {
    "name": "ipython",
    "version": 3
   },
   "file_extension": ".py",
   "mimetype": "text/x-python",
   "name": "python",
   "nbconvert_exporter": "python",
   "pygments_lexer": "ipython3",
   "version": "3.6.8"
  }
 },
 "nbformat": 4,
 "nbformat_minor": 2
}
