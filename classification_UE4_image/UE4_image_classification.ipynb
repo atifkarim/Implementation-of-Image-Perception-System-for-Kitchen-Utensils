{
 "cells": [
  {
   "cell_type": "markdown",
   "metadata": {},
   "source": [
    "# In this notebook code for image preprocessing, raining and testing(image by image and overall accuracy) of UE4 image will be developed"
   ]
  },
  {
   "cell_type": "code",
   "execution_count": 16,
   "metadata": {},
   "outputs": [],
   "source": [
    "import numpy as np\n",
    "from skimage import io, color, exposure, transform\n",
    "from skimage.color import rgb2gray\n",
    "#from sklearn.cross_validation import train_test_split\n",
    "from sklearn.model_selection import train_test_split  #it came from update scikit learn. https://stackoverflow.com/questions/40704484/importerror-no-module-named-model-selection\n",
    "import os\n",
    "import glob\n",
    "import h5py\n",
    "import keras\n",
    "\n",
    "from keras.preprocessing.image import ImageDataGenerator\n",
    "from keras.models import Sequential, model_from_json\n",
    "from keras.layers.core import Dense, Dropout, Activation, Flatten\n",
    "from keras.layers.convolutional import Conv2D,Conv1D\n",
    "from keras.layers.pooling import MaxPooling2D\n",
    "\n",
    "from keras.layers.convolutional import Convolution2D, MaxPooling2D\n",
    "\n",
    "from keras.optimizers import SGD\n",
    "from keras.utils import np_utils\n",
    "from keras.callbacks import LearningRateScheduler, ModelCheckpoint\n",
    "from keras import backend as K\n",
    "K.set_image_data_format('channels_first')\n",
    "\n",
    "from matplotlib import pyplot as plt\n",
    "get_ipython().run_line_magic('matplotlib', 'inline')\n",
    "from matplotlib.pylab import rcParams\n",
    "\n",
    "#import keras\n",
    "\n",
    "NUM_CLASSES = 16 # change it with respect to the desired class\n",
    "IMG_SIZE = 48 # change it if it desired\n",
    "IMG_depth = 3 # for RGB 3, for B&W it will be 1\n",
    "from keras.applications import VGG16"
   ]
  },
  {
   "cell_type": "code",
   "execution_count": 17,
   "metadata": {},
   "outputs": [
    {
     "data": {
      "text/plain": [
       "'2.9.0'"
      ]
     },
     "execution_count": 17,
     "metadata": {},
     "output_type": "execute_result"
    }
   ],
   "source": [
    "h5py.__version__"
   ]
  },
  {
   "cell_type": "markdown",
   "metadata": {},
   "source": [
    "# Image preprocessing function"
   ]
  },
  {
   "cell_type": "code",
   "execution_count": 18,
   "metadata": {},
   "outputs": [],
   "source": [
    "def preprocess_img(img):\n",
    "    # Histogram normalization in y\n",
    "    hsv = color.rgb2hsv(img)\n",
    "    hsv[:,:,2] = exposure.equalize_hist(hsv[:,:,2])\n",
    "    img = color.hsv2rgb(hsv)\n",
    "\n",
    "    # central scrop\n",
    "    min_side = min(img.shape[:-1])\n",
    "    centre = img.shape[0]//2, img.shape[1]//2\n",
    "    img = img[centre[0]-min_side//2:centre[0]+min_side//2,centre[1]-min_side//2:centre[1]+min_side//2,:]\n",
    "#    img = rgb2gray(img)\n",
    "\n",
    "    # rescale to standard size\n",
    "    img = transform.resize(img, (IMG_SIZE, IMG_SIZE))\n",
    "\n",
    "    # roll color axis to axis 0\n",
    "    img = np.rollaxis(img,-1)\n",
    "\n",
    "    return img\n",
    "\n",
    "def get_class(img_path):\n",
    "    return int(img_path.split('/')[-2])\n",
    "#     return str(img_path.split('/')[-2]) # returning the folder name. If use -1 that means image name. consider the img_path."
   ]
  },
  {
   "cell_type": "code",
   "execution_count": 19,
   "metadata": {
    "scrolled": true
   },
   "outputs": [
    {
     "name": "stdout",
     "output_type": "stream",
     "text": [
      "Processed 1248/14976\n",
      "Processed 2496/14976\n",
      "Processed 3744/14976\n",
      "Processed 4992/14976\n",
      "Processed 6240/14976\n",
      "Processed 7488/14976\n",
      "Processed 8736/14976\n",
      "Processed 9984/14976\n",
      "Processed 11232/14976\n",
      "Processed 12480/14976\n",
      "Processed 13728/14976\n",
      "Processed 14976/14976\n"
     ]
    }
   ],
   "source": [
    "imgs = []\n",
    "labels = []\n",
    "root_dir = '/home/atif/machine_learning_stuff/ml_image/train_image_AI_reduced/'\n",
    "#path='/home/atif/training_by_several_learning_process/flower_photos/00000/'\n",
    "\n",
    "#all_img_paths = glob.glob(path+ '5547758_eea9edfd54_n_000.jpg')\n",
    "\n",
    "all_img_paths = glob.glob(os.path.join(root_dir, '*/*.png')) #I have done the training with .png format image. If another type of image will come \n",
    "                                                                                    #them .png will be changed by that extension\n",
    "np.random.shuffle(all_img_paths)\n",
    "for img_path in all_img_paths:\n",
    "    try:\n",
    "        img = preprocess_img(io.imread(img_path))\n",
    "        label = get_class(img_path)\n",
    "        imgs.append(img)\n",
    "        labels.append(label)\n",
    "\n",
    "        if len(imgs)%1248 == 0: print(\"Processed {}/{}\".format(len(imgs), len(all_img_paths)))\n",
    "            #print(\"get it 2\")\n",
    "    except (IOError, OSError):\n",
    "        print('missed', img_path)\n",
    "        pass"
   ]
  },
  {
   "cell_type": "code",
   "execution_count": 20,
   "metadata": {},
   "outputs": [
    {
     "name": "stdout",
     "output_type": "stream",
     "text": [
      "X shape:  (14976, 3, 48, 48)  type:  <class 'numpy.ndarray'>\n",
      "Y shape:  (14976, 16)  type:  <class 'numpy.ndarray'>\n"
     ]
    }
   ],
   "source": [
    "X = np.array(imgs, dtype='float32') #Keeping the image as an array\n",
    "X = X.reshape(len(imgs),IMG_depth,IMG_SIZE,IMG_SIZE) # write (IMG_SIZE,IMG_SIZE,1 if you want channel last; 1= grayscale;3=RGB)\n",
    "# Y = np.eye(NUM_CLASSES, dtype='uint8')[labels]\n",
    "Y = keras.utils.to_categorical(labels, NUM_CLASSES)\n",
    "\n",
    "print('X shape: ', X.shape,' type: ',type(X))\n",
    "print('Y shape: ', Y.shape,' type: ',type(Y))"
   ]
  },
  {
   "cell_type": "markdown",
   "metadata": {},
   "source": [
    "# Model declaration"
   ]
  },
  {
   "cell_type": "code",
   "execution_count": 21,
   "metadata": {},
   "outputs": [],
   "source": [
    "def cnn_model():\n",
    "    model = Sequential()\n",
    "\n",
    "    model.add(Conv2D(32, (3, 3), padding='same',\n",
    "                     input_shape=(3, IMG_SIZE, IMG_SIZE),\n",
    "                     activation='relu'))\n",
    "    model.add(Conv2D(32, (3, 3), activation='relu'))\n",
    "    model.add(MaxPooling2D(pool_size=(2, 2)))\n",
    "    model.add(Dropout(0.2))\n",
    "\n",
    "    model.add(Conv2D(64, (3, 3), padding='same',\n",
    "                     activation='relu'))\n",
    "    model.add(Conv2D(64, (3, 3), activation='relu'))\n",
    "    model.add(MaxPooling2D(pool_size=(2, 2)))\n",
    "    model.add(Dropout(0.2))\n",
    "\n",
    "    model.add(Conv2D(128, (3, 3), padding='same',\n",
    "                     activation='relu'))\n",
    "    model.add(Conv2D(128, (3, 3), activation='relu'))\n",
    "    model.add(MaxPooling2D(pool_size=(2, 2)))\n",
    "    model.add(Dropout(0.2))\n",
    "\n",
    "    model.add(Flatten())\n",
    "    model.add(Dense(512, activation='relu'))\n",
    "    model.add(Dropout(0.5))\n",
    "    model.add(Dense(NUM_CLASSES, activation='softmax'))\n",
    "    return model\n",
    "\n",
    "model = cnn_model()\n",
    "\n",
    "lr = 0.01\n",
    "sgd = SGD(lr=lr, decay=1e-6, momentum=0.9, nesterov=True)\n",
    "model.compile(loss='categorical_crossentropy',\n",
    "          optimizer=sgd,\n",
    "          metrics=['accuracy'])"
   ]
  },
  {
   "cell_type": "code",
   "execution_count": 22,
   "metadata": {},
   "outputs": [
    {
     "name": "stdout",
     "output_type": "stream",
     "text": [
      "_________________________________________________________________\n",
      "Layer (type)                 Output Shape              Param #   \n",
      "=================================================================\n",
      "conv2d_1 (Conv2D)            (None, 32, 48, 48)        896       \n",
      "_________________________________________________________________\n",
      "conv2d_2 (Conv2D)            (None, 32, 46, 46)        9248      \n",
      "_________________________________________________________________\n",
      "max_pooling2d_1 (MaxPooling2 (None, 32, 23, 23)        0         \n",
      "_________________________________________________________________\n",
      "dropout_1 (Dropout)          (None, 32, 23, 23)        0         \n",
      "_________________________________________________________________\n",
      "conv2d_3 (Conv2D)            (None, 64, 23, 23)        18496     \n",
      "_________________________________________________________________\n",
      "conv2d_4 (Conv2D)            (None, 64, 21, 21)        36928     \n",
      "_________________________________________________________________\n",
      "max_pooling2d_2 (MaxPooling2 (None, 64, 10, 10)        0         \n",
      "_________________________________________________________________\n",
      "dropout_2 (Dropout)          (None, 64, 10, 10)        0         \n",
      "_________________________________________________________________\n",
      "conv2d_5 (Conv2D)            (None, 128, 10, 10)       73856     \n",
      "_________________________________________________________________\n",
      "conv2d_6 (Conv2D)            (None, 128, 8, 8)         147584    \n",
      "_________________________________________________________________\n",
      "max_pooling2d_3 (MaxPooling2 (None, 128, 4, 4)         0         \n",
      "_________________________________________________________________\n",
      "dropout_3 (Dropout)          (None, 128, 4, 4)         0         \n",
      "_________________________________________________________________\n",
      "flatten_1 (Flatten)          (None, 2048)              0         \n",
      "_________________________________________________________________\n",
      "dense_1 (Dense)              (None, 512)               1049088   \n",
      "_________________________________________________________________\n",
      "dropout_4 (Dropout)          (None, 512)               0         \n",
      "_________________________________________________________________\n",
      "dense_2 (Dense)              (None, 16)                8208      \n",
      "=================================================================\n",
      "Total params: 1,344,304\n",
      "Trainable params: 1,344,304\n",
      "Non-trainable params: 0\n",
      "_________________________________________________________________\n"
     ]
    }
   ],
   "source": [
    "model.summary()"
   ]
  },
  {
   "cell_type": "code",
   "execution_count": 23,
   "metadata": {},
   "outputs": [],
   "source": [
    "path = '/home/atif/machine_learning_stuff/model_file_keras/'"
   ]
  },
  {
   "cell_type": "code",
   "execution_count": 24,
   "metadata": {
    "scrolled": true
   },
   "outputs": [
    {
     "name": "stdout",
     "output_type": "stream",
     "text": [
      "Train on 11980 samples, validate on 2996 samples\n",
      "Epoch 1/100\n",
      " - 5s - loss: 1.9654 - acc: 0.3547 - val_loss: 0.5970 - val_acc: 0.8408\n",
      "Epoch 2/100\n",
      " - 5s - loss: 0.5653 - acc: 0.8161 - val_loss: 0.1301 - val_acc: 0.9586\n",
      "Epoch 3/100\n",
      " - 5s - loss: 0.1691 - acc: 0.9427 - val_loss: 0.0425 - val_acc: 0.9870\n",
      "Epoch 4/100\n",
      " - 5s - loss: 0.1146 - acc: 0.9635 - val_loss: 0.0242 - val_acc: 0.9937\n",
      "Epoch 5/100\n",
      " - 5s - loss: 0.0827 - acc: 0.9725 - val_loss: 0.0365 - val_acc: 0.9903\n",
      "Epoch 6/100\n",
      " - 5s - loss: 0.0596 - acc: 0.9794 - val_loss: 0.0013 - val_acc: 0.9993\n",
      "Epoch 7/100\n",
      " - 5s - loss: 0.0459 - acc: 0.9853 - val_loss: 0.0024 - val_acc: 0.9990\n",
      "Epoch 8/100\n",
      " - 5s - loss: 0.0401 - acc: 0.9875 - val_loss: 0.0069 - val_acc: 0.9977\n",
      "Epoch 9/100\n",
      " - 5s - loss: 0.0338 - acc: 0.9899 - val_loss: 0.0013 - val_acc: 0.9997\n",
      "Epoch 10/100\n",
      " - 5s - loss: 0.0376 - acc: 0.9887 - val_loss: 0.0013 - val_acc: 1.0000\n",
      "Epoch 11/100\n",
      " - 5s - loss: 0.0077 - acc: 0.9974 - val_loss: 3.6999e-04 - val_acc: 1.0000\n",
      "Epoch 12/100\n",
      " - 5s - loss: 0.0047 - acc: 0.9982 - val_loss: 4.3406e-04 - val_acc: 0.9997\n",
      "Epoch 13/100\n",
      " - 5s - loss: 0.0027 - acc: 0.9991 - val_loss: 4.1854e-04 - val_acc: 0.9997\n",
      "Epoch 14/100\n",
      " - 5s - loss: 0.0023 - acc: 0.9994 - val_loss: 4.0541e-04 - val_acc: 0.9997\n",
      "Epoch 15/100\n",
      " - 5s - loss: 0.0020 - acc: 0.9997 - val_loss: 2.9889e-04 - val_acc: 1.0000\n",
      "Epoch 16/100\n",
      " - 5s - loss: 0.0026 - acc: 0.9992 - val_loss: 3.0736e-04 - val_acc: 0.9997\n",
      "Epoch 17/100\n",
      " - 5s - loss: 0.0019 - acc: 0.9994 - val_loss: 3.6100e-04 - val_acc: 0.9997\n",
      "Epoch 18/100\n",
      " - 5s - loss: 0.0018 - acc: 0.9995 - val_loss: 8.5103e-04 - val_acc: 0.9997\n",
      "Epoch 19/100\n",
      " - 5s - loss: 0.0023 - acc: 0.9992 - val_loss: 7.6744e-04 - val_acc: 0.9997\n",
      "Epoch 20/100\n",
      " - 5s - loss: 0.0016 - acc: 0.9996 - val_loss: 4.1054e-04 - val_acc: 0.9997\n",
      "Epoch 21/100\n",
      " - 5s - loss: 0.0016 - acc: 0.9997 - val_loss: 4.1257e-04 - val_acc: 0.9997\n",
      "Epoch 22/100\n",
      " - 5s - loss: 0.0024 - acc: 0.9994 - val_loss: 4.2462e-04 - val_acc: 0.9997\n",
      "Epoch 23/100\n",
      " - 5s - loss: 0.0021 - acc: 0.9990 - val_loss: 4.5228e-04 - val_acc: 0.9997\n",
      "Epoch 24/100\n",
      " - 5s - loss: 0.0014 - acc: 0.9995 - val_loss: 4.8454e-04 - val_acc: 0.9997\n",
      "Epoch 25/100\n",
      " - 5s - loss: 0.0024 - acc: 0.9992 - val_loss: 4.5288e-04 - val_acc: 0.9997\n",
      "Epoch 26/100\n",
      " - 5s - loss: 0.0016 - acc: 0.9995 - val_loss: 4.5231e-04 - val_acc: 0.9997\n",
      "Epoch 27/100\n",
      " - 5s - loss: 0.0016 - acc: 0.9995 - val_loss: 4.9678e-04 - val_acc: 0.9997\n",
      "Epoch 28/100\n",
      " - 5s - loss: 0.0015 - acc: 0.9996 - val_loss: 4.9315e-04 - val_acc: 0.9997\n",
      "Epoch 29/100\n",
      " - 5s - loss: 0.0018 - acc: 0.9993 - val_loss: 4.8366e-04 - val_acc: 0.9997\n",
      "Epoch 30/100\n",
      " - 5s - loss: 0.0017 - acc: 0.9996 - val_loss: 4.8847e-04 - val_acc: 0.9997\n",
      "Epoch 31/100\n",
      " - 5s - loss: 0.0019 - acc: 0.9994 - val_loss: 4.8913e-04 - val_acc: 0.9997\n",
      "Epoch 32/100\n",
      " - 5s - loss: 0.0020 - acc: 0.9992 - val_loss: 4.8375e-04 - val_acc: 0.9997\n",
      "Epoch 33/100\n",
      " - 5s - loss: 0.0017 - acc: 0.9996 - val_loss: 4.8737e-04 - val_acc: 0.9997\n",
      "Epoch 34/100\n",
      " - 5s - loss: 0.0025 - acc: 0.9992 - val_loss: 4.8463e-04 - val_acc: 0.9997\n",
      "Epoch 35/100\n",
      " - 5s - loss: 0.0011 - acc: 0.9999 - val_loss: 4.8425e-04 - val_acc: 0.9997\n",
      "Epoch 36/100\n",
      " - 5s - loss: 0.0028 - acc: 0.9992 - val_loss: 4.7989e-04 - val_acc: 0.9997\n",
      "Epoch 37/100\n",
      " - 5s - loss: 0.0016 - acc: 0.9995 - val_loss: 4.7828e-04 - val_acc: 0.9997\n",
      "Epoch 38/100\n",
      " - 5s - loss: 0.0023 - acc: 0.9991 - val_loss: 4.8062e-04 - val_acc: 0.9997\n",
      "Epoch 39/100\n",
      " - 5s - loss: 0.0018 - acc: 0.9992 - val_loss: 4.8271e-04 - val_acc: 0.9997\n",
      "Epoch 40/100\n",
      " - 5s - loss: 0.0013 - acc: 0.9997 - val_loss: 4.8839e-04 - val_acc: 0.9997\n",
      "Epoch 41/100\n",
      " - 5s - loss: 0.0016 - acc: 0.9997 - val_loss: 4.8864e-04 - val_acc: 0.9997\n",
      "Epoch 42/100\n",
      " - 5s - loss: 0.0023 - acc: 0.9995 - val_loss: 4.8925e-04 - val_acc: 0.9997\n",
      "Epoch 43/100\n",
      " - 5s - loss: 0.0017 - acc: 0.9996 - val_loss: 4.8918e-04 - val_acc: 0.9997\n",
      "Epoch 44/100\n",
      " - 5s - loss: 0.0013 - acc: 0.9996 - val_loss: 4.8852e-04 - val_acc: 0.9997\n",
      "Epoch 45/100\n",
      " - 5s - loss: 0.0012 - acc: 0.9997 - val_loss: 4.8854e-04 - val_acc: 0.9997\n",
      "Epoch 46/100\n",
      " - 5s - loss: 0.0020 - acc: 0.9994 - val_loss: 4.8867e-04 - val_acc: 0.9997\n",
      "Epoch 47/100\n",
      " - 5s - loss: 0.0011 - acc: 0.9996 - val_loss: 4.8870e-04 - val_acc: 0.9997\n",
      "Epoch 48/100\n",
      " - 5s - loss: 0.0017 - acc: 0.9992 - val_loss: 4.8865e-04 - val_acc: 0.9997\n",
      "Epoch 49/100\n",
      " - 5s - loss: 0.0013 - acc: 0.9996 - val_loss: 4.8884e-04 - val_acc: 0.9997\n",
      "Epoch 50/100\n",
      " - 5s - loss: 0.0022 - acc: 0.9992 - val_loss: 4.8867e-04 - val_acc: 0.9997\n",
      "Epoch 51/100\n",
      " - 5s - loss: 0.0018 - acc: 0.9993 - val_loss: 4.8866e-04 - val_acc: 0.9997\n",
      "Epoch 52/100\n",
      " - 5s - loss: 9.4455e-04 - acc: 0.9997 - val_loss: 4.8866e-04 - val_acc: 0.9997\n",
      "Epoch 53/100\n",
      " - 5s - loss: 0.0025 - acc: 0.9988 - val_loss: 4.8862e-04 - val_acc: 0.9997\n",
      "Epoch 54/100\n",
      " - 5s - loss: 0.0022 - acc: 0.9992 - val_loss: 4.8863e-04 - val_acc: 0.9997\n",
      "Epoch 55/100\n",
      " - 5s - loss: 0.0023 - acc: 0.9992 - val_loss: 4.8864e-04 - val_acc: 0.9997\n",
      "Epoch 56/100\n",
      " - 5s - loss: 0.0020 - acc: 0.9994 - val_loss: 4.8861e-04 - val_acc: 0.9997\n",
      "Epoch 57/100\n",
      " - 5s - loss: 0.0011 - acc: 0.9997 - val_loss: 4.8862e-04 - val_acc: 0.9997\n",
      "Epoch 58/100\n",
      " - 5s - loss: 0.0019 - acc: 0.9995 - val_loss: 4.8861e-04 - val_acc: 0.9997\n",
      "Epoch 59/100\n",
      " - 5s - loss: 0.0018 - acc: 0.9994 - val_loss: 4.8860e-04 - val_acc: 0.9997\n",
      "Epoch 60/100\n",
      " - 5s - loss: 0.0014 - acc: 0.9997 - val_loss: 4.8858e-04 - val_acc: 0.9997\n",
      "Epoch 61/100\n",
      " - 5s - loss: 0.0015 - acc: 0.9994 - val_loss: 4.8858e-04 - val_acc: 0.9997\n",
      "Epoch 62/100\n",
      " - 5s - loss: 0.0020 - acc: 0.9995 - val_loss: 4.8858e-04 - val_acc: 0.9997\n",
      "Epoch 63/100\n",
      " - 5s - loss: 0.0016 - acc: 0.9997 - val_loss: 4.8858e-04 - val_acc: 0.9997\n",
      "Epoch 64/100\n",
      " - 5s - loss: 0.0023 - acc: 0.9995 - val_loss: 4.8858e-04 - val_acc: 0.9997\n",
      "Epoch 65/100\n",
      " - 5s - loss: 0.0013 - acc: 0.9996 - val_loss: 4.8858e-04 - val_acc: 0.9997\n",
      "Epoch 66/100\n",
      " - 5s - loss: 0.0022 - acc: 0.9990 - val_loss: 4.8858e-04 - val_acc: 0.9997\n",
      "Epoch 67/100\n",
      " - 5s - loss: 0.0020 - acc: 0.9994 - val_loss: 4.8858e-04 - val_acc: 0.9997\n",
      "Epoch 68/100\n",
      " - 5s - loss: 0.0014 - acc: 0.9995 - val_loss: 4.8858e-04 - val_acc: 0.9997\n",
      "Epoch 69/100\n",
      " - 5s - loss: 0.0026 - acc: 0.9993 - val_loss: 4.8858e-04 - val_acc: 0.9997\n",
      "Epoch 70/100\n",
      " - 5s - loss: 0.0014 - acc: 0.9997 - val_loss: 4.8858e-04 - val_acc: 0.9997\n",
      "Epoch 71/100\n",
      " - 5s - loss: 0.0018 - acc: 0.9995 - val_loss: 4.8858e-04 - val_acc: 0.9997\n",
      "Epoch 72/100\n",
      " - 5s - loss: 0.0013 - acc: 0.9997 - val_loss: 4.8858e-04 - val_acc: 0.9997\n",
      "Epoch 73/100\n",
      " - 5s - loss: 0.0015 - acc: 0.9994 - val_loss: 4.8858e-04 - val_acc: 0.9997\n",
      "Epoch 74/100\n",
      " - 5s - loss: 0.0017 - acc: 0.9996 - val_loss: 4.8858e-04 - val_acc: 0.9997\n",
      "Epoch 75/100\n",
      " - 5s - loss: 0.0012 - acc: 0.9997 - val_loss: 4.8858e-04 - val_acc: 0.9997\n",
      "Epoch 76/100\n",
      " - 5s - loss: 0.0012 - acc: 0.9997 - val_loss: 4.8858e-04 - val_acc: 0.9997\n",
      "Epoch 77/100\n",
      " - 5s - loss: 0.0015 - acc: 0.9996 - val_loss: 4.8858e-04 - val_acc: 0.9997\n",
      "Epoch 78/100\n",
      " - 5s - loss: 0.0022 - acc: 0.9995 - val_loss: 4.8858e-04 - val_acc: 0.9997\n",
      "Epoch 79/100\n",
      " - 5s - loss: 0.0010 - acc: 0.9998 - val_loss: 4.8858e-04 - val_acc: 0.9997\n",
      "Epoch 80/100\n",
      " - 5s - loss: 0.0013 - acc: 0.9996 - val_loss: 4.8858e-04 - val_acc: 0.9997\n",
      "Epoch 81/100\n",
      " - 5s - loss: 0.0015 - acc: 0.9996 - val_loss: 4.8858e-04 - val_acc: 0.9997\n",
      "Epoch 82/100\n",
      " - 5s - loss: 0.0012 - acc: 0.9999 - val_loss: 4.8858e-04 - val_acc: 0.9997\n",
      "Epoch 83/100\n",
      " - 5s - loss: 0.0014 - acc: 0.9995 - val_loss: 4.8858e-04 - val_acc: 0.9997\n",
      "Epoch 84/100\n",
      " - 5s - loss: 0.0017 - acc: 0.9995 - val_loss: 4.8858e-04 - val_acc: 0.9997\n",
      "Epoch 85/100\n",
      " - 5s - loss: 0.0011 - acc: 0.9997 - val_loss: 4.8858e-04 - val_acc: 0.9997\n",
      "Epoch 86/100\n",
      " - 5s - loss: 0.0011 - acc: 0.9997 - val_loss: 4.8858e-04 - val_acc: 0.9997\n",
      "Epoch 87/100\n",
      " - 5s - loss: 0.0021 - acc: 0.9993 - val_loss: 4.8858e-04 - val_acc: 0.9997\n",
      "Epoch 88/100\n",
      " - 5s - loss: 0.0015 - acc: 0.9995 - val_loss: 4.8858e-04 - val_acc: 0.9997\n",
      "Epoch 89/100\n",
      " - 5s - loss: 0.0018 - acc: 0.9991 - val_loss: 4.8858e-04 - val_acc: 0.9997\n",
      "Epoch 90/100\n",
      " - 5s - loss: 0.0019 - acc: 0.9996 - val_loss: 4.8858e-04 - val_acc: 0.9997\n",
      "Epoch 91/100\n",
      " - 5s - loss: 0.0027 - acc: 0.9991 - val_loss: 4.8858e-04 - val_acc: 0.9997\n",
      "Epoch 92/100\n",
      " - 5s - loss: 0.0017 - acc: 0.9996 - val_loss: 4.8858e-04 - val_acc: 0.9997\n",
      "Epoch 93/100\n"
     ]
    },
    {
     "name": "stdout",
     "output_type": "stream",
     "text": [
      " - 5s - loss: 0.0022 - acc: 0.9991 - val_loss: 4.8858e-04 - val_acc: 0.9997\n",
      "Epoch 94/100\n",
      " - 5s - loss: 0.0026 - acc: 0.9993 - val_loss: 4.8858e-04 - val_acc: 0.9997\n",
      "Epoch 95/100\n",
      " - 5s - loss: 0.0026 - acc: 0.9988 - val_loss: 4.8858e-04 - val_acc: 0.9997\n",
      "Epoch 96/100\n",
      " - 5s - loss: 0.0019 - acc: 0.9992 - val_loss: 4.8858e-04 - val_acc: 0.9997\n",
      "Epoch 97/100\n",
      " - 5s - loss: 0.0021 - acc: 0.9993 - val_loss: 4.8858e-04 - val_acc: 0.9997\n",
      "Epoch 98/100\n",
      " - 5s - loss: 0.0012 - acc: 0.9997 - val_loss: 4.8858e-04 - val_acc: 0.9997\n",
      "Epoch 99/100\n",
      " - 5s - loss: 0.0016 - acc: 0.9997 - val_loss: 4.8858e-04 - val_acc: 0.9997\n",
      "Epoch 100/100\n",
      " - 5s - loss: 0.0017 - acc: 0.9996 - val_loss: 4.8858e-04 - val_acc: 0.9997\n"
     ]
    }
   ],
   "source": [
    "def lr_schedule(epoch):\n",
    "    return lr * (0.1 ** int(epoch / 10))\n",
    "\n",
    "batch_size = 32\n",
    "epochs = 100\n",
    "do_train_model=model.fit(X, Y,\n",
    "          batch_size=batch_size,\n",
    "          epochs=epochs,\n",
    "          validation_split=0.2,verbose=2,\n",
    "          #np.resize(img, (-1, <image shape>)\n",
    "          callbacks=[LearningRateScheduler(lr_schedule),ModelCheckpoint(path+'reduced_general_epoch_100.h5', save_best_only=True)])"
   ]
  },
  {
   "cell_type": "markdown",
   "metadata": {},
   "source": [
    "# load saved model"
   ]
  },
  {
   "cell_type": "code",
   "execution_count": 25,
   "metadata": {},
   "outputs": [],
   "source": [
    "from keras.models import load_model\n",
    "# model = load_model('/home/atif/machine_learning_stuff/model_file_keras/general_2_sep_ep_30_epoch.h5')\n",
    "model = load_model('/home/atif/machine_learning_stuff/model_file_keras/reduced_general_epoch_100.h5')"
   ]
  },
  {
   "cell_type": "markdown",
   "metadata": {},
   "source": [
    "# Check total accuracy of the model using all test images"
   ]
  },
  {
   "cell_type": "code",
   "execution_count": 26,
   "metadata": {
    "scrolled": true
   },
   "outputs": [
    {
     "name": "stdout",
     "output_type": "stream",
     "text": [
      "filename:  denkmit_edelstahk_reiniger (1).jpg \t classId:  5\n",
      "filename:  denkmit_edelstahk_reiniger (2).jpg \t classId:  5\n",
      "filename:  denkmit_edelstahk_reiniger (3).jpg \t classId:  5\n",
      "filename:  denkmit_edelstahk_reiniger (4).jpg \t classId:  5\n",
      "filename:  denkmit_edelstahk_reiniger (5).jpg \t classId:  5\n",
      "filename:  denkmit_edelstahk_reiniger (6).jpg \t classId:  5\n",
      "filename:  denkmit_edelstahk_reiniger (7).jpg \t classId:  5\n",
      "filename:  denkmit_Entkalker (1).jpg \t classId:  7\n",
      "filename:  denkmit_Entkalker (2).jpg \t classId:  7\n",
      "filename:  denkmit_Entkalker (3).jpg \t classId:  7\n",
      "filename:  denkmit_Entkalker (4).jpg \t classId:  7\n",
      "filename:  denkmit_Entkalker (5).jpg \t classId:  7\n",
      "filename:  denkmit_Entkalker (6).jpg \t classId:  7\n",
      "filename:  denkmit_geschirrreiniger_REVOLUTION (1).jpg \t classId:  10\n",
      "filename:  denkmit_geschirrreiniger_REVOLUTION (2).jpg \t classId:  10\n",
      "filename:  denkmit_geschirrreiniger_REVOLUTION (3).jpg \t classId:  10\n",
      "filename:  denkmit_geschirrreiniger_REVOLUTION (4).jpg \t classId:  10\n",
      "filename:  denkmit_geschirrreiniger_REVOLUTION (5).jpg \t classId:  10\n",
      "filename:  denkmit_geschirrreiniger_REVOLUTION (6).jpg \t classId:  10\n",
      "filename:  Denkmit_geschirr_reiniger_classic (1).jpg \t classId:  9\n",
      "filename:  Denkmit_geschirr_reiniger_classic (3).jpg \t classId:  9\n",
      "filename:  Denkmit_geschirr_reiniger_classic (4).jpg \t classId:  9\n",
      "filename:  Denkmit_geschirr_reiniger_classic (5).jpg \t classId:  9\n",
      "filename:  Denkmit_geschirr_reiniger_classic (6).jpg \t classId:  9\n",
      "filename:  denkmit_geschirr_reiniger_multipower (1).jpg \t classId:  8\n",
      "filename:  denkmit_geschirr_reiniger_multipower (2).jpg \t classId:  8\n",
      "filename:  denkmit_geschirr_reiniger_multipower (3).jpg \t classId:  8\n",
      "filename:  denkmit_geschirr_reiniger_multipower (4).jpg \t classId:  8\n",
      "filename:  denkmit_geschirr_reiniger_multipower (5).jpg \t classId:  8\n",
      "filename:  denkmit_geschirr_reiniger_multipower (6).jpg \t classId:  8\n",
      "filename:  denkmit_geschirr_reiniger_NATURE (1).jpg \t classId:  11\n",
      "filename:  denkmit_geschirr_reiniger_NATURE (2).jpg \t classId:  11\n",
      "filename:  denkmit_geschirr_reiniger_NATURE (3).jpg \t classId:  11\n",
      "filename:  denkmit_geschirr_reiniger_NATURE (4).jpg \t classId:  11\n",
      "filename:  denkmit_geschirr_reiniger_NATURE (5).jpg \t classId:  11\n",
      "filename:  calgonit_finish_speizalsalz (3).jpg \t classId:  3\n",
      "filename:  Denkmit_geschirr_reiniger_classic (2).jpg \t classId:  9\n",
      "filename:  denkmit_hygiene_Allzweck_reiniger (1).jpg \t classId:  12\n",
      "filename:  denkmit_spezalsalz (4).jpg \t classId:  14\n",
      "filename:  calgonit_finish_speizalsalz (4).jpg \t classId:  3\n",
      "filename:  calgonit_finish_speizalsalz (5).jpg \t classId:  3\n",
      "filename:  calgonit_finish_speizalsalz (6).jpg \t classId:  3\n",
      "filename:  calgonit_maschine_pfleger (1).jpg \t classId:  2\n",
      "filename:  calgonit_maschine_pfleger (2).jpg \t classId:  2\n",
      "filename:  calgonit_maschine_pfleger (3).jpg \t classId:  2\n",
      "filename:  calgonit_maschine_pfleger (4).jpg \t classId:  2\n",
      "filename:  calgonit_finish_classic (1).jpg \t classId:  0\n",
      "filename:  calgonit_finish_classic (2).jpg \t classId:  0\n",
      "filename:  calgonit_finish_classic (3).jpg \t classId:  0\n",
      "filename:  calgonit_finish_classic (4).jpg \t classId:  0\n",
      "filename:  calgonit_finish_classic (5).jpg \t classId:  0\n",
      "filename:  calgonit_finish_klarspueler (1).jpg \t classId:  1\n",
      "filename:  calgonit_finish_klarspueler (2).jpg \t classId:  1\n",
      "filename:  calgonit_finish_klarspueler (3).jpg \t classId:  1\n",
      "filename:  calgonit_finish_klarspueler (4).jpg \t classId:  1\n",
      "filename:  calgonit_finish_klarspueler (5).jpg \t classId:  1\n",
      "filename:  calgonit_finish_klarspueler (6).jpg \t classId:  1\n",
      "filename:  calgonit_finish_speizalsalz (1).jpg \t classId:  3\n",
      "filename:  calgonit_finish_speizalsalz (2).jpg \t classId:  3\n",
      "filename:  denkmit_spezalsalz (5).jpg \t classId:  14\n",
      "filename:  denkmit_spezalsalz (6).jpg \t classId:  14\n",
      "filename:  denkmit_spezalsalz (7).jpg \t classId:  14\n",
      "filename:  denkmit_spezalsalz (8).jpg \t classId:  14\n",
      "filename:  denkmit_spezalsalz (9).jpg \t classId:  14\n",
      "filename:  somat (1).jpg \t classId:  15\n",
      "filename:  somat (2).jpg \t classId:  15\n",
      "filename:  somat_3.jpg \t classId:  15\n",
      "filename:  somat_4.jpg \t classId:  15\n",
      "filename:  somat_5.jpg \t classId:  15\n",
      "filename:  somat_6.jpg \t classId:  15\n",
      "filename:  somat_7.jpg \t classId:  15\n",
      "filename:  somat_8.jpg \t classId:  15\n",
      "filename:  denkmit_hygiene_Allzweck_reiniger (2).jpg \t classId:  12\n",
      "filename:  denkmit_hygiene_Allzweck_reiniger (3).jpg \t classId:  12\n",
      "filename:  denkmit_hygiene_Allzweck_reiniger (4).jpg \t classId:  12\n",
      "filename:  denkmit_hygiene_Allzweck_reiniger (5).jpg \t classId:  12\n",
      "filename:  denkmit_mascine_pfleger (1).jpg \t classId:  13\n",
      "filename:  denkmit_mascine_pfleger (2).jpg \t classId:  13\n",
      "filename:  denkmit_mascine_pfleger (3).jpg \t classId:  13\n",
      "filename:  denkmit_mascine_pfleger (4).jpg \t classId:  13\n",
      "filename:  denkmit_mascine_pfleger (5).jpg \t classId:  13\n",
      "filename:  denkmit_mascine_pfleger (6).jpg \t classId:  13\n",
      "filename:  denkmit_spezalsalz (1).jpg \t classId:  14\n",
      "filename:  denkmit_spezalsalz (2).jpg \t classId:  14\n",
      "filename:  denkmit_spezalsalz (3).jpg \t classId:  14\n",
      "filename:  2_SM_CalgonitFinishVorratspack_14_1_90_60_lit_cropped.jpg \t classId:  4\n",
      "filename:  3_SM_CalgonitFinishVorratspack_14_2_90_60_lit_cropped.jpg \t classId:  4\n",
      "filename:  34_SM_DenkMitEdelstahlReinigerSpray_20_33_90_60_lit_cropped.jpg \t classId:  6\n",
      "filename:  35_SM_DenkMitEdelstahlReinigerSpray_20_34_90_60_lit_cropped.jpg \t classId:  6\n"
     ]
    }
   ],
   "source": [
    "import pandas as pd\n",
    "test = pd.read_csv('/home/atif/machine_learning_stuff/ml_image/test_image_keras_IAI.csv',sep=';')\n",
    "# test_image_path =  '/home/atif/machine_learning_stuff/ml_image/test_image_crop/'\n",
    "\n",
    "X_test = []\n",
    "y_test = []\n",
    "i = 0\n",
    "for file_name, class_id  in zip(list(test['Filename']), list(test['ClassId'])):\n",
    "    print('filename: ',file_name,'\\t classId: ',class_id)\n",
    "    #print('classId: ',class_id)\n",
    "    img_path = os.path.join('/home/atif/machine_learning_stuff/ml_image/test_image_26_aug/',file_name)\n",
    "#     img_path = glob.glob(os.path.join(test_image_path, '*/*.jpg'))\n",
    "    X_test.append(preprocess_img(io.imread(img_path)))\n",
    "    y_test.append(class_id)\n",
    "    \n",
    "X_test = np.array(X_test)\n",
    "y_test = np.array(y_test)"
   ]
  },
  {
   "cell_type": "code",
   "execution_count": 27,
   "metadata": {
    "scrolled": true
   },
   "outputs": [
    {
     "name": "stdout",
     "output_type": "stream",
     "text": [
      "/home/atif/machine_learning_stuff/ml_image/test_image_26_aug/35_SM_DenkMitEdelstahlReinigerSpray_20_34_90_60_lit_cropped.jpg\n"
     ]
    }
   ],
   "source": [
    "print(img_path)"
   ]
  },
  {
   "cell_type": "code",
   "execution_count": 28,
   "metadata": {
    "scrolled": true
   },
   "outputs": [
    {
     "data": {
      "text/plain": [
       "array([ 5,  5,  5,  5,  5,  5,  5,  7,  7,  7,  7,  7,  7, 10, 10, 10, 10,\n",
       "       10, 10,  9,  9,  9,  9,  9,  8,  8,  8,  8,  8,  8, 11, 11, 11, 11,\n",
       "       11,  3,  9, 12, 14,  3,  3,  3,  2,  2,  2,  2,  0,  0,  0,  0,  0,\n",
       "        1,  1,  1,  1,  1,  1,  3,  3, 14, 14, 14, 14, 14, 15, 15, 15, 15,\n",
       "       15, 15, 15, 15, 12, 12, 12, 12, 13, 13, 13, 13, 13, 13, 14, 14, 14,\n",
       "        4,  4,  6,  6])"
      ]
     },
     "execution_count": 28,
     "metadata": {},
     "output_type": "execute_result"
    }
   ],
   "source": [
    "y_test"
   ]
  },
  {
   "cell_type": "markdown",
   "metadata": {},
   "source": [
    "# finding accuracy"
   ]
  },
  {
   "cell_type": "code",
   "execution_count": 29,
   "metadata": {},
   "outputs": [
    {
     "name": "stdout",
     "output_type": "stream",
     "text": [
      "Test accuracy = 0.19101123595505617\n"
     ]
    }
   ],
   "source": [
    "y_pred = model.predict_classes(X_test)\n",
    "acc = np.sum(y_pred==y_test)/np.size(y_pred)\n",
    "print(\"Test accuracy = {}\".format(acc))"
   ]
  },
  {
   "cell_type": "code",
   "execution_count": 21,
   "metadata": {
    "scrolled": true
   },
   "outputs": [
    {
     "data": {
      "text/plain": [
       "array([ 5,  5,  5, 11,  7, 11,  5,  7,  7, 15,  7,  7,  7, 11,  8,  9, 15,\n",
       "       11, 11,  9, 11, 11,  9,  9, 11, 13,  8,  8,  8,  8, 11, 11, 11, 11,\n",
       "       11,  3,  9,  3, 14,  3,  3,  3,  4,  2,  2,  2,  0,  0,  0,  0,  0,\n",
       "        1,  1,  1,  1,  1,  1,  3,  3, 14, 13, 13, 14, 13, 15, 15, 15, 15,\n",
       "       15, 15, 15, 15,  3,  0,  3,  3, 13, 13,  9, 14, 13, 11, 13, 13, 14,\n",
       "        4,  4,  6,  6])"
      ]
     },
     "execution_count": 21,
     "metadata": {},
     "output_type": "execute_result"
    }
   ],
   "source": [
    "y_pred"
   ]
  },
  {
   "cell_type": "markdown",
   "metadata": {},
   "source": [
    "# check true vs true/false result"
   ]
  },
  {
   "cell_type": "code",
   "execution_count": 12,
   "metadata": {
    "scrolled": true
   },
   "outputs": [
    {
     "name": "stdout",
     "output_type": "stream",
     "text": [
      "2 °°°°°°°°°°°°°°°°°°°°°°°°°°°°°°°°°°°°°°°° 5 ----- 11\n",
      "3 °°°°°°°°°°°°°°°°°°°°°°°°°°°°°°°°°°°°°°°° 5 ----- 11\n",
      "4 °°°°°°°°°°°°°°°°°°°°°°°°°°°°°°°°°°°°°°°° 5 ----- 11\n",
      "5 °°°°°°°°°°°°°°°°°°°°°°°°°°°°°°°°°°°°°°°° 5 ----- 3\n",
      "6 °°°°°°°°°°°°°°°°°°°°°°°°°°°°°°°°°°°°°°°° 5 ----- 15\n",
      "7 °°°°°°°°°°°°°°°°°°°°°°°°°°°°°°°°°°°°°°°° 5 ----- 11\n",
      "8 °°°°°°°°°°°°°°°°°°°°°°°°°°°°°°°°°°°°°°°° 7 ----- 9\n",
      "9 °°°°°°°°°°°°°°°°°°°°°°°°°°°°°°°°°°°°°°°° 7 ----- 15\n",
      "11 °°°°°°°°°°°°°°°°°°°°°°°°°°°°°°°°°°°°°°°° 7 ----- 15\n",
      "12 °°°°°°°°°°°°°°°°°°°°°°°°°°°°°°°°°°°°°°°° 7 ----- 15\n",
      "13 °°°°°°°°°°°°°°°°°°°°°°°°°°°°°°°°°°°°°°°° 7 ----- 15\n",
      "14 °°°°°°°°°°°°°°°°°°°°°°°°°°°°°°°°°°°°°°°° 10 ----- 11\n",
      "15 °°°°°°°°°°°°°°°°°°°°°°°°°°°°°°°°°°°°°°°° 10 ----- 11\n",
      "16 °°°°°°°°°°°°°°°°°°°°°°°°°°°°°°°°°°°°°°°° 10 ----- 11\n",
      "18 °°°°°°°°°°°°°°°°°°°°°°°°°°°°°°°°°°°°°°°° 10 ----- 11\n",
      "19 °°°°°°°°°°°°°°°°°°°°°°°°°°°°°°°°°°°°°°°° 10 ----- 11\n",
      "20 °°°°°°°°°°°°°°°°°°°°°°°°°°°°°°°°°°°°°°°° 9 ----- 11\n",
      "21 °°°°°°°°°°°°°°°°°°°°°°°°°°°°°°°°°°°°°°°° 9 ----- 11\n",
      "23 °°°°°°°°°°°°°°°°°°°°°°°°°°°°°°°°°°°°°°°° 9 ----- 11\n",
      "24 °°°°°°°°°°°°°°°°°°°°°°°°°°°°°°°°°°°°°°°° 9 ----- 11\n",
      "25 °°°°°°°°°°°°°°°°°°°°°°°°°°°°°°°°°°°°°°°° 8 ----- 11\n",
      "26 °°°°°°°°°°°°°°°°°°°°°°°°°°°°°°°°°°°°°°°° 8 ----- 11\n",
      "27 °°°°°°°°°°°°°°°°°°°°°°°°°°°°°°°°°°°°°°°° 8 ----- 10\n",
      "30 °°°°°°°°°°°°°°°°°°°°°°°°°°°°°°°°°°°°°°°° 8 ----- 11\n",
      "37 °°°°°°°°°°°°°°°°°°°°°°°°°°°°°°°°°°°°°°°° 9 ----- 11\n",
      "38 °°°°°°°°°°°°°°°°°°°°°°°°°°°°°°°°°°°°°°°° 12 ----- 3\n",
      "39 °°°°°°°°°°°°°°°°°°°°°°°°°°°°°°°°°°°°°°°° 14 ----- 9\n",
      "44 °°°°°°°°°°°°°°°°°°°°°°°°°°°°°°°°°°°°°°°° 2 ----- 9\n",
      "46 °°°°°°°°°°°°°°°°°°°°°°°°°°°°°°°°°°°°°°°° 2 ----- 9\n",
      "47 °°°°°°°°°°°°°°°°°°°°°°°°°°°°°°°°°°°°°°°° 0 ----- 4\n",
      "49 °°°°°°°°°°°°°°°°°°°°°°°°°°°°°°°°°°°°°°°° 0 ----- 4\n",
      "50 °°°°°°°°°°°°°°°°°°°°°°°°°°°°°°°°°°°°°°°° 0 ----- 4\n",
      "55 °°°°°°°°°°°°°°°°°°°°°°°°°°°°°°°°°°°°°°°° 1 ----- 4\n",
      "60 °°°°°°°°°°°°°°°°°°°°°°°°°°°°°°°°°°°°°°°° 14 ----- 9\n",
      "61 °°°°°°°°°°°°°°°°°°°°°°°°°°°°°°°°°°°°°°°° 14 ----- 9\n",
      "62 °°°°°°°°°°°°°°°°°°°°°°°°°°°°°°°°°°°°°°°° 14 ----- 9\n",
      "63 °°°°°°°°°°°°°°°°°°°°°°°°°°°°°°°°°°°°°°°° 14 ----- 9\n",
      "64 °°°°°°°°°°°°°°°°°°°°°°°°°°°°°°°°°°°°°°°° 14 ----- 9\n",
      "73 °°°°°°°°°°°°°°°°°°°°°°°°°°°°°°°°°°°°°°°° 12 ----- 5\n",
      "74 °°°°°°°°°°°°°°°°°°°°°°°°°°°°°°°°°°°°°°°° 12 ----- 8\n",
      "75 °°°°°°°°°°°°°°°°°°°°°°°°°°°°°°°°°°°°°°°° 12 ----- 10\n",
      "76 °°°°°°°°°°°°°°°°°°°°°°°°°°°°°°°°°°°°°°°° 12 ----- 3\n",
      "77 °°°°°°°°°°°°°°°°°°°°°°°°°°°°°°°°°°°°°°°° 13 ----- 11\n",
      "78 °°°°°°°°°°°°°°°°°°°°°°°°°°°°°°°°°°°°°°°° 13 ----- 11\n",
      "79 °°°°°°°°°°°°°°°°°°°°°°°°°°°°°°°°°°°°°°°° 13 ----- 11\n",
      "80 °°°°°°°°°°°°°°°°°°°°°°°°°°°°°°°°°°°°°°°° 13 ----- 9\n",
      "81 °°°°°°°°°°°°°°°°°°°°°°°°°°°°°°°°°°°°°°°° 13 ----- 11\n",
      "82 °°°°°°°°°°°°°°°°°°°°°°°°°°°°°°°°°°°°°°°° 13 ----- 11\n",
      "83 °°°°°°°°°°°°°°°°°°°°°°°°°°°°°°°°°°°°°°°° 14 ----- 9\n",
      "84 °°°°°°°°°°°°°°°°°°°°°°°°°°°°°°°°°°°°°°°° 14 ----- 9\n",
      "85 °°°°°°°°°°°°°°°°°°°°°°°°°°°°°°°°°°°°°°°° 14 ----- 9\n",
      "86 °°°°°°°°°°°°°°°°°°°°°°°°°°°°°°°°°°°°°°°° 4 ----- 0\n",
      "87 °°°°°°°°°°°°°°°°°°°°°°°°°°°°°°°°°°°°°°°° 4 ----- 0\n",
      "88 °°°°°°°°°°°°°°°°°°°°°°°°°°°°°°°°°°°°°°°° 6 ----- 5\n",
      "89 °°°°°°°°°°°°°°°°°°°°°°°°°°°°°°°°°°°°°°°° 6 ----- 5\n",
      "total:  89\n",
      "right_count:  34\n",
      "wrong_count 55\n"
     ]
    }
   ],
   "source": [
    "count =0\n",
    "right_count=0\n",
    "wrong_count=0\n",
    "for i,j in enumerate(y_test):\n",
    "    count +=1\n",
    "    if j == y_pred[i]:\n",
    "        right_count+=1\n",
    "#         print(count,'-'*5,j,'-'*5,y_pred[i])\n",
    "        \n",
    "    else:\n",
    "#         pass\n",
    "        wrong_count+=1\n",
    "        print(count,'°'*40,j,'-'*5,y_pred[i])\n",
    "print('total: ',count)\n",
    "print('right_count: ',right_count)\n",
    "print('wrong_count',wrong_count)"
   ]
  },
  {
   "cell_type": "markdown",
   "metadata": {},
   "source": [
    "# do accuracy calculationfrom scratch"
   ]
  },
  {
   "cell_type": "code",
   "execution_count": 13,
   "metadata": {
    "scrolled": true
   },
   "outputs": [
    {
     "name": "stdout",
     "output_type": "stream",
     "text": [
      "38.20224719101123\n"
     ]
    }
   ],
   "source": [
    "accuracy = (right_count/y_pred.shape[0])*100\n",
    "print(accuracy)"
   ]
  },
  {
   "cell_type": "markdown",
   "metadata": {},
   "source": [
    "# confusion matrix calculation"
   ]
  },
  {
   "cell_type": "code",
   "execution_count": 14,
   "metadata": {
    "scrolled": true
   },
   "outputs": [
    {
     "name": "stdout",
     "output_type": "stream",
     "text": [
      "[[2 0 0 0 3 0 0 0 0 0 0 0 0 0 0 0]\n",
      " [0 5 0 0 1 0 0 0 0 0 0 0 0 0 0 0]\n",
      " [0 0 2 0 0 0 0 0 0 2 0 0 0 0 0 0]\n",
      " [0 0 0 6 0 0 0 0 0 0 0 0 0 0 0 0]\n",
      " [2 0 0 0 0 0 0 0 0 0 0 0 0 0 0 0]\n",
      " [0 0 0 1 0 1 0 0 0 0 0 4 0 0 0 1]\n",
      " [0 0 0 0 0 2 0 0 0 0 0 0 0 0 0 0]\n",
      " [0 0 0 0 0 0 0 1 0 1 0 0 0 0 0 4]\n",
      " [0 0 0 0 0 0 0 0 2 0 1 3 0 0 0 0]\n",
      " [0 0 0 0 0 0 0 0 0 1 0 5 0 0 0 0]\n",
      " [0 0 0 0 0 0 0 0 0 0 1 5 0 0 0 0]\n",
      " [0 0 0 0 0 0 0 0 0 0 0 5 0 0 0 0]\n",
      " [0 0 0 2 0 1 0 0 1 0 1 0 0 0 0 0]\n",
      " [0 0 0 0 0 0 0 0 0 1 0 5 0 0 0 0]\n",
      " [0 0 0 0 0 0 0 0 0 9 0 0 0 0 0 0]\n",
      " [0 0 0 0 0 0 0 0 0 0 0 0 0 0 0 8]]\n",
      "<class 'numpy.ndarray'>\n",
      "(16, 16)\n"
     ]
    }
   ],
   "source": [
    "from sklearn.metrics import confusion_matrix\n",
    "results = confusion_matrix(y_test, y_pred)\n",
    "print(results)\n",
    "print(type(results))\n",
    "print(results.shape)"
   ]
  },
  {
   "cell_type": "markdown",
   "metadata": {},
   "source": [
    "# confusion matrix visualization with seaborn heatmap"
   ]
  },
  {
   "cell_type": "code",
   "execution_count": 15,
   "metadata": {},
   "outputs": [
    {
     "data": {
      "image/png": "[encoded data removed]",
      "text/plain": [
       "<Figure size 720x504 with 2 Axes>"
      ]
     },
     "metadata": {
      "needs_background": "light"
     },
     "output_type": "display_data"
    }
   ],
   "source": [
    "import seaborn as sn\n",
    "import pandas as pd\n",
    "import matplotlib.pyplot as plt\n",
    "\n",
    "df_cm = pd.DataFrame(results, range(16),\n",
    "                  range(16))\n",
    "plt.figure(figsize = (10,7))\n",
    "plt.tight_layout()\n",
    "sn.set(font_scale=1.4)#for label size\n",
    "\n",
    "ax = sn.heatmap(df_cm, annot=True,annot_kws={\"size\": 14},xticklabels=True, yticklabels=True)# font size\n",
    "ax.set(xlabel='predicted_class', ylabel='true_class')\n",
    "ax.set_ylim(16)\n",
    "figure = ax.get_figure()    \n",
    "# figure.savefig('2_sep_ax_conf.png', dpi=400)\n"
   ]
  },
  {
   "cell_type": "markdown",
   "metadata": {},
   "source": [
    "# confusion matrix visualization with matplotlib"
   ]
  },
  {
   "cell_type": "code",
   "execution_count": 26,
   "metadata": {},
   "outputs": [
    {
     "data": {
      "image/png": "[encoded data removed]",
      "text/plain": [
       "<Figure size 432x288 with 2 Axes>"
      ]
     },
     "metadata": {},
     "output_type": "display_data"
    }
   ],
   "source": [
    "from sklearn import metrics\n",
    "cm = metrics.confusion_matrix(y_test, y_pred)\n",
    "plt.imshow(cm, cmap=plt.cm.Accent)\n",
    "plt.xlabel(\"Predicted labels\")\n",
    "plt.ylabel(\"True labels\")\n",
    "plt.xticks([], [])\n",
    "# plt.xticks(y_pred)\n",
    "plt.yticks([], [])\n",
    "# plt.xticks(y_test)\n",
    "plt.title('Confusion matrix ')\n",
    "plt.colorbar()\n",
    "plt.show()"
   ]
  },
  {
   "cell_type": "markdown",
   "metadata": {},
   "source": [
    "# check class image by image"
   ]
  },
  {
   "cell_type": "code",
   "execution_count": null,
   "metadata": {
    "scrolled": false
   },
   "outputs": [],
   "source": [
    "import glob\n",
    "\n",
    "test_image_path = r'/home/atif/machine_learning_stuff/ml_image/test_image_26_aug/'\n",
    "\n",
    "my_name = ['SM_CalgonitFinish_2','SM_CalgonitFinishKlarspueler_5','SM_CalgonitFinishMaschinenpfleger_8','SM_CalgonitFinishSpezialSalz_11',\n",
    "           'SM_CalgonitFinishVorratspack_14','SM_DenkMitEdelstahlreiniger_17','SM_DenkMitEdelstahlReinigerSpray_20','SM_DenkMitEntkalker_23',\n",
    "           'SM_DenkMitGeschirrReiniger_26','SM_DenkMitGeschirrReinigerClassic_29','SM_DenkMitGeschirrReinigerEvo_32','SM_DenkMitGeschirrReinigerNature_35',\n",
    "           'SM_DenkMitHygieneAllzweckreiniger_38','SM_DenkMitMaschinenpfleger_41','SM_DenkMitSpezialsalz_44','SM_SomatClassic_53']\n",
    "\n",
    "img_path = glob.glob(test_image_path+ '/*.jpg')\n",
    "for image in img_path:\n",
    "    X_test=[]\n",
    "    X_test.append(preprocess_img(io.imread(image)))\n",
    "    X_test = np.array(X_test)\n",
    "#     plt.imshow(X_test)\n",
    "    X_test = X_test.reshape(len(X_test),3,IMG_SIZE,IMG_SIZE)\n",
    "    \n",
    "    print('image name is: ',image)\n",
    "    predicted_class = model.predict_classes(X_test)\n",
    "    print(\"predicted class: \",predicted_class)\n",
    "#     print('type-of predicted calss: ', type(predicted_class))\n",
    "    print('class name is: ',my_name[predicted_class[0]])\n",
    "    \n",
    "#     probability = model.predict_proba(X_test)\n",
    "#     print(\"probability: \",probability)\n",
    "    print('\\n')"
   ]
  },
  {
   "cell_type": "markdown",
   "metadata": {},
   "source": [
    "# training with data augmentation"
   ]
  },
  {
   "cell_type": "code",
   "execution_count": 18,
   "metadata": {},
   "outputs": [],
   "source": [
    "from sklearn.model_selection import train_test_split\n",
    "\n",
    "X_train, X_val, Y_train, Y_val = train_test_split(X, Y, test_size=0.2, random_state=42)\n",
    "\n",
    "datagen = ImageDataGenerator(featurewise_center=False, \n",
    "                            featurewise_std_normalization=False, \n",
    "                            width_shift_range=0.1,\n",
    "                            height_shift_range=0.1,\n",
    "                            zoom_range=0.2,\n",
    "                            shear_range=0.1,\n",
    "                            rotation_range=10.,)\n",
    "\n",
    "datagen.fit(X_train)"
   ]
  },
  {
   "cell_type": "code",
   "execution_count": 19,
   "metadata": {},
   "outputs": [],
   "source": [
    "model_augmentation = cnn_model()\n",
    "# let's train the model using SGD + momentum (how original).\n",
    "lr = 0.01\n",
    "sgd = SGD(lr=lr, decay=1e-6, momentum=0.9, nesterov=True)\n",
    "model_augmentation.compile(loss='categorical_crossentropy',\n",
    "          optimizer=sgd,\n",
    "          metrics=['accuracy'])\n",
    "\n",
    "\n",
    "def lr_schedule(epoch):\n",
    "    return lr*(0.1**int(epoch/10))"
   ]
  },
  {
   "cell_type": "code",
   "execution_count": null,
   "metadata": {},
   "outputs": [],
   "source": [
    "nb_epoch = 30\n",
    "batch_size = 32\n",
    "model_augmentation.fit_generator(datagen.flow(X_train, Y_train, batch_size=batch_size),\n",
    "                            steps_per_epoch=X_train.shape[0],\n",
    "                            epochs=nb_epoch,\n",
    "                            validation_data=(X_val, Y_val),\n",
    "                            callbacks=[LearningRateScheduler(lr_schedule),\n",
    "                                       ModelCheckpoint(path+'model_augmentation_30_epoch_27_aug.h5',save_best_only=True)]\n",
    "                           )"
   ]
  },
  {
   "cell_type": "code",
   "execution_count": 2,
   "metadata": {},
   "outputs": [
    {
     "data": {
      "text/plain": [
       "['/job:localhost/replica:0/task:0/device:GPU:0']"
      ]
     },
     "execution_count": 2,
     "metadata": {},
     "output_type": "execute_result"
    }
   ],
   "source": [
    "from keras import backend as K\n",
    "K.tensorflow_backend._get_available_gpus()"
   ]
  },
  {
   "cell_type": "code",
   "execution_count": 9,
   "metadata": {},
   "outputs": [
    {
     "data": {
      "text/plain": [
       "'3.1.1'"
      ]
     },
     "execution_count": 9,
     "metadata": {},
     "output_type": "execute_result"
    }
   ],
   "source": [
    "import matplotlib\n",
    "matplotlib.__version__"
   ]
  },
  {
   "cell_type": "code",
   "execution_count": null,
   "metadata": {},
   "outputs": [],
   "source": []
  }
 ],
 "metadata": {
  "kernelspec": {
   "display_name": "Python 3",
   "language": "python",
   "name": "python3"
  },
  "language_info": {
   "codemirror_mode": {
    "name": "ipython",
    "version": 3
   },
   "file_extension": ".py",
   "mimetype": "text/x-python",
   "name": "python",
   "nbconvert_exporter": "python",
   "pygments_lexer": "ipython3",
   "version": "3.6.8"
  }
 },
 "nbformat": 4,
 "nbformat_minor": 2
}
