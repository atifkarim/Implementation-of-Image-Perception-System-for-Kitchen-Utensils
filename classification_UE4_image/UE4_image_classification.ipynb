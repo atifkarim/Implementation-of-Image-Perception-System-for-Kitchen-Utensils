{
 "cells": [
  {
   "cell_type": "markdown",
   "metadata": {},
   "source": [
    "# In this notebook code for image preprocessing, raining and testing(image by image and overall accuracy) of UE4 image will be developed"
   ]
  },
  {
   "cell_type": "code",
   "execution_count": 30,
   "metadata": {},
   "outputs": [],
   "source": [
    "import numpy as np\n",
    "from skimage import io, color, exposure, transform\n",
    "from skimage.color import rgb2gray\n",
    "#from sklearn.cross_validation import train_test_split\n",
    "from sklearn.model_selection import train_test_split  #it came from update scikit learn. https://stackoverflow.com/questions/40704484/importerror-no-module-named-model-selection\n",
    "import os\n",
    "import glob\n",
    "import h5py\n",
    "import keras\n",
    "\n",
    "from keras.preprocessing.image import ImageDataGenerator\n",
    "from keras.models import Sequential, model_from_json\n",
    "from keras.layers.core import Dense, Dropout, Activation, Flatten\n",
    "from keras.layers.convolutional import Conv2D,Conv1D\n",
    "from keras.layers.pooling import MaxPooling2D\n",
    "\n",
    "from keras.layers.convolutional import Convolution2D, MaxPooling2D\n",
    "\n",
    "from keras.optimizers import SGD\n",
    "from keras.utils import np_utils\n",
    "from keras.callbacks import LearningRateScheduler, ModelCheckpoint\n",
    "from keras import backend as K\n",
    "K.set_image_data_format('channels_first')\n",
    "\n",
    "from matplotlib import pyplot as plt\n",
    "get_ipython().run_line_magic('matplotlib', 'inline')\n",
    "from matplotlib.pylab import rcParams\n",
    "\n",
    "#import keras\n",
    "\n",
    "NUM_CLASSES = 16 # change it with respect to the desired class\n",
    "IMG_SIZE = 48 # change it if it desired\n",
    "IMG_depth = 3 # for RGB 3, for B&W it will be 1"
   ]
  },
  {
   "cell_type": "markdown",
   "metadata": {},
   "source": [
    "# Image preprocessing function"
   ]
  },
  {
   "cell_type": "code",
   "execution_count": 31,
   "metadata": {},
   "outputs": [],
   "source": [
    "def preprocess_img(img):\n",
    "    # Histogram normalization in y\n",
    "    hsv = color.rgb2hsv(img)\n",
    "    hsv[:,:,2] = exposure.equalize_hist(hsv[:,:,2])\n",
    "    img = color.hsv2rgb(hsv)\n",
    "\n",
    "    # central scrop\n",
    "    min_side = min(img.shape[:-1])\n",
    "    centre = img.shape[0]//2, img.shape[1]//2\n",
    "    img = img[centre[0]-min_side//2:centre[0]+min_side//2,centre[1]-min_side//2:centre[1]+min_side//2,:]\n",
    "#    img = rgb2gray(img)\n",
    "\n",
    "    # rescale to standard size\n",
    "    img = transform.resize(img, (IMG_SIZE, IMG_SIZE))\n",
    "\n",
    "    # roll color axis to axis 0\n",
    "    img = np.rollaxis(img,-1)\n",
    "\n",
    "    return img\n",
    "\n",
    "def get_class(img_path):\n",
    "    return int(img_path.split('/')[-2])\n",
    "#     return str(img_path.split('/')[-2]) # returning the folder name. If use -1 that means image name. consider the img_path."
   ]
  },
  {
   "cell_type": "code",
   "execution_count": 12,
   "metadata": {},
   "outputs": [
    {
     "name": "stdout",
     "output_type": "stream",
     "text": [
      "Processed 1200/7200\n",
      "Processed 2400/7200\n",
      "Processed 3600/7200\n",
      "Processed 4800/7200\n",
      "Processed 6000/7200\n",
      "Processed 7200/7200\n"
     ]
    }
   ],
   "source": [
    "imgs = []\n",
    "labels = []\n",
    "root_dir = '/home/atif/machine_learning_stuff/ml_image/train_image_AI/'\n",
    "#path='/home/atif/training_by_several_learning_process/flower_photos/00000/'\n",
    "\n",
    "#all_img_paths = glob.glob(path+ '5547758_eea9edfd54_n_000.jpg')\n",
    "\n",
    "all_img_paths = glob.glob(os.path.join(root_dir, '*/*.png')) #I have done the training with .png format image. If another type of image will come \n",
    "                                                                                    #them .png will be changed by that extension\n",
    "np.random.shuffle(all_img_paths)\n",
    "for img_path in all_img_paths:\n",
    "    try:\n",
    "        img = preprocess_img(io.imread(img_path))\n",
    "        label = get_class(img_path)\n",
    "        imgs.append(img)\n",
    "        labels.append(label)\n",
    "\n",
    "        if len(imgs)%1200 == 0: print(\"Processed {}/{}\".format(len(imgs), len(all_img_paths)))\n",
    "            #print(\"get it 2\")\n",
    "    except (IOError, OSError):\n",
    "        print('missed', img_path)\n",
    "        pass"
   ]
  },
  {
   "cell_type": "code",
   "execution_count": 13,
   "metadata": {},
   "outputs": [
    {
     "name": "stdout",
     "output_type": "stream",
     "text": [
      "X shape:  (7200, 3, 48, 48)  type:  <class 'numpy.ndarray'>\n",
      "Y shape:  (7200, 2)  type:  <class 'numpy.ndarray'>\n"
     ]
    }
   ],
   "source": [
    "X = np.array(imgs, dtype='float32') #Keeping the image as an array\n",
    "X = X.reshape(len(imgs),IMG_depth,IMG_SIZE,IMG_SIZE) # write (IMG_SIZE,IMG_SIZE,1 if you want channel last; 1= grayscale;3=RGB)\n",
    "# Y = np.eye(NUM_CLASSES, dtype='uint8')[labels]\n",
    "Y = keras.utils.to_categorical(labels, NUM_CLASSES)\n",
    "\n",
    "print('X shape: ', X.shape,' type: ',type(X))\n",
    "print('Y shape: ', Y.shape,' type: ',type(Y))"
   ]
  },
  {
   "cell_type": "markdown",
   "metadata": {},
   "source": [
    "# Model declaration"
   ]
  },
  {
   "cell_type": "code",
   "execution_count": 14,
   "metadata": {},
   "outputs": [],
   "source": [
    "def cnn_model():\n",
    "    model = Sequential()\n",
    "\n",
    "    model.add(Conv2D(32, (3, 3), padding='same',\n",
    "                     input_shape=(3, IMG_SIZE, IMG_SIZE),\n",
    "                     activation='relu'))\n",
    "    model.add(Conv2D(32, (3, 3), activation='relu'))\n",
    "    model.add(MaxPooling2D(pool_size=(2, 2)))\n",
    "    model.add(Dropout(0.2))\n",
    "\n",
    "    model.add(Conv2D(64, (3, 3), padding='same',\n",
    "                     activation='relu'))\n",
    "    model.add(Conv2D(64, (3, 3), activation='relu'))\n",
    "    model.add(MaxPooling2D(pool_size=(2, 2)))\n",
    "    model.add(Dropout(0.2))\n",
    "\n",
    "    model.add(Conv2D(128, (3, 3), padding='same',\n",
    "                     activation='relu'))\n",
    "    model.add(Conv2D(128, (3, 3), activation='relu'))\n",
    "    model.add(MaxPooling2D(pool_size=(2, 2)))\n",
    "    model.add(Dropout(0.2))\n",
    "\n",
    "    model.add(Flatten())\n",
    "    model.add(Dense(512, activation='relu'))\n",
    "    model.add(Dropout(0.5))\n",
    "    model.add(Dense(NUM_CLASSES, activation='softmax'))\n",
    "    return model\n",
    "\n",
    "model = cnn_model()\n",
    "\n",
    "lr = 0.01\n",
    "sgd = SGD(lr=lr, decay=1e-6, momentum=0.9, nesterov=True)\n",
    "model.compile(loss='categorical_crossentropy',\n",
    "          optimizer=sgd,\n",
    "          metrics=['accuracy'])"
   ]
  },
  {
   "cell_type": "code",
   "execution_count": null,
   "metadata": {},
   "outputs": [],
   "source": [
    "model.summary()"
   ]
  },
  {
   "cell_type": "code",
   "execution_count": 16,
   "metadata": {},
   "outputs": [],
   "source": [
    "path = '/home/atif/machine_learning_stuff/model_file_keras/'"
   ]
  },
  {
   "cell_type": "code",
   "execution_count": null,
   "metadata": {
    "scrolled": true
   },
   "outputs": [],
   "source": [
    "def lr_schedule(epoch):\n",
    "    return lr * (0.1 ** int(epoch / 10))\n",
    "\n",
    "batch_size = 32\n",
    "epochs = 1\n",
    "do_train_model=model.fit(X, Y,\n",
    "          batch_size=batch_size,\n",
    "          epochs=epochs,\n",
    "          validation_split=0.2,verbose=2,\n",
    "          #np.resize(img, (-1, <image shape>)\n",
    "          callbacks=[LearningRateScheduler(lr_schedule),ModelCheckpoint(path+'19_aug_ep_1_label_string.h5', save_best_only=True)])"
   ]
  },
  {
   "cell_type": "markdown",
   "metadata": {},
   "source": [
    "# load saved model"
   ]
  },
  {
   "cell_type": "code",
   "execution_count": 32,
   "metadata": {},
   "outputs": [],
   "source": [
    "from keras.models import load_model\n",
    "model = load_model('/home/atif/machine_learning_stuff/model_file_keras/08_aug_ep_100.h5')"
   ]
  },
  {
   "cell_type": "markdown",
   "metadata": {},
   "source": [
    "# Check total accuracy of the model using all test images"
   ]
  },
  {
   "cell_type": "code",
   "execution_count": 33,
   "metadata": {
    "scrolled": false
   },
   "outputs": [
    {
     "name": "stdout",
     "output_type": "stream",
     "text": [
      "filename:  denkmit_edelstahk_reiniger (1).jpg \t classId:  5\n",
      "filename:  denkmit_edelstahk_reiniger (2).jpg \t classId:  5\n",
      "filename:  denkmit_edelstahk_reiniger (3).jpg \t classId:  5\n",
      "filename:  denkmit_edelstahk_reiniger (4).jpg \t classId:  5\n",
      "filename:  denkmit_edelstahk_reiniger (5).jpg \t classId:  5\n",
      "filename:  denkmit_edelstahk_reiniger (6).jpg \t classId:  5\n",
      "filename:  denkmit_edelstahk_reiniger (7).jpg \t classId:  5\n",
      "filename:  denkmit_Entkalker (1).jpg \t classId:  7\n",
      "filename:  denkmit_Entkalker (2).jpg \t classId:  7\n",
      "filename:  denkmit_Entkalker (3).jpg \t classId:  7\n",
      "filename:  denkmit_Entkalker (4).jpg \t classId:  7\n",
      "filename:  denkmit_Entkalker (5).jpg \t classId:  7\n",
      "filename:  denkmit_Entkalker (6).jpg \t classId:  7\n",
      "filename:  denkmit_geschirrreiniger_REVOLUTION (1).jpg \t classId:  10\n",
      "filename:  denkmit_geschirrreiniger_REVOLUTION (2).jpg \t classId:  10\n",
      "filename:  denkmit_geschirrreiniger_REVOLUTION (3).jpg \t classId:  10\n",
      "filename:  denkmit_geschirrreiniger_REVOLUTION (4).jpg \t classId:  10\n",
      "filename:  denkmit_geschirrreiniger_REVOLUTION (5).jpg \t classId:  10\n",
      "filename:  denkmit_geschirrreiniger_REVOLUTION (6).jpg \t classId:  10\n",
      "filename:  Denkmit_geschirr_reiniger_classic (1).jpg \t classId:  9\n",
      "filename:  Denkmit_geschirr_reiniger_classic (3).jpg \t classId:  9\n",
      "filename:  Denkmit_geschirr_reiniger_classic (4).jpg \t classId:  9\n",
      "filename:  Denkmit_geschirr_reiniger_classic (5).jpg \t classId:  9\n",
      "filename:  Denkmit_geschirr_reiniger_classic (6).jpg \t classId:  9\n",
      "filename:  denkmit_geschirr_reiniger_multipower (1).jpg \t classId:  8\n",
      "filename:  denkmit_geschirr_reiniger_multipower (2).jpg \t classId:  8\n",
      "filename:  denkmit_geschirr_reiniger_multipower (3).jpg \t classId:  8\n",
      "filename:  denkmit_geschirr_reiniger_multipower (4).jpg \t classId:  8\n",
      "filename:  denkmit_geschirr_reiniger_multipower (5).jpg \t classId:  8\n",
      "filename:  denkmit_geschirr_reiniger_multipower (6).jpg \t classId:  8\n",
      "filename:  denkmit_geschirr_reiniger_NATURE (1).jpg \t classId:  11\n",
      "filename:  denkmit_geschirr_reiniger_NATURE (2).jpg \t classId:  11\n",
      "filename:  denkmit_geschirr_reiniger_NATURE (3).jpg \t classId:  11\n",
      "filename:  denkmit_geschirr_reiniger_NATURE (4).jpg \t classId:  11\n",
      "filename:  denkmit_geschirr_reiniger_NATURE (5).jpg \t classId:  11\n",
      "filename:  calgonit_finish_speizalsalz (3).jpg \t classId:  3\n",
      "filename:  Denkmit_geschirr_reiniger_classic (2).jpg \t classId:  9\n",
      "filename:  denkmit_hygiene_Allzweck_reiniger (1).jpg \t classId:  12\n",
      "filename:  denkmit_spezalsalz (4).jpg \t classId:  14\n",
      "filename:  calgonit_finish_speizalsalz (4).jpg \t classId:  3\n",
      "filename:  calgonit_finish_speizalsalz (5).jpg \t classId:  3\n",
      "filename:  calgonit_finish_speizalsalz (6).jpg \t classId:  3\n",
      "filename:  calgonit_maschine_pfleger (1).jpg \t classId:  2\n",
      "filename:  calgonit_maschine_pfleger (2).jpg \t classId:  2\n",
      "filename:  calgonit_maschine_pfleger (3).jpg \t classId:  2\n",
      "filename:  calgonit_maschine_pfleger (4).jpg \t classId:  2\n",
      "filename:  calgonit_finish_classic (1).jpg \t classId:  0\n",
      "filename:  calgonit_finish_classic (2).jpg \t classId:  0\n",
      "filename:  calgonit_finish_classic (3).jpg \t classId:  0\n",
      "filename:  calgonit_finish_classic (4).jpg \t classId:  0\n",
      "filename:  calgonit_finish_classic (5).jpg \t classId:  0\n",
      "filename:  calgonit_finish_klarspueler (1).jpg \t classId:  1\n",
      "filename:  calgonit_finish_klarspueler (2).jpg \t classId:  1\n",
      "filename:  calgonit_finish_klarspueler (3).jpg \t classId:  1\n",
      "filename:  calgonit_finish_klarspueler (4).jpg \t classId:  1\n",
      "filename:  calgonit_finish_klarspueler (5).jpg \t classId:  1\n",
      "filename:  calgonit_finish_klarspueler (6).jpg \t classId:  1\n",
      "filename:  calgonit_finish_speizalsalz (1).jpg \t classId:  3\n",
      "filename:  calgonit_finish_speizalsalz (2).jpg \t classId:  3\n",
      "filename:  denkmit_spezalsalz (5).jpg \t classId:  14\n",
      "filename:  denkmit_spezalsalz (6).jpg \t classId:  14\n",
      "filename:  denkmit_spezalsalz (7).jpg \t classId:  14\n",
      "filename:  denkmit_spezalsalz (8).jpg \t classId:  14\n",
      "filename:  denkmit_spezalsalz (9).jpg \t classId:  14\n",
      "filename:  somat (1).jpg \t classId:  15\n",
      "filename:  somat (2).jpg \t classId:  15\n",
      "filename:  somat_3.jpg \t classId:  15\n",
      "filename:  somat_4.jpg \t classId:  15\n",
      "filename:  somat_5.jpg \t classId:  15\n",
      "filename:  somat_6.jpg \t classId:  15\n",
      "filename:  somat_7.jpg \t classId:  15\n",
      "filename:  somat_8.jpg \t classId:  15\n",
      "filename:  denkmit_hygiene_Allzweck_reiniger (2).jpg \t classId:  12\n",
      "filename:  denkmit_hygiene_Allzweck_reiniger (3).jpg \t classId:  12\n",
      "filename:  denkmit_hygiene_Allzweck_reiniger (4).jpg \t classId:  12\n",
      "filename:  denkmit_hygiene_Allzweck_reiniger (5).jpg \t classId:  12\n",
      "filename:  denkmit_mascine_pfleger (1).jpg \t classId:  13\n",
      "filename:  denkmit_mascine_pfleger (2).jpg \t classId:  13\n",
      "filename:  denkmit_mascine_pfleger (3).jpg \t classId:  13\n",
      "filename:  denkmit_mascine_pfleger (4).jpg \t classId:  13\n",
      "filename:  denkmit_mascine_pfleger (5).jpg \t classId:  13\n",
      "filename:  denkmit_mascine_pfleger (6).jpg \t classId:  13\n",
      "filename:  denkmit_spezalsalz (1).jpg \t classId:  14\n",
      "filename:  denkmit_spezalsalz (2).jpg \t classId:  14\n",
      "filename:  denkmit_spezalsalz (3).jpg \t classId:  14\n"
     ]
    }
   ],
   "source": [
    "import pandas as pd\n",
    "test = pd.read_csv('/home/atif/machine_learning_stuff/ml_image/test_image_keras_IAI.csv',sep=';')\n",
    "# test_image_path =  '/home/atif/machine_learning_stuff/ml_image/test_image_crop/'\n",
    "\n",
    "X_test = []\n",
    "y_test = []\n",
    "i = 0\n",
    "for file_name, class_id  in zip(list(test['Filename']), list(test['ClassId'])):\n",
    "    print('filename: ',file_name,'\\t classId: ',class_id)\n",
    "    #print('classId: ',class_id)\n",
    "    img_path = os.path.join('/home/atif/machine_learning_stuff/ml_image/test_image_26_aug/',file_name)\n",
    "#     img_path = glob.glob(os.path.join(test_image_path, '*/*.jpg'))\n",
    "    X_test.append(preprocess_img(io.imread(img_path)))\n",
    "    y_test.append(class_id)\n",
    "    \n",
    "X_test = np.array(X_test)\n",
    "y_test = np.array(y_test)"
   ]
  },
  {
   "cell_type": "code",
   "execution_count": 34,
   "metadata": {
    "scrolled": true
   },
   "outputs": [
    {
     "name": "stdout",
     "output_type": "stream",
     "text": [
      "/home/atif/machine_learning_stuff/ml_image/test_image_26_aug/denkmit_spezalsalz (3).jpg\n"
     ]
    }
   ],
   "source": [
    "print(img_path)"
   ]
  },
  {
   "cell_type": "code",
   "execution_count": 35,
   "metadata": {},
   "outputs": [
    {
     "data": {
      "text/plain": [
       "array([ 5,  5,  5,  5,  5,  5,  5,  7,  7,  7,  7,  7,  7, 10, 10, 10, 10,\n",
       "       10, 10,  9,  9,  9,  9,  9,  8,  8,  8,  8,  8,  8, 11, 11, 11, 11,\n",
       "       11,  3,  9, 12, 14,  3,  3,  3,  2,  2,  2,  2,  0,  0,  0,  0,  0,\n",
       "        1,  1,  1,  1,  1,  1,  3,  3, 14, 14, 14, 14, 14, 15, 15, 15, 15,\n",
       "       15, 15, 15, 15, 12, 12, 12, 12, 13, 13, 13, 13, 13, 13, 14, 14, 14])"
      ]
     },
     "execution_count": 35,
     "metadata": {},
     "output_type": "execute_result"
    }
   ],
   "source": [
    "y_test"
   ]
  },
  {
   "cell_type": "code",
   "execution_count": 36,
   "metadata": {},
   "outputs": [
    {
     "name": "stdout",
     "output_type": "stream",
     "text": [
      "Test accuracy = 0.7294117647058823\n"
     ]
    }
   ],
   "source": [
    "y_pred = model.predict_classes(X_test)\n",
    "acc = np.sum(y_pred==y_test)/np.size(y_pred)\n",
    "print(\"Test accuracy = {}\".format(acc))"
   ]
  },
  {
   "cell_type": "code",
   "execution_count": 37,
   "metadata": {
    "scrolled": false
   },
   "outputs": [
    {
     "data": {
      "text/plain": [
       "array([11,  5, 11, 11, 11, 11, 11,  7,  7,  7,  7,  7,  7,  9, 11,  9,  9,\n",
       "        9, 11,  9, 11, 11,  9,  9,  9,  8,  8,  8,  8,  8, 11, 11, 11, 11,\n",
       "       11,  3,  9,  3, 14,  3,  3,  3,  2,  2,  2,  2,  4,  0,  0,  0,  0,\n",
       "        1,  1,  1,  1,  1,  1,  3,  3, 14, 14, 14,  3, 14, 15, 15, 15, 15,\n",
       "       15, 15, 15, 15,  3,  0,  3, 12, 13, 13, 13, 14, 13,  9, 14, 14, 14])"
      ]
     },
     "execution_count": 37,
     "metadata": {},
     "output_type": "execute_result"
    }
   ],
   "source": [
    "y_pred"
   ]
  },
  {
   "cell_type": "code",
   "execution_count": 50,
   "metadata": {},
   "outputs": [
    {
     "data": {
      "text/plain": [
       "(85,)"
      ]
     },
     "execution_count": 50,
     "metadata": {},
     "output_type": "execute_result"
    }
   ],
   "source": [
    "y_test.shape"
   ]
  },
  {
   "cell_type": "code",
   "execution_count": 64,
   "metadata": {
    "scrolled": false
   },
   "outputs": [
    {
     "name": "stdout",
     "output_type": "stream",
     "text": [
      "1 °°°°°°°°°°°°°°°°°°°°°°°°°°°°°°°°°°°°°°°° 5 ----- 11\n",
      "2 ----- 5 ----- 5\n",
      "3 °°°°°°°°°°°°°°°°°°°°°°°°°°°°°°°°°°°°°°°° 5 ----- 11\n",
      "4 °°°°°°°°°°°°°°°°°°°°°°°°°°°°°°°°°°°°°°°° 5 ----- 11\n",
      "5 °°°°°°°°°°°°°°°°°°°°°°°°°°°°°°°°°°°°°°°° 5 ----- 11\n",
      "6 °°°°°°°°°°°°°°°°°°°°°°°°°°°°°°°°°°°°°°°° 5 ----- 11\n",
      "7 °°°°°°°°°°°°°°°°°°°°°°°°°°°°°°°°°°°°°°°° 5 ----- 11\n",
      "8 ----- 7 ----- 7\n",
      "9 ----- 7 ----- 7\n",
      "10 ----- 7 ----- 7\n",
      "11 ----- 7 ----- 7\n",
      "12 ----- 7 ----- 7\n",
      "13 ----- 7 ----- 7\n",
      "14 °°°°°°°°°°°°°°°°°°°°°°°°°°°°°°°°°°°°°°°° 10 ----- 9\n",
      "15 °°°°°°°°°°°°°°°°°°°°°°°°°°°°°°°°°°°°°°°° 10 ----- 11\n",
      "16 °°°°°°°°°°°°°°°°°°°°°°°°°°°°°°°°°°°°°°°° 10 ----- 9\n",
      "17 °°°°°°°°°°°°°°°°°°°°°°°°°°°°°°°°°°°°°°°° 10 ----- 9\n",
      "18 °°°°°°°°°°°°°°°°°°°°°°°°°°°°°°°°°°°°°°°° 10 ----- 9\n",
      "19 °°°°°°°°°°°°°°°°°°°°°°°°°°°°°°°°°°°°°°°° 10 ----- 11\n",
      "20 ----- 9 ----- 9\n",
      "21 °°°°°°°°°°°°°°°°°°°°°°°°°°°°°°°°°°°°°°°° 9 ----- 11\n",
      "22 °°°°°°°°°°°°°°°°°°°°°°°°°°°°°°°°°°°°°°°° 9 ----- 11\n",
      "23 ----- 9 ----- 9\n",
      "24 ----- 9 ----- 9\n",
      "25 °°°°°°°°°°°°°°°°°°°°°°°°°°°°°°°°°°°°°°°° 8 ----- 9\n",
      "26 ----- 8 ----- 8\n",
      "27 ----- 8 ----- 8\n",
      "28 ----- 8 ----- 8\n",
      "29 ----- 8 ----- 8\n",
      "30 ----- 8 ----- 8\n",
      "31 ----- 11 ----- 11\n",
      "32 ----- 11 ----- 11\n",
      "33 ----- 11 ----- 11\n",
      "34 ----- 11 ----- 11\n",
      "35 ----- 11 ----- 11\n",
      "36 ----- 3 ----- 3\n",
      "37 ----- 9 ----- 9\n",
      "38 °°°°°°°°°°°°°°°°°°°°°°°°°°°°°°°°°°°°°°°° 12 ----- 3\n",
      "39 ----- 14 ----- 14\n",
      "40 ----- 3 ----- 3\n",
      "41 ----- 3 ----- 3\n",
      "42 ----- 3 ----- 3\n",
      "43 ----- 2 ----- 2\n",
      "44 ----- 2 ----- 2\n",
      "45 ----- 2 ----- 2\n",
      "46 ----- 2 ----- 2\n",
      "47 °°°°°°°°°°°°°°°°°°°°°°°°°°°°°°°°°°°°°°°° 0 ----- 4\n",
      "48 ----- 0 ----- 0\n",
      "49 ----- 0 ----- 0\n",
      "50 ----- 0 ----- 0\n",
      "51 ----- 0 ----- 0\n",
      "52 ----- 1 ----- 1\n",
      "53 ----- 1 ----- 1\n",
      "54 ----- 1 ----- 1\n",
      "55 ----- 1 ----- 1\n",
      "56 ----- 1 ----- 1\n",
      "57 ----- 1 ----- 1\n",
      "58 ----- 3 ----- 3\n",
      "59 ----- 3 ----- 3\n",
      "60 ----- 14 ----- 14\n",
      "61 ----- 14 ----- 14\n",
      "62 ----- 14 ----- 14\n",
      "63 °°°°°°°°°°°°°°°°°°°°°°°°°°°°°°°°°°°°°°°° 14 ----- 3\n",
      "64 ----- 14 ----- 14\n",
      "65 ----- 15 ----- 15\n",
      "66 ----- 15 ----- 15\n",
      "67 ----- 15 ----- 15\n",
      "68 ----- 15 ----- 15\n",
      "69 ----- 15 ----- 15\n",
      "70 ----- 15 ----- 15\n",
      "71 ----- 15 ----- 15\n",
      "72 ----- 15 ----- 15\n",
      "73 °°°°°°°°°°°°°°°°°°°°°°°°°°°°°°°°°°°°°°°° 12 ----- 3\n",
      "74 °°°°°°°°°°°°°°°°°°°°°°°°°°°°°°°°°°°°°°°° 12 ----- 0\n",
      "75 °°°°°°°°°°°°°°°°°°°°°°°°°°°°°°°°°°°°°°°° 12 ----- 3\n",
      "76 ----- 12 ----- 12\n",
      "77 ----- 13 ----- 13\n",
      "78 ----- 13 ----- 13\n",
      "79 ----- 13 ----- 13\n",
      "80 °°°°°°°°°°°°°°°°°°°°°°°°°°°°°°°°°°°°°°°° 13 ----- 14\n",
      "81 ----- 13 ----- 13\n",
      "82 °°°°°°°°°°°°°°°°°°°°°°°°°°°°°°°°°°°°°°°° 13 ----- 9\n",
      "83 ----- 14 ----- 14\n",
      "84 ----- 14 ----- 14\n",
      "85 ----- 14 ----- 14\n",
      "85\n"
     ]
    }
   ],
   "source": [
    "count =0\n",
    "right_count=0\n",
    "for i,j in enumerate(y_test):\n",
    "    count +=1\n",
    "    if j == y_pred[i]:\n",
    "        right_count+=1\n",
    "        print(count,'-'*5,j,'-'*5,y_pred[i])\n",
    "        \n",
    "    else:\n",
    "#         pass\n",
    "        print(count,'°'*40,j,'-'*5,y_pred[i])\n",
    "print(count)    "
   ]
  },
  {
   "cell_type": "code",
   "execution_count": 65,
   "metadata": {},
   "outputs": [
    {
     "name": "stdout",
     "output_type": "stream",
     "text": [
      "72.94117647058823\n"
     ]
    }
   ],
   "source": [
    "accuracy = (right_count/y_pred.shape[0])*100\n",
    "print(accuracy)"
   ]
  },
  {
   "cell_type": "code",
   "execution_count": 81,
   "metadata": {
    "scrolled": false
   },
   "outputs": [
    {
     "name": "stdout",
     "output_type": "stream",
     "text": [
      "[[4 0 0 0 1 0 0 0 0 0 0 0 0 0 0]\n",
      " [0 6 0 0 0 0 0 0 0 0 0 0 0 0 0]\n",
      " [0 0 4 0 0 0 0 0 0 0 0 0 0 0 0]\n",
      " [0 0 0 6 0 0 0 0 0 0 0 0 0 0 0]\n",
      " [0 0 0 0 0 0 0 0 0 0 0 0 0 0 0]\n",
      " [0 0 0 0 0 1 0 0 0 0 6 0 0 0 0]\n",
      " [0 0 0 0 0 0 6 0 0 0 0 0 0 0 0]\n",
      " [0 0 0 0 0 0 0 5 1 0 0 0 0 0 0]\n",
      " [0 0 0 0 0 0 0 0 4 0 2 0 0 0 0]\n",
      " [0 0 0 0 0 0 0 0 4 0 2 0 0 0 0]\n",
      " [0 0 0 0 0 0 0 0 0 0 5 0 0 0 0]\n",
      " [1 0 0 3 0 0 0 0 0 0 0 1 0 0 0]\n",
      " [0 0 0 0 0 0 0 0 1 0 0 0 4 1 0]\n",
      " [0 0 0 1 0 0 0 0 0 0 0 0 0 8 0]\n",
      " [0 0 0 0 0 0 0 0 0 0 0 0 0 0 8]]\n",
      "<class 'numpy.ndarray'>\n"
     ]
    }
   ],
   "source": [
    "from sklearn.metrics import confusion_matrix\n",
    "results = confusion_matrix(y_test, y_pred)\n",
    "print(results)\n",
    "print(type(results))"
   ]
  },
  {
   "cell_type": "code",
   "execution_count": 98,
   "metadata": {},
   "outputs": [
    {
     "data": {
      "text/plain": [
       "<matplotlib.axes._subplots.AxesSubplot at 0x7f349e259b00>"
      ]
     },
     "execution_count": 98,
     "metadata": {},
     "output_type": "execute_result"
    },
    {
     "data": {
      "image/png": "[encoded data removed]",
      "text/plain": [
       "<Figure size 720x504 with 2 Axes>"
      ]
     },
     "metadata": {},
     "output_type": "display_data"
    }
   ],
   "source": [
    "import seaborn as sn\n",
    "import pandas as pd\n",
    "import matplotlib.pyplot as plt\n",
    "\n",
    "df_cm = pd.DataFrame(results, range(15),\n",
    "                  range(15))\n",
    "plt.figure(figsize = (10,7))\n",
    "# sn.set(font_scale=1.4)#for label size\n",
    "sn.heatmap(df_cm, annot=True,annot_kws={\"size\": 14})# font size"
   ]
  },
  {
   "cell_type": "code",
   "execution_count": 44,
   "metadata": {},
   "outputs": [],
   "source": [
    "from sklearn import metrics\n",
    "cm = metrics.confusion_matrix(y_test, y_pred)"
   ]
  },
  {
   "cell_type": "code",
   "execution_count": 80,
   "metadata": {},
   "outputs": [],
   "source": [
    "# from sklearn.utils.multiclass import unique_labels\n",
    "# classes = classes[unique_labels(y_test, y_pred)]"
   ]
  },
  {
   "cell_type": "code",
   "execution_count": 77,
   "metadata": {},
   "outputs": [
    {
     "data": {
      "image/png": "[encoded data removed]",
      "text/plain": [
       "<Figure size 432x288 with 2 Axes>"
      ]
     },
     "metadata": {
      "needs_background": "light"
     },
     "output_type": "display_data"
    }
   ],
   "source": [
    "plt.imshow(cm, cmap=plt.cm.Accent)\n",
    "plt.xlabel(\"Predicted labels\")\n",
    "plt.ylabel(\"True labels\")\n",
    "# plt.xticks([], [])\n",
    "plt.xticks(y_pred)\n",
    "# plt.yticks([], [])\n",
    "plt.xticks(y_test)\n",
    "plt.title('Confusion matrix ')\n",
    "plt.colorbar()\n",
    "plt.show()"
   ]
  },
  {
   "cell_type": "markdown",
   "metadata": {},
   "source": [
    "# check class image by image"
   ]
  },
  {
   "cell_type": "code",
   "execution_count": null,
   "metadata": {
    "scrolled": false
   },
   "outputs": [],
   "source": [
    "import glob\n",
    "\n",
    "test_image_path = r'/home/atif/machine_learning_stuff/ml_image/test_image_26_aug/'\n",
    "\n",
    "my_name = ['SM_CalgonitFinish_2','SM_CalgonitFinishKlarspueler_5','SM_CalgonitFinishMaschinenpfleger_8','SM_CalgonitFinishSpezialSalz_11',\n",
    "           'SM_CalgonitFinishVorratspack_14','SM_DenkMitEdelstahlreiniger_17','SM_DenkMitEdelstahlReinigerSpray_20','SM_DenkMitEntkalker_23',\n",
    "           'SM_DenkMitGeschirrReiniger_26','SM_DenkMitGeschirrReinigerClassic_29','SM_DenkMitGeschirrReinigerEvo_32','SM_DenkMitGeschirrReinigerNature_35',\n",
    "           'SM_DenkMitHygieneAllzweckreiniger_38','SM_DenkMitMaschinenpfleger_41','SM_DenkMitSpezialsalz_44','SM_SomatClassic_53']\n",
    "\n",
    "img_path = glob.glob(test_image_path+ '/*.jpg')\n",
    "for image in img_path:\n",
    "    X_test=[]\n",
    "    X_test.append(preprocess_img(io.imread(image)))\n",
    "    X_test = np.array(X_test)\n",
    "#     plt.imshow(X_test)\n",
    "    X_test = X_test.reshape(len(X_test),3,IMG_SIZE,IMG_SIZE)\n",
    "    \n",
    "    print('image name is: ',image)\n",
    "    predicted_class = model.predict_classes(X_test)\n",
    "    print(\"predicted class: \",predicted_class)\n",
    "#     print('type-of predicted calss: ', type(predicted_class))\n",
    "    print('class name is: ',my_name[predicted_class[0]])\n",
    "    \n",
    "#     probability = model.predict_proba(X_test)\n",
    "#     print(\"probability: \",probability)\n",
    "    print('\\n')"
   ]
  },
  {
   "cell_type": "markdown",
   "metadata": {},
   "source": [
    "# training with data augmentation"
   ]
  },
  {
   "cell_type": "code",
   "execution_count": 18,
   "metadata": {},
   "outputs": [],
   "source": [
    "from sklearn.model_selection import train_test_split\n",
    "\n",
    "X_train, X_val, Y_train, Y_val = train_test_split(X, Y, test_size=0.2, random_state=42)\n",
    "\n",
    "datagen = ImageDataGenerator(featurewise_center=False, \n",
    "                            featurewise_std_normalization=False, \n",
    "                            width_shift_range=0.1,\n",
    "                            height_shift_range=0.1,\n",
    "                            zoom_range=0.2,\n",
    "                            shear_range=0.1,\n",
    "                            rotation_range=10.,)\n",
    "\n",
    "datagen.fit(X_train)"
   ]
  },
  {
   "cell_type": "code",
   "execution_count": 19,
   "metadata": {},
   "outputs": [],
   "source": [
    "model_augmentation = cnn_model()\n",
    "# let's train the model using SGD + momentum (how original).\n",
    "lr = 0.01\n",
    "sgd = SGD(lr=lr, decay=1e-6, momentum=0.9, nesterov=True)\n",
    "model_augmentation.compile(loss='categorical_crossentropy',\n",
    "          optimizer=sgd,\n",
    "          metrics=['accuracy'])\n",
    "\n",
    "\n",
    "def lr_schedule(epoch):\n",
    "    return lr*(0.1**int(epoch/10))"
   ]
  },
  {
   "cell_type": "code",
   "execution_count": null,
   "metadata": {},
   "outputs": [],
   "source": [
    "nb_epoch = 30\n",
    "batch_size = 32\n",
    "model_augmentation.fit_generator(datagen.flow(X_train, Y_train, batch_size=batch_size),\n",
    "                            steps_per_epoch=X_train.shape[0],\n",
    "                            epochs=nb_epoch,\n",
    "                            validation_data=(X_val, Y_val),\n",
    "                            callbacks=[LearningRateScheduler(lr_schedule),\n",
    "                                       ModelCheckpoint(path+'model_augmentation_30_epoch_27_aug.h5',save_best_only=True)]\n",
    "                           )"
   ]
  },
  {
   "cell_type": "code",
   "execution_count": null,
   "metadata": {},
   "outputs": [],
   "source": []
  }
 ],
 "metadata": {
  "kernelspec": {
   "display_name": "Python 3",
   "language": "python",
   "name": "python3"
  },
  "language_info": {
   "codemirror_mode": {
    "name": "ipython",
    "version": 3
   },
   "file_extension": ".py",
   "mimetype": "text/x-python",
   "name": "python",
   "nbconvert_exporter": "python",
   "pygments_lexer": "ipython3",
   "version": "3.6.8"
  }
 },
 "nbformat": 4,
 "nbformat_minor": 2
}
