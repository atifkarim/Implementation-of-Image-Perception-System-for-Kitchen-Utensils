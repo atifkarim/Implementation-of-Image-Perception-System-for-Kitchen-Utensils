{
 "cells": [
  {
   "cell_type": "markdown",
   "metadata": {},
   "source": [
    "# In this notebook code for image preprocessing, raining and testing(image by image and overall accuracy) of UE4 image will be developed"
   ]
  },
  {
   "cell_type": "code",
   "execution_count": 2,
   "metadata": {},
   "outputs": [],
   "source": [
    "import numpy as np\n",
    "from skimage import io, color, exposure, transform\n",
    "from skimage.color import rgb2gray\n",
    "#from sklearn.cross_validation import train_test_split\n",
    "from sklearn.model_selection import train_test_split  #it came from update scikit learn. https://stackoverflow.com/questions/40704484/importerror-no-module-named-model-selection\n",
    "import os\n",
    "import glob\n",
    "import h5py\n",
    "import keras\n",
    "\n",
    "from keras.preprocessing.image import ImageDataGenerator\n",
    "from keras.models import Sequential, model_from_json\n",
    "from keras.layers.core import Dense, Dropout, Activation, Flatten\n",
    "from keras.layers.convolutional import Conv2D,Conv1D\n",
    "from keras.layers.pooling import MaxPooling2D\n",
    "\n",
    "from keras.layers.convolutional import Convolution2D, MaxPooling2D\n",
    "\n",
    "from keras.optimizers import SGD\n",
    "from keras.optimizers import Adam\n",
    "from keras.utils import np_utils\n",
    "from keras.callbacks import LearningRateScheduler, ModelCheckpoint\n",
    "from keras import backend as K\n",
    "K.set_image_data_format('channels_first')\n",
    "\n",
    "from matplotlib import pyplot as plt\n",
    "get_ipython().run_line_magic('matplotlib', 'inline')\n",
    "from matplotlib.pylab import rcParams\n",
    "\n",
    "#import keras\n",
    "\n",
    "NUM_CLASSES = 19 # change it with respect to the desired class\n",
    "IMG_SIZE = 48 # change it if it desired\n",
    "IMG_depth = 3 # for RGB 3, for B&W it will be 1\n",
    "from keras.applications import VGG16"
   ]
  },
  {
   "cell_type": "code",
   "execution_count": 3,
   "metadata": {},
   "outputs": [
    {
     "data": {
      "text/plain": [
       "'2.9.0'"
      ]
     },
     "execution_count": 3,
     "metadata": {},
     "output_type": "execute_result"
    }
   ],
   "source": [
    "h5py.__version__"
   ]
  },
  {
   "cell_type": "markdown",
   "metadata": {},
   "source": [
    "# Image preprocessing function"
   ]
  },
  {
   "cell_type": "code",
   "execution_count": 4,
   "metadata": {},
   "outputs": [],
   "source": [
    "def preprocess_img(img):\n",
    "    # Histogram normalization in y\n",
    "    hsv = color.rgb2hsv(img)\n",
    "    hsv[:,:,2] = exposure.equalize_hist(hsv[:,:,2])\n",
    "    img = color.hsv2rgb(hsv)\n",
    "\n",
    "    # central scrop\n",
    "    min_side = min(img.shape[:-1])\n",
    "    centre = img.shape[0]//2, img.shape[1]//2\n",
    "    img = img[centre[0]-min_side//2:centre[0]+min_side//2,centre[1]-min_side//2:centre[1]+min_side//2,:]\n",
    "#    img = rgb2gray(img)\n",
    "\n",
    "    # rescale to standard size\n",
    "    img = transform.resize(img, (IMG_SIZE, IMG_SIZE))\n",
    "\n",
    "    # roll color axis to axis 0\n",
    "    img = np.rollaxis(img,-1) # this lin is doing the channel fisrt operation\n",
    "\n",
    "    return img\n",
    "\n",
    "def get_class(img_path):\n",
    "#     print((img_path.split('/')))\n",
    "#     print(int(img_path.split('/')[-2]))\n",
    "#     print(str(img_path.split('/')[-2]))\n",
    "    return int(img_path.split('/')[-2])\n",
    "#     return str(img_path.split('/')[-2]) # returning the folder name. If use -1 that means image name. consider the img_path."
   ]
  },
  {
   "cell_type": "code",
   "execution_count": 28,
   "metadata": {},
   "outputs": [
    {
     "name": "stdout",
     "output_type": "stream",
     "text": [
      "Processed 285/570\n",
      "Processed 570/570\n"
     ]
    }
   ],
   "source": [
    "imgs = []\n",
    "labels = []\n",
    "root_dir = \"/home/atif/machine_learning_stuff/ml_image/train_image_AI_reduced/former_method/\"\n",
    "# root_dir = \"/home/atif/machine_learning_stuff/ml_image/train_image_classification_better_resolution/crop/\"\n",
    "#path='/home/atif/training_by_several_learning_process/flower_photos/00000/'\n",
    "\n",
    "#all_img_paths = glob.glob(path+ '5547758_eea9edfd54_n_000.jpg')\n",
    "\n",
    "all_img_paths = glob.glob(os.path.join(root_dir, '*/*'))\n",
    "\n",
    " #I have done the training with .png format image. If another type of image will come \n",
    "                                                                                    #them .png will be changed by that extension\n",
    "np.random.shuffle(all_img_paths)\n",
    "for img_path in all_img_paths:\n",
    "    try:\n",
    "        img = preprocess_img(io.imread(img_path))\n",
    "        label = get_class(img_path)\n",
    "        imgs.append(img)\n",
    "        labels.append(label)\n",
    "\n",
    "        if len(imgs)%285 == 0: print(\"Processed {}/{}\".format(len(imgs), len(all_img_paths)))\n",
    "            #print(\"get it 2\")\n",
    "    except (IOError, OSError):\n",
    "        print('missed', img_path)\n",
    "        pass"
   ]
  },
  {
   "cell_type": "code",
   "execution_count": 6,
   "metadata": {},
   "outputs": [
    {
     "data": {
      "text/plain": [
       "[]"
      ]
     },
     "execution_count": 6,
     "metadata": {},
     "output_type": "execute_result"
    }
   ],
   "source": [
    "all_img_paths[50000:50010]"
   ]
  },
  {
   "cell_type": "code",
   "execution_count": 27,
   "metadata": {},
   "outputs": [
    {
     "name": "stdout",
     "output_type": "stream",
     "text": [
      "285\n"
     ]
    }
   ],
   "source": [
    "j =0\n",
    "size_img_path = len(all_img_paths)\n",
    "for i in range(1,size_img_path):\n",
    "    remainder_here = size_img_path%i\n",
    "#     print(remainder_here)\n",
    "    if remainder_here==0:\n",
    "        j=i\n",
    "print(j)"
   ]
  },
  {
   "cell_type": "code",
   "execution_count": 23,
   "metadata": {
    "scrolled": true
   },
   "outputs": [
    {
     "data": {
      "text/plain": [
       "0"
      ]
     },
     "execution_count": 23,
     "metadata": {},
     "output_type": "execute_result"
    }
   ],
   "source": [
    "10%2"
   ]
  },
  {
   "cell_type": "code",
   "execution_count": 29,
   "metadata": {
    "scrolled": true
   },
   "outputs": [
    {
     "name": "stdout",
     "output_type": "stream",
     "text": [
      "X shape:  (570, 3, 48, 48)  type:  <class 'numpy.ndarray'>\n",
      "Y shape:  (570, 19)  type:  <class 'numpy.ndarray'>\n"
     ]
    }
   ],
   "source": [
    "X = np.array(imgs, dtype='float32') #Keeping the image as an array\n",
    "X = X.reshape(len(imgs),IMG_depth,IMG_SIZE,IMG_SIZE) # write (IMG_SIZE,IMG_SIZE,1 if you want channel last; 1= grayscale;3=RGB)\n",
    "# Y = np.eye(NUM_CLASSES, dtype='uint8')[labels]\n",
    "Y = keras.utils.to_categorical(labels, NUM_CLASSES)\n",
    "\n",
    "print('X shape: ', X.shape,' type: ',type(X))\n",
    "print('Y shape: ', Y.shape,' type: ',type(Y))"
   ]
  },
  {
   "cell_type": "markdown",
   "metadata": {},
   "source": [
    "# Model declaration"
   ]
  },
  {
   "cell_type": "code",
   "execution_count": 30,
   "metadata": {},
   "outputs": [
    {
     "name": "stdout",
     "output_type": "stream",
     "text": [
      "WARNING:tensorflow:From /home/atif/tf_gpu/lib/python3.6/site-packages/keras/backend/tensorflow_backend.py:1264: calling reduce_prod (from tensorflow.python.ops.math_ops) with keep_dims is deprecated and will be removed in a future version.\n",
      "Instructions for updating:\n",
      "keep_dims is deprecated, use keepdims instead\n",
      "WARNING:tensorflow:From /home/atif/tf_gpu/lib/python3.6/site-packages/keras/backend/tensorflow_backend.py:2885: calling reduce_sum (from tensorflow.python.ops.math_ops) with keep_dims is deprecated and will be removed in a future version.\n",
      "Instructions for updating:\n",
      "keep_dims is deprecated, use keepdims instead\n",
      "WARNING:tensorflow:From /home/atif/tf_gpu/lib/python3.6/site-packages/keras/backend/tensorflow_backend.py:1349: calling reduce_mean (from tensorflow.python.ops.math_ops) with keep_dims is deprecated and will be removed in a future version.\n",
      "Instructions for updating:\n",
      "keep_dims is deprecated, use keepdims instead\n"
     ]
    }
   ],
   "source": [
    "def cnn_model():\n",
    "    model = Sequential()\n",
    "\n",
    "    model.add(Conv2D(32, (3, 3), padding='same',\n",
    "                     input_shape=(3, IMG_SIZE, IMG_SIZE),\n",
    "                     activation='relu'))\n",
    "    model.add(Conv2D(64, (3, 3), activation='relu'))\n",
    "    model.add(MaxPooling2D(pool_size=(2, 2)))\n",
    "    model.add(Dropout(0.2))\n",
    "    \n",
    "    model.add(Conv2D(128, (3, 3), padding='same',\n",
    "                     input_shape=(3, IMG_SIZE, IMG_SIZE),\n",
    "                     activation='relu'))\n",
    "    model.add(Conv2D(256, (3, 3), activation='relu'))\n",
    "    model.add(MaxPooling2D(pool_size=(2, 2)))\n",
    "    model.add(Dropout(0.2))\n",
    "\n",
    "    model.add(Conv2D(256, (3, 3), padding='same',\n",
    "                     activation='relu'))\n",
    "    model.add(Conv2D(256, (3, 3), activation='relu'))\n",
    "    model.add(MaxPooling2D(pool_size=(2, 2)))\n",
    "    model.add(Dropout(0.2))\n",
    "\n",
    "    model.add(Conv2D(512, (3, 3), padding='same',\n",
    "                     activation='relu'))\n",
    "    model.add(Conv2D(512, (3, 3), activation='relu'))\n",
    "    model.add(MaxPooling2D(pool_size=(2, 2)))\n",
    "    model.add(Dropout(0.2))\n",
    "\n",
    "    model.add(Flatten())\n",
    "    model.add(Dense(4096, activation='relu'))\n",
    "#     model.add(Dense(2048, activation='relu'))\n",
    "#     model.add(Dense(1024, activation='relu'))\n",
    "    model.add(Dropout(0.5))\n",
    "    model.add(Dense(NUM_CLASSES, activation='softmax'))\n",
    "    return model\n",
    "\n",
    "model = cnn_model()\n",
    "\n",
    "lr = 0.01\n",
    "sgd = SGD(lr=lr, decay=1e-6, momentum=0.9, nesterov=True)\n",
    "model.compile(loss='categorical_crossentropy',\n",
    "          optimizer=sgd,\n",
    "          metrics=['accuracy'])"
   ]
  },
  {
   "cell_type": "code",
   "execution_count": 31,
   "metadata": {},
   "outputs": [],
   "source": [
    "# def cnn_model():\n",
    "#     model = Sequential()\n",
    "\n",
    "#     model.add(Conv2D(64, (3, 3), padding='same',\n",
    "#                      input_shape=(3, IMG_SIZE, IMG_SIZE),\n",
    "#                      activation='relu'))\n",
    "#     model.add(Conv2D(128, (3, 3), activation='relu'))\n",
    "#     model.add(MaxPooling2D(pool_size=(2, 2)))\n",
    "#     model.add(Dropout(0.2))\n",
    "    \n",
    "#     model.add(Conv2D(256, (3, 3), padding='same',\n",
    "#                      input_shape=(3, IMG_SIZE, IMG_SIZE),\n",
    "#                      activation='relu'))\n",
    "#     model.add(Conv2D(512, (3, 3), activation='relu'))\n",
    "#     model.add(MaxPooling2D(pool_size=(2, 2)))\n",
    "#     model.add(Dropout(0.2))\n",
    "\n",
    "#     model.add(Conv2D(1024, (3, 3), padding='same',\n",
    "#                      activation='relu'))\n",
    "#     model.add(Conv2D(1024, (3, 3), activation='relu'))\n",
    "#     model.add(MaxPooling2D(pool_size=(2, 2)))\n",
    "#     model.add(Dropout(0.2))\n",
    "\n",
    "#     model.add(Conv2D(2048, (3, 3), padding='same',\n",
    "#                      activation='relu'))\n",
    "#     model.add(Conv2D(2048, (3, 3), activation='relu'))\n",
    "#     model.add(MaxPooling2D(pool_size=(2, 2)))\n",
    "#     model.add(Dropout(0.2))\n",
    "\n",
    "#     model.add(Flatten())\n",
    "#     model.add(Dense(4096, activation='relu'))\n",
    "#     model.add(Dropout(0.5))\n",
    "#     model.add(Dense(NUM_CLASSES, activation='softmax'))\n",
    "#     return model\n",
    "\n",
    "# model = cnn_model()\n",
    "\n",
    "# lr = 0.01\n",
    "# sgd = SGD(lr=lr, decay=1e-6, momentum=0.9, nesterov=True)\n",
    "# model.compile(loss='categorical_crossentropy',\n",
    "#           optimizer=sgd,\n",
    "#           metrics=['accuracy'])"
   ]
  },
  {
   "cell_type": "code",
   "execution_count": 32,
   "metadata": {},
   "outputs": [
    {
     "name": "stdout",
     "output_type": "stream",
     "text": [
      "_________________________________________________________________\n",
      "Layer (type)                 Output Shape              Param #   \n",
      "=================================================================\n",
      "conv2d_1 (Conv2D)            (None, 32, 48, 48)        896       \n",
      "_________________________________________________________________\n",
      "conv2d_2 (Conv2D)            (None, 64, 46, 46)        18496     \n",
      "_________________________________________________________________\n",
      "max_pooling2d_1 (MaxPooling2 (None, 64, 23, 23)        0         \n",
      "_________________________________________________________________\n",
      "dropout_1 (Dropout)          (None, 64, 23, 23)        0         \n",
      "_________________________________________________________________\n",
      "conv2d_3 (Conv2D)            (None, 128, 23, 23)       73856     \n",
      "_________________________________________________________________\n",
      "conv2d_4 (Conv2D)            (None, 256, 21, 21)       295168    \n",
      "_________________________________________________________________\n",
      "max_pooling2d_2 (MaxPooling2 (None, 256, 10, 10)       0         \n",
      "_________________________________________________________________\n",
      "dropout_2 (Dropout)          (None, 256, 10, 10)       0         \n",
      "_________________________________________________________________\n",
      "conv2d_5 (Conv2D)            (None, 256, 10, 10)       590080    \n",
      "_________________________________________________________________\n",
      "conv2d_6 (Conv2D)            (None, 256, 8, 8)         590080    \n",
      "_________________________________________________________________\n",
      "max_pooling2d_3 (MaxPooling2 (None, 256, 4, 4)         0         \n",
      "_________________________________________________________________\n",
      "dropout_3 (Dropout)          (None, 256, 4, 4)         0         \n",
      "_________________________________________________________________\n",
      "conv2d_7 (Conv2D)            (None, 512, 4, 4)         1180160   \n",
      "_________________________________________________________________\n",
      "conv2d_8 (Conv2D)            (None, 512, 2, 2)         2359808   \n",
      "_________________________________________________________________\n",
      "max_pooling2d_4 (MaxPooling2 (None, 512, 1, 1)         0         \n",
      "_________________________________________________________________\n",
      "dropout_4 (Dropout)          (None, 512, 1, 1)         0         \n",
      "_________________________________________________________________\n",
      "flatten_1 (Flatten)          (None, 512)               0         \n",
      "_________________________________________________________________\n",
      "dense_1 (Dense)              (None, 4096)              2101248   \n",
      "_________________________________________________________________\n",
      "dropout_5 (Dropout)          (None, 4096)              0         \n",
      "_________________________________________________________________\n",
      "dense_2 (Dense)              (None, 19)                77843     \n",
      "=================================================================\n",
      "Total params: 7,287,635\n",
      "Trainable params: 7,287,635\n",
      "Non-trainable params: 0\n",
      "_________________________________________________________________\n"
     ]
    }
   ],
   "source": [
    "model.summary()"
   ]
  },
  {
   "cell_type": "code",
   "execution_count": 33,
   "metadata": {},
   "outputs": [],
   "source": [
    "path = '/home/atif/machine_learning_stuff/model_file_keras/'"
   ]
  },
  {
   "cell_type": "code",
   "execution_count": 34,
   "metadata": {},
   "outputs": [
    {
     "name": "stdout",
     "output_type": "stream",
     "text": [
      "current time: 2019-10-31 10:22:03\n"
     ]
    }
   ],
   "source": [
    "import datetime\n",
    "current_time = datetime.datetime.now().strftime(\"%Y-%m-%d %H:%M:%S\")\n",
    "print(\"current time:\", current_time)"
   ]
  },
  {
   "cell_type": "code",
   "execution_count": 35,
   "metadata": {
    "scrolled": true
   },
   "outputs": [
    {
     "name": "stdout",
     "output_type": "stream",
     "text": [
      "WARNING:tensorflow:Variable *= will be deprecated. Use variable.assign_mul if you want assignment to the variable value or 'x = x * y' if you want a new python Tensor object.\n",
      "Train on 456 samples, validate on 114 samples\n",
      "Epoch 1/50\n",
      " - 2s - loss: 2.9456 - acc: 0.0636 - val_loss: 2.9444 - val_acc: 0.0263\n",
      "Epoch 2/50\n",
      " - 1s - loss: 2.9406 - acc: 0.0461 - val_loss: 2.9432 - val_acc: 0.0263\n",
      "Epoch 3/50\n",
      " - 1s - loss: 2.9315 - acc: 0.0614 - val_loss: 2.9310 - val_acc: 0.0526\n",
      "Epoch 4/50\n",
      " - 1s - loss: 2.9174 - acc: 0.0702 - val_loss: 2.8909 - val_acc: 0.0877\n",
      "Epoch 5/50\n",
      " - 1s - loss: 2.8700 - acc: 0.0768 - val_loss: 2.7810 - val_acc: 0.0877\n",
      "Epoch 6/50\n",
      " - 1s - loss: 2.6650 - acc: 0.1206 - val_loss: 2.3973 - val_acc: 0.1404\n",
      "Epoch 7/50\n",
      " - 1s - loss: 2.0480 - acc: 0.3640 - val_loss: 1.8340 - val_acc: 0.3947\n",
      "Epoch 8/50\n",
      " - 1s - loss: 1.5454 - acc: 0.5175 - val_loss: 1.1399 - val_acc: 0.7105\n",
      "Epoch 9/50\n",
      " - 1s - loss: 0.7722 - acc: 0.7522 - val_loss: 0.5740 - val_acc: 0.7456\n",
      "Epoch 10/50\n",
      " - 0s - loss: 0.3714 - acc: 0.8838 - val_loss: 0.6128 - val_acc: 0.8596\n",
      "Epoch 11/50\n",
      " - 1s - loss: 0.7965 - acc: 0.8268 - val_loss: 0.5405 - val_acc: 0.9211\n",
      "Epoch 12/50\n",
      " - 1s - loss: 0.3134 - acc: 0.9320 - val_loss: 0.0403 - val_acc: 1.0000\n",
      "Epoch 13/50\n",
      " - 1s - loss: 0.0714 - acc: 0.9803 - val_loss: 0.0069 - val_acc: 1.0000\n",
      "Epoch 14/50\n",
      " - 1s - loss: 0.0352 - acc: 0.9868 - val_loss: 0.0031 - val_acc: 1.0000\n",
      "Epoch 15/50\n",
      " - 1s - loss: 0.0307 - acc: 0.9868 - val_loss: 0.0024 - val_acc: 1.0000\n",
      "Epoch 16/50\n",
      " - 0s - loss: 0.0261 - acc: 0.9956 - val_loss: 0.0027 - val_acc: 1.0000\n",
      "Epoch 17/50\n",
      " - 1s - loss: 0.0201 - acc: 0.9956 - val_loss: 0.0017 - val_acc: 1.0000\n",
      "Epoch 18/50\n",
      " - 0s - loss: 0.0311 - acc: 0.9912 - val_loss: 0.0037 - val_acc: 1.0000\n",
      "Epoch 19/50\n",
      " - 1s - loss: 0.0093 - acc: 0.9978 - val_loss: 4.4249e-04 - val_acc: 1.0000\n",
      "Epoch 20/50\n",
      " - 1s - loss: 0.0145 - acc: 0.9956 - val_loss: 3.8833e-04 - val_acc: 1.0000\n",
      "Epoch 21/50\n",
      " - 0s - loss: 0.0122 - acc: 0.9978 - val_loss: 6.4247e-04 - val_acc: 1.0000\n",
      "Epoch 22/50\n",
      " - 0s - loss: 0.0260 - acc: 0.9912 - val_loss: 5.9893e-04 - val_acc: 1.0000\n",
      "Epoch 23/50\n",
      " - 0s - loss: 0.0149 - acc: 0.9934 - val_loss: 4.2534e-04 - val_acc: 1.0000\n",
      "Epoch 24/50\n",
      " - 1s - loss: 0.0088 - acc: 0.9978 - val_loss: 3.5439e-04 - val_acc: 1.0000\n",
      "Epoch 25/50\n",
      " - 1s - loss: 0.0237 - acc: 0.9912 - val_loss: 2.9331e-04 - val_acc: 1.0000\n",
      "Epoch 26/50\n",
      " - 1s - loss: 0.0074 - acc: 0.9978 - val_loss: 2.7512e-04 - val_acc: 1.0000\n",
      "Epoch 27/50\n",
      " - 1s - loss: 0.0162 - acc: 0.9934 - val_loss: 2.6831e-04 - val_acc: 1.0000\n",
      "Epoch 28/50\n",
      " - 1s - loss: 0.0117 - acc: 0.9978 - val_loss: 2.4611e-04 - val_acc: 1.0000\n",
      "Epoch 29/50\n",
      " - 1s - loss: 0.0063 - acc: 0.9978 - val_loss: 2.3969e-04 - val_acc: 1.0000\n",
      "Epoch 30/50\n",
      " - 1s - loss: 0.0125 - acc: 0.9934 - val_loss: 2.2639e-04 - val_acc: 1.0000\n",
      "Epoch 31/50\n",
      " - 1s - loss: 0.0191 - acc: 0.9912 - val_loss: 2.2433e-04 - val_acc: 1.0000\n",
      "Epoch 32/50\n",
      " - 0s - loss: 0.0100 - acc: 0.9978 - val_loss: 2.2450e-04 - val_acc: 1.0000\n",
      "Epoch 33/50\n",
      " - 1s - loss: 0.0107 - acc: 0.9978 - val_loss: 2.2387e-04 - val_acc: 1.0000\n",
      "Epoch 34/50\n",
      " - 1s - loss: 0.0155 - acc: 0.9978 - val_loss: 2.2351e-04 - val_acc: 1.0000\n",
      "Epoch 35/50\n",
      " - 0s - loss: 0.0120 - acc: 0.9956 - val_loss: 2.2448e-04 - val_acc: 1.0000\n",
      "Epoch 36/50\n",
      " - 0s - loss: 0.0036 - acc: 1.0000 - val_loss: 2.2412e-04 - val_acc: 1.0000\n",
      "Epoch 37/50\n",
      " - 1s - loss: 0.0048 - acc: 0.9978 - val_loss: 2.2314e-04 - val_acc: 1.0000\n",
      "Epoch 38/50\n",
      " - 1s - loss: 0.0174 - acc: 0.9934 - val_loss: 2.2303e-04 - val_acc: 1.0000\n",
      "Epoch 39/50\n",
      " - 1s - loss: 0.0051 - acc: 1.0000 - val_loss: 2.2215e-04 - val_acc: 1.0000\n",
      "Epoch 40/50\n",
      " - 1s - loss: 0.0051 - acc: 1.0000 - val_loss: 2.2151e-04 - val_acc: 1.0000\n",
      "Epoch 41/50\n",
      " - 1s - loss: 0.0055 - acc: 1.0000 - val_loss: 2.2113e-04 - val_acc: 1.0000\n",
      "Epoch 42/50\n",
      " - 1s - loss: 0.0058 - acc: 1.0000 - val_loss: 2.2104e-04 - val_acc: 1.0000\n",
      "Epoch 43/50\n",
      " - 0s - loss: 0.0189 - acc: 0.9934 - val_loss: 2.2111e-04 - val_acc: 1.0000\n",
      "Epoch 44/50\n",
      " - 0s - loss: 0.0066 - acc: 0.9978 - val_loss: 2.2106e-04 - val_acc: 1.0000\n",
      "Epoch 45/50\n",
      " - 1s - loss: 0.0047 - acc: 1.0000 - val_loss: 2.2101e-04 - val_acc: 1.0000\n",
      "Epoch 46/50\n",
      " - 1s - loss: 0.0074 - acc: 1.0000 - val_loss: 2.2091e-04 - val_acc: 1.0000\n",
      "Epoch 47/50\n",
      " - 1s - loss: 0.0067 - acc: 1.0000 - val_loss: 2.2083e-04 - val_acc: 1.0000\n",
      "Epoch 48/50\n",
      " - 0s - loss: 0.0178 - acc: 0.9956 - val_loss: 2.2085e-04 - val_acc: 1.0000\n",
      "Epoch 49/50\n",
      " - 0s - loss: 0.0090 - acc: 1.0000 - val_loss: 2.2084e-04 - val_acc: 1.0000\n",
      "Epoch 50/50\n",
      " - 1s - loss: 0.0038 - acc: 1.0000 - val_loss: 2.2080e-04 - val_acc: 1.0000\n"
     ]
    }
   ],
   "source": [
    "def lr_schedule(epoch):\n",
    "    return lr * (0.1 ** int(epoch / 10))\n",
    "\n",
    "batch_size = 32\n",
    "epochs = 50\n",
    "do_train_model=model.fit(X, Y,\n",
    "          batch_size=batch_size,\n",
    "          epochs=epochs,\n",
    "          validation_split=0.2,verbose=2,\n",
    "          #np.resize(img, (-1, <image shape>)\n",
    "          callbacks=[LearningRateScheduler(lr_schedule),ModelCheckpoint(path+str(current_time)+'_new_image_reduced_OLD_PROCESS_model_epoch_'+str(epochs)+'.h5', save_best_only=True)])"
   ]
  },
  {
   "cell_type": "code",
   "execution_count": 36,
   "metadata": {},
   "outputs": [
    {
     "name": "stdout",
     "output_type": "stream",
     "text": [
      "dict_keys(['val_loss', 'val_acc', 'loss', 'acc'])\n",
      "dict_keys(['val_loss', 'val_acc', 'loss', 'acc'])\n"
     ]
    },
    {
     "data": {
      "image/png": "[encoded data removed]",
      "text/plain": [
       "<Figure size 432x288 with 1 Axes>"
      ]
     },
     "metadata": {
      "needs_background": "light"
     },
     "output_type": "display_data"
    },
    {
     "data": {
      "image/png": "[encoded data removed]",
      "text/plain": [
       "<Figure size 432x288 with 1 Axes>"
      ]
     },
     "metadata": {
      "needs_background": "light"
     },
     "output_type": "display_data"
    }
   ],
   "source": [
    "print(do_train_model.history.keys())\n",
    "# summarize history for accuracy\n",
    "plt.plot(do_train_model.history['acc'], '-o', color = 'red')\n",
    "plt.plot(do_train_model.history['val_acc'],'-^', color = 'green')\n",
    "plt.title('model accuracy')\n",
    "plt.ylabel('accuracy')\n",
    "plt.xlabel('epoch')\n",
    "plt.legend(['train_accuracy', 'validation_accuracy'], loc='best')\n",
    "# plt.savefig(path+str(current_time)+'_epoch_vs_accuracy.jpg')\n",
    "# plt.show()\n",
    "\n",
    "plt.figure()\n",
    "\n",
    "\n",
    "print(do_train_model.history.keys())\n",
    "# summarize history for accuracy\n",
    "plt.plot(do_train_model.history['loss'],'-o', color = 'red')\n",
    "plt.plot(do_train_model.history['val_loss'],'-^', color = 'green')\n",
    "plt.title('model loss')\n",
    "plt.ylabel('loss')\n",
    "plt.xlabel('epoch')\n",
    "plt.legend(['train_loss', 'validation_loss'], loc='best')\n",
    "# plt.savefig(path+str(current_time)+'_epoch_vs_loss.jpg')\n",
    "plt.rcParams['figure.figsize'] =(12,5)\n",
    "plt.show()"
   ]
  },
  {
   "cell_type": "markdown",
   "metadata": {},
   "source": [
    "# load saved model"
   ]
  },
  {
   "cell_type": "code",
   "execution_count": 19,
   "metadata": {},
   "outputs": [],
   "source": [
    "from keras.models import load_model\n",
    "# model = load_model('/home/atif/machine_learning_stuff/model_file_keras/general_2_sep_ep_30_epoch.h5')\n",
    "model = load_model(path+'2019-10-29 23:09:54_new_image_OLD_PROCESS_model_epoch_50.h5')"
   ]
  },
  {
   "cell_type": "markdown",
   "metadata": {},
   "source": [
    "# Check total accuracy of the model using all test images"
   ]
  },
  {
   "cell_type": "code",
   "execution_count": 25,
   "metadata": {
    "scrolled": true
   },
   "outputs": [
    {
     "name": "stdout",
     "output_type": "stream",
     "text": [
      "filename:  calgonit_finish_speizalsalz (3).jpg \t classId:  3\n",
      "filename:  calgonit_finish_speizalsalz (1).jpg \t classId:  3\n",
      "filename:  calgonit_finish_speizalsalz (2).jpg \t classId:  3\n",
      "filename:  calgonit_finish_speizalsalz (4).jpg \t classId:  3\n",
      "filename:  denkmit_edelstahk_reiniger (3).jpg \t classId:  5\n",
      "filename:  denkmit_edelstahk_reiniger (1).jpg \t classId:  5\n",
      "filename:  denkmit_edelstahk_reiniger (6).jpg \t classId:  5\n",
      "filename:  denkmit_edelstahk_reiniger (7).jpg \t classId:  5\n",
      "filename:  34_SM_DenkMitEdelstahlReinigerSpray_20_33_90_60_lit_cropped.jpg \t classId:  6\n",
      "filename:  denkmit_edelsthal_reiniger_spray.jpg \t classId:  6\n",
      "filename:  real_DenkMitEdelstahlReinigerSpray_right1.jpg \t classId:  6\n",
      "filename:  real_DenkMitEdelstahlReinigerSpray_right4.jpg \t classId:  6\n",
      "filename:  somat_3.jpg \t classId:  17\n",
      "filename:  somat_6.jpg \t classId:  17\n",
      "filename:  somat_7.jpg \t classId:  17\n",
      "filename:  somat_8.jpg \t classId:  17\n",
      "filename:  denkmit_Entkalker (4).jpg \t classId:  7\n",
      "filename:  denkmit_Entkalker (2).jpg \t classId:  7\n",
      "filename:  denkmit_Entkalker (5).jpg \t classId:  7\n",
      "filename:  denkmit_Entkalker (6).jpg \t classId:  7\n",
      "filename:  denkmit_hygiene_Allzweck_reiniger (3).jpg \t classId:  12\n",
      "filename:  denkmit_hygiene_Allzweck_reiniger (1).jpg \t classId:  12\n",
      "filename:  real_DenkMitHygieneAllzweckReiniger_left1.jpg \t classId:  12\n",
      "filename:  real_DenkMitHygieneAllzweckReiniger_right4.jpg \t classId:  12\n",
      "filename:  real_DenkMitMaschinenPfleger_front2.jpg \t classId:  13\n",
      "filename:  real_DenkMitMaschinenPfleger_left4.jpg \t classId:  13\n",
      "filename:  real_DenkMitMaschinenPfleger_front1.jpg \t classId:  13\n",
      "filename:  real_DenkMitMaschinenPfleger_left1.jpg \t classId:  13\n",
      "filename:  calgonit_finish_klarspueler (1).jpg \t classId:  1\n",
      "filename:  calgonit_finish_klarspueler (2).jpg \t classId:  1\n",
      "filename:  real_calgonitFinishKlarspueler_front3.jpg \t classId:  1\n",
      "filename:  real_calgonitFinishKlarspueler_right1.jpg \t classId:  1\n",
      "filename:  calgonit_finish_classic (1).jpg \t classId:  0\n",
      "filename:  calgonit_finish_classic (2).jpg \t classId:  0\n",
      "filename:  calgonit_finish_classic (4).jpg \t classId:  0\n",
      "filename:  calgonit_finish_classic (5).jpg \t classId:  0\n",
      "filename:  denkmit_geschirr_reiniger_NATURE (5).jpg \t classId:  11\n",
      "filename:  denkmit_geschirr_reiniger_NATURE (2).jpg \t classId:  11\n",
      "filename:  denkmit_geschirr_reiniger_NATURE (3).jpg \t classId:  11\n",
      "filename:  denkmit_geschirr_reiniger_NATURE (4).jpg \t classId:  11\n",
      "filename:  denkmit_geschirr_reiniger_multipower (1).jpg \t classId:  8\n",
      "filename:  denkmit_geschirr_reiniger_multipower (3).jpg \t classId:  8\n",
      "filename:  denkmit_geschirr_reiniger_multipower (5).jpg \t classId:  8\n",
      "filename:  denkmit_geschirr_reiniger_multipower (6).jpg \t classId:  8\n",
      "filename:  denkmit_spezalsalz (1).jpg \t classId:  14\n",
      "filename:  denkmit_spezalsalz (5).jpg \t classId:  14\n",
      "filename:  denkmit_spezalsalz (8).jpg \t classId:  14\n",
      "filename:  denkmit_spezalsalz (9).jpg \t classId:  14\n",
      "filename:  Denkmit_geschirr_reiniger_classic (1).jpg \t classId:  9\n",
      "filename:  Denkmit_geschirr_reiniger_classic (3).jpg \t classId:  9\n",
      "filename:  Denkmit_geschirr_reiniger_classic (5).jpg \t classId:  9\n",
      "filename:  Denkmit_geschirr_reiniger_classic (6).jpg \t classId:  9\n",
      "filename:  calgonit_finish_vorratspack.jpg \t classId:  4\n",
      "filename:  2_SM_CalgonitFinishVorratspack_14_1_90_60_lit_cropped.jpg \t classId:  4\n",
      "filename:  32_SM_CalgonitFinishVorratspack_14_31_90_60_lit_cropped.png \t classId:  4\n",
      "filename:  349_SM_CalgonitFinishVorratspack_14_348_90_60_lit_cropped.png \t classId:  4\n",
      "filename:  calgonit_maschine_pfleger (1).jpg \t classId:  2\n",
      "filename:  real_calgonitFinishMaschinenPfleger_front2.jpg \t classId:  2\n",
      "filename:  calgonit_maschine_pfleger (3).jpg \t classId:  2\n",
      "filename:  calgonit_maschine_pfleger (4).jpg \t classId:  2\n",
      "filename:  denkmit_geschirrreiniger_REVOLUTION (1).jpg \t classId:  10\n",
      "filename:  denkmit_geschirrreiniger_REVOLUTION (4).jpg \t classId:  10\n",
      "filename:  denkmit_geschirrreiniger_REVOLUTION (5).jpg \t classId:  10\n",
      "filename:  denkmit_geschirrreiniger_REVOLUTION (6).jpg \t classId:  10\n",
      "filename:  DomestokosUniversalReiniger.jpg \t classId:  15\n",
      "filename:  DomestokosUniversalReiniger_1.jpg \t classId:  15\n",
      "filename:  DomestokosUniversalReiniger_2.jpg \t classId:  15\n",
      "filename:  DomestokosUniversalReiniger_3.jpg \t classId:  15\n",
      "filename:  hitman_reine_sitrone_sauer.jpg \t classId:  16\n",
      "filename:  hitman_reine_sitrone_sauer_1.jpg \t classId:  16\n",
      "filename:  hitman_reine_sitrone_sauer_2.jpg \t classId:  16\n",
      "filename:  hitman_reine_sitrone_sauer_3.jpg \t classId:  16\n",
      "filename:  94_SM_SomatExtraAllIn1_56_93_90_60_lit_cropped.png \t classId:  18\n",
      "filename:  418_SM_SomatExtraAllIn1_56_57_80_60_lit_cropped.png \t classId:  18\n",
      "filename:  58_SM_SomatExtraAllIn1_56_57_90_60_lit_cropped.png \t classId:  18\n",
      "filename:  385_SM_SomatExtraAllIn1_56_24_80_60_lit_cropped.png \t classId:  18\n"
     ]
    }
   ],
   "source": [
    "import pandas as pd\n",
    "test = pd.read_csv('/home/atif/machine_learning_stuff/ml_image/test_file_same_number.csv',sep=';')\n",
    "# test_image_path =  '/home/atif/machine_learning_stuff/ml_image/test_image_crop/'\n",
    "\n",
    "X_test = []\n",
    "y_test = []\n",
    "i = 0\n",
    "for file_name, class_id  in zip(list(test['Filename']), list(test['ClassId'])):\n",
    "    print('filename: ',file_name,'\\t classId: ',class_id)\n",
    "    #print('classId: ',class_id)\n",
    "    img_path = os.path.join('/home/atif/machine_learning_stuff/ml_image/test_image_26_aug/',file_name)\n",
    "#     img_path = glob.glob(os.path.join(test_image_path, '*/*.jpg'))\n",
    "    X_test.append(preprocess_img(io.imread(img_path)))\n",
    "    y_test.append(class_id)\n",
    "    \n",
    "X_test = np.array(X_test)\n",
    "y_test = np.array(y_test)"
   ]
  },
  {
   "cell_type": "code",
   "execution_count": 26,
   "metadata": {
    "scrolled": true
   },
   "outputs": [
    {
     "name": "stdout",
     "output_type": "stream",
     "text": [
      "/home/atif/machine_learning_stuff/ml_image/test_image_26_aug/385_SM_SomatExtraAllIn1_56_24_80_60_lit_cropped.png\n"
     ]
    }
   ],
   "source": [
    "print(img_path)"
   ]
  },
  {
   "cell_type": "code",
   "execution_count": 27,
   "metadata": {
    "scrolled": true
   },
   "outputs": [
    {
     "data": {
      "text/plain": [
       "array([ 3,  3,  3,  3,  5,  5,  5,  5,  6,  6,  6,  6, 17, 17, 17, 17,  7,\n",
       "        7,  7,  7, 12, 12, 12, 12, 13, 13, 13, 13,  1,  1,  1,  1,  0,  0,\n",
       "        0,  0, 11, 11, 11, 11,  8,  8,  8,  8, 14, 14, 14, 14,  9,  9,  9,\n",
       "        9,  4,  4,  4,  4,  2,  2,  2,  2, 10, 10, 10, 10, 15, 15, 15, 15,\n",
       "       16, 16, 16, 16, 18, 18, 18, 18])"
      ]
     },
     "execution_count": 27,
     "metadata": {},
     "output_type": "execute_result"
    }
   ],
   "source": [
    "y_test"
   ]
  },
  {
   "cell_type": "markdown",
   "metadata": {},
   "source": [
    "# finding accuracy"
   ]
  },
  {
   "cell_type": "code",
   "execution_count": 28,
   "metadata": {},
   "outputs": [
    {
     "name": "stdout",
     "output_type": "stream",
     "text": [
      "Test accuracy = 0.013157894736842105\n"
     ]
    }
   ],
   "source": [
    "y_pred = model.predict_classes(X_test)\n",
    "acc = np.sum(y_pred==y_test)/np.size(y_pred)\n",
    "print(\"Test accuracy = {}\".format(acc))"
   ]
  },
  {
   "cell_type": "code",
   "execution_count": 29,
   "metadata": {
    "scrolled": true
   },
   "outputs": [
    {
     "data": {
      "text/plain": [
       "array([16, 16,  9, 13, 14, 16, 14, 14, 16, 11,  9, 14,  9,  9,  9,  9,  9,\n",
       "        9,  9,  9, 16, 16, 13, 14, 14,  9, 11, 13, 16, 16, 16, 10, 14, 14,\n",
       "       14, 14,  9,  9,  9,  9, 14, 14, 14, 14, 13, 13, 13, 13, 14, 16, 14,\n",
       "       14, 14, 14,  9, 14, 16,  3, 16, 14, 14,  9, 14, 16,  9, 14, 16, 14,\n",
       "        9, 14,  9, 13, 16,  9,  3, 17])"
      ]
     },
     "execution_count": 29,
     "metadata": {},
     "output_type": "execute_result"
    }
   ],
   "source": [
    "y_pred"
   ]
  },
  {
   "cell_type": "markdown",
   "metadata": {},
   "source": [
    "# check true vs true/false result"
   ]
  },
  {
   "cell_type": "code",
   "execution_count": 30,
   "metadata": {
    "scrolled": true
   },
   "outputs": [
    {
     "name": "stdout",
     "output_type": "stream",
     "text": [
      "1 °°°°°°°°°°°°°°°°°°°°°°°°°°°°°°°°°°°°°°°° 3 ----- 16\n",
      "2 °°°°°°°°°°°°°°°°°°°°°°°°°°°°°°°°°°°°°°°° 3 ----- 16\n",
      "3 °°°°°°°°°°°°°°°°°°°°°°°°°°°°°°°°°°°°°°°° 3 ----- 9\n",
      "4 °°°°°°°°°°°°°°°°°°°°°°°°°°°°°°°°°°°°°°°° 3 ----- 13\n",
      "5 °°°°°°°°°°°°°°°°°°°°°°°°°°°°°°°°°°°°°°°° 5 ----- 14\n",
      "6 °°°°°°°°°°°°°°°°°°°°°°°°°°°°°°°°°°°°°°°° 5 ----- 16\n",
      "7 °°°°°°°°°°°°°°°°°°°°°°°°°°°°°°°°°°°°°°°° 5 ----- 14\n",
      "8 °°°°°°°°°°°°°°°°°°°°°°°°°°°°°°°°°°°°°°°° 5 ----- 14\n",
      "9 °°°°°°°°°°°°°°°°°°°°°°°°°°°°°°°°°°°°°°°° 6 ----- 16\n",
      "10 °°°°°°°°°°°°°°°°°°°°°°°°°°°°°°°°°°°°°°°° 6 ----- 11\n",
      "11 °°°°°°°°°°°°°°°°°°°°°°°°°°°°°°°°°°°°°°°° 6 ----- 9\n",
      "12 °°°°°°°°°°°°°°°°°°°°°°°°°°°°°°°°°°°°°°°° 6 ----- 14\n",
      "13 °°°°°°°°°°°°°°°°°°°°°°°°°°°°°°°°°°°°°°°° 17 ----- 9\n",
      "14 °°°°°°°°°°°°°°°°°°°°°°°°°°°°°°°°°°°°°°°° 17 ----- 9\n",
      "15 °°°°°°°°°°°°°°°°°°°°°°°°°°°°°°°°°°°°°°°° 17 ----- 9\n",
      "16 °°°°°°°°°°°°°°°°°°°°°°°°°°°°°°°°°°°°°°°° 17 ----- 9\n",
      "17 °°°°°°°°°°°°°°°°°°°°°°°°°°°°°°°°°°°°°°°° 7 ----- 9\n",
      "18 °°°°°°°°°°°°°°°°°°°°°°°°°°°°°°°°°°°°°°°° 7 ----- 9\n",
      "19 °°°°°°°°°°°°°°°°°°°°°°°°°°°°°°°°°°°°°°°° 7 ----- 9\n",
      "20 °°°°°°°°°°°°°°°°°°°°°°°°°°°°°°°°°°°°°°°° 7 ----- 9\n",
      "21 °°°°°°°°°°°°°°°°°°°°°°°°°°°°°°°°°°°°°°°° 12 ----- 16\n",
      "22 °°°°°°°°°°°°°°°°°°°°°°°°°°°°°°°°°°°°°°°° 12 ----- 16\n",
      "23 °°°°°°°°°°°°°°°°°°°°°°°°°°°°°°°°°°°°°°°° 12 ----- 13\n",
      "24 °°°°°°°°°°°°°°°°°°°°°°°°°°°°°°°°°°°°°°°° 12 ----- 14\n",
      "25 °°°°°°°°°°°°°°°°°°°°°°°°°°°°°°°°°°°°°°°° 13 ----- 14\n",
      "26 °°°°°°°°°°°°°°°°°°°°°°°°°°°°°°°°°°°°°°°° 13 ----- 9\n",
      "27 °°°°°°°°°°°°°°°°°°°°°°°°°°°°°°°°°°°°°°°° 13 ----- 11\n",
      "29 °°°°°°°°°°°°°°°°°°°°°°°°°°°°°°°°°°°°°°°° 1 ----- 16\n",
      "30 °°°°°°°°°°°°°°°°°°°°°°°°°°°°°°°°°°°°°°°° 1 ----- 16\n",
      "31 °°°°°°°°°°°°°°°°°°°°°°°°°°°°°°°°°°°°°°°° 1 ----- 16\n",
      "32 °°°°°°°°°°°°°°°°°°°°°°°°°°°°°°°°°°°°°°°° 1 ----- 10\n",
      "33 °°°°°°°°°°°°°°°°°°°°°°°°°°°°°°°°°°°°°°°° 0 ----- 14\n",
      "34 °°°°°°°°°°°°°°°°°°°°°°°°°°°°°°°°°°°°°°°° 0 ----- 14\n",
      "35 °°°°°°°°°°°°°°°°°°°°°°°°°°°°°°°°°°°°°°°° 0 ----- 14\n",
      "36 °°°°°°°°°°°°°°°°°°°°°°°°°°°°°°°°°°°°°°°° 0 ----- 14\n",
      "37 °°°°°°°°°°°°°°°°°°°°°°°°°°°°°°°°°°°°°°°° 11 ----- 9\n",
      "38 °°°°°°°°°°°°°°°°°°°°°°°°°°°°°°°°°°°°°°°° 11 ----- 9\n",
      "39 °°°°°°°°°°°°°°°°°°°°°°°°°°°°°°°°°°°°°°°° 11 ----- 9\n",
      "40 °°°°°°°°°°°°°°°°°°°°°°°°°°°°°°°°°°°°°°°° 11 ----- 9\n",
      "41 °°°°°°°°°°°°°°°°°°°°°°°°°°°°°°°°°°°°°°°° 8 ----- 14\n",
      "42 °°°°°°°°°°°°°°°°°°°°°°°°°°°°°°°°°°°°°°°° 8 ----- 14\n",
      "43 °°°°°°°°°°°°°°°°°°°°°°°°°°°°°°°°°°°°°°°° 8 ----- 14\n",
      "44 °°°°°°°°°°°°°°°°°°°°°°°°°°°°°°°°°°°°°°°° 8 ----- 14\n",
      "45 °°°°°°°°°°°°°°°°°°°°°°°°°°°°°°°°°°°°°°°° 14 ----- 13\n",
      "46 °°°°°°°°°°°°°°°°°°°°°°°°°°°°°°°°°°°°°°°° 14 ----- 13\n",
      "47 °°°°°°°°°°°°°°°°°°°°°°°°°°°°°°°°°°°°°°°° 14 ----- 13\n",
      "48 °°°°°°°°°°°°°°°°°°°°°°°°°°°°°°°°°°°°°°°° 14 ----- 13\n",
      "49 °°°°°°°°°°°°°°°°°°°°°°°°°°°°°°°°°°°°°°°° 9 ----- 14\n",
      "50 °°°°°°°°°°°°°°°°°°°°°°°°°°°°°°°°°°°°°°°° 9 ----- 16\n",
      "51 °°°°°°°°°°°°°°°°°°°°°°°°°°°°°°°°°°°°°°°° 9 ----- 14\n",
      "52 °°°°°°°°°°°°°°°°°°°°°°°°°°°°°°°°°°°°°°°° 9 ----- 14\n",
      "53 °°°°°°°°°°°°°°°°°°°°°°°°°°°°°°°°°°°°°°°° 4 ----- 14\n",
      "54 °°°°°°°°°°°°°°°°°°°°°°°°°°°°°°°°°°°°°°°° 4 ----- 14\n",
      "55 °°°°°°°°°°°°°°°°°°°°°°°°°°°°°°°°°°°°°°°° 4 ----- 9\n",
      "56 °°°°°°°°°°°°°°°°°°°°°°°°°°°°°°°°°°°°°°°° 4 ----- 14\n",
      "57 °°°°°°°°°°°°°°°°°°°°°°°°°°°°°°°°°°°°°°°° 2 ----- 16\n",
      "58 °°°°°°°°°°°°°°°°°°°°°°°°°°°°°°°°°°°°°°°° 2 ----- 3\n",
      "59 °°°°°°°°°°°°°°°°°°°°°°°°°°°°°°°°°°°°°°°° 2 ----- 16\n",
      "60 °°°°°°°°°°°°°°°°°°°°°°°°°°°°°°°°°°°°°°°° 2 ----- 14\n",
      "61 °°°°°°°°°°°°°°°°°°°°°°°°°°°°°°°°°°°°°°°° 10 ----- 14\n",
      "62 °°°°°°°°°°°°°°°°°°°°°°°°°°°°°°°°°°°°°°°° 10 ----- 9\n",
      "63 °°°°°°°°°°°°°°°°°°°°°°°°°°°°°°°°°°°°°°°° 10 ----- 14\n",
      "64 °°°°°°°°°°°°°°°°°°°°°°°°°°°°°°°°°°°°°°°° 10 ----- 16\n",
      "65 °°°°°°°°°°°°°°°°°°°°°°°°°°°°°°°°°°°°°°°° 15 ----- 9\n",
      "66 °°°°°°°°°°°°°°°°°°°°°°°°°°°°°°°°°°°°°°°° 15 ----- 14\n",
      "67 °°°°°°°°°°°°°°°°°°°°°°°°°°°°°°°°°°°°°°°° 15 ----- 16\n",
      "68 °°°°°°°°°°°°°°°°°°°°°°°°°°°°°°°°°°°°°°°° 15 ----- 14\n",
      "69 °°°°°°°°°°°°°°°°°°°°°°°°°°°°°°°°°°°°°°°° 16 ----- 9\n",
      "70 °°°°°°°°°°°°°°°°°°°°°°°°°°°°°°°°°°°°°°°° 16 ----- 14\n",
      "71 °°°°°°°°°°°°°°°°°°°°°°°°°°°°°°°°°°°°°°°° 16 ----- 9\n",
      "72 °°°°°°°°°°°°°°°°°°°°°°°°°°°°°°°°°°°°°°°° 16 ----- 13\n",
      "73 °°°°°°°°°°°°°°°°°°°°°°°°°°°°°°°°°°°°°°°° 18 ----- 16\n",
      "74 °°°°°°°°°°°°°°°°°°°°°°°°°°°°°°°°°°°°°°°° 18 ----- 9\n",
      "75 °°°°°°°°°°°°°°°°°°°°°°°°°°°°°°°°°°°°°°°° 18 ----- 3\n",
      "76 °°°°°°°°°°°°°°°°°°°°°°°°°°°°°°°°°°°°°°°° 18 ----- 17\n",
      "total:  76\n",
      "right_count:  1\n",
      "wrong_count 75\n"
     ]
    }
   ],
   "source": [
    "count =0\n",
    "right_count=0\n",
    "wrong_count=0\n",
    "for i,j in enumerate(y_test):\n",
    "    count +=1\n",
    "    if j == y_pred[i]:\n",
    "        right_count+=1\n",
    "#         print(count,'-'*5,j,'-'*5,y_pred[i])\n",
    "        \n",
    "    else:\n",
    "#         pass\n",
    "        wrong_count+=1\n",
    "        print(count,'°'*40,j,'-'*5,y_pred[i])\n",
    "print('total: ',count)\n",
    "print('right_count: ',right_count)\n",
    "print('wrong_count',wrong_count)"
   ]
  },
  {
   "cell_type": "markdown",
   "metadata": {},
   "source": [
    "# do accuracy calculationfrom scratch"
   ]
  },
  {
   "cell_type": "code",
   "execution_count": 31,
   "metadata": {
    "scrolled": true
   },
   "outputs": [
    {
     "name": "stdout",
     "output_type": "stream",
     "text": [
      "1.3157894736842104\n"
     ]
    }
   ],
   "source": [
    "accuracy = (right_count/y_pred.shape[0])*100\n",
    "print(accuracy)"
   ]
  },
  {
   "cell_type": "markdown",
   "metadata": {},
   "source": [
    "# confusion matrix calculation"
   ]
  },
  {
   "cell_type": "code",
   "execution_count": 32,
   "metadata": {
    "scrolled": true
   },
   "outputs": [
    {
     "name": "stdout",
     "output_type": "stream",
     "text": [
      "[[0 0 0 0 0 0 0 0 0 0 0 0 0 0 4 0 0 0 0]\n",
      " [0 0 0 0 0 0 0 0 0 0 1 0 0 0 0 0 3 0 0]\n",
      " [0 0 0 1 0 0 0 0 0 0 0 0 0 0 1 0 2 0 0]\n",
      " [0 0 0 0 0 0 0 0 0 1 0 0 0 1 0 0 2 0 0]\n",
      " [0 0 0 0 0 0 0 0 0 1 0 0 0 0 3 0 0 0 0]\n",
      " [0 0 0 0 0 0 0 0 0 0 0 0 0 0 3 0 1 0 0]\n",
      " [0 0 0 0 0 0 0 0 0 1 0 1 0 0 1 0 1 0 0]\n",
      " [0 0 0 0 0 0 0 0 0 4 0 0 0 0 0 0 0 0 0]\n",
      " [0 0 0 0 0 0 0 0 0 0 0 0 0 0 4 0 0 0 0]\n",
      " [0 0 0 0 0 0 0 0 0 0 0 0 0 0 3 0 1 0 0]\n",
      " [0 0 0 0 0 0 0 0 0 1 0 0 0 0 2 0 1 0 0]\n",
      " [0 0 0 0 0 0 0 0 0 4 0 0 0 0 0 0 0 0 0]\n",
      " [0 0 0 0 0 0 0 0 0 0 0 0 0 1 1 0 2 0 0]\n",
      " [0 0 0 0 0 0 0 0 0 1 0 1 0 1 1 0 0 0 0]\n",
      " [0 0 0 0 0 0 0 0 0 0 0 0 0 4 0 0 0 0 0]\n",
      " [0 0 0 0 0 0 0 0 0 1 0 0 0 0 2 0 1 0 0]\n",
      " [0 0 0 0 0 0 0 0 0 2 0 0 0 1 1 0 0 0 0]\n",
      " [0 0 0 0 0 0 0 0 0 4 0 0 0 0 0 0 0 0 0]\n",
      " [0 0 0 1 0 0 0 0 0 1 0 0 0 0 0 0 1 1 0]]\n",
      "<class 'numpy.ndarray'>\n",
      "(19, 19)\n"
     ]
    }
   ],
   "source": [
    "from sklearn.metrics import confusion_matrix\n",
    "results = confusion_matrix(y_test, y_pred)\n",
    "print(results)\n",
    "print(type(results))\n",
    "print(results.shape)"
   ]
  },
  {
   "cell_type": "markdown",
   "metadata": {},
   "source": [
    "# confusion matrix visualization with seaborn heatmap"
   ]
  },
  {
   "cell_type": "code",
   "execution_count": null,
   "metadata": {},
   "outputs": [],
   "source": [
    "import seaborn as sn\n",
    "import pandas as pd\n",
    "import matplotlib.pyplot as plt\n",
    "\n",
    "df_cm = pd.DataFrame(results, range(19),\n",
    "                  range(19))\n",
    "plt.figure(figsize = (10,7))\n",
    "plt.tight_layout()\n",
    "sn.set(font_scale=1.4)#for label size\n",
    "\n",
    "ax = sn.heatmap(df_cm, annot=True,annot_kws={\"size\": 14},xticklabels=True, yticklabels=True)# font size\n",
    "ax.set(xlabel='predicted_class', ylabel='true_class')\n",
    "ax.set_ylim(19)\n",
    "figure = ax.get_figure()    \n",
    "# figure.savefig('12_sep_general_new_model_no_augmentation_confusion.png', dpi=400)\n"
   ]
  },
  {
   "cell_type": "markdown",
   "metadata": {},
   "source": [
    "# confusion matrix visualization with matplotlib"
   ]
  },
  {
   "cell_type": "code",
   "execution_count": null,
   "metadata": {},
   "outputs": [],
   "source": [
    "from sklearn import metrics\n",
    "cm = metrics.confusion_matrix(y_test, y_pred)\n",
    "plt.imshow(cm, cmap=plt.cm.Accent)\n",
    "plt.xlabel(\"Predicted labels\")\n",
    "plt.ylabel(\"True labels\")\n",
    "plt.xticks([], [])\n",
    "# plt.xticks(y_pred)\n",
    "plt.yticks([], [])\n",
    "# plt.xticks(y_test)\n",
    "plt.title('Confusion matrix ')\n",
    "plt.colorbar()\n",
    "plt.show()"
   ]
  },
  {
   "cell_type": "markdown",
   "metadata": {},
   "source": [
    "# check class image by image"
   ]
  },
  {
   "cell_type": "code",
   "execution_count": null,
   "metadata": {
    "scrolled": false
   },
   "outputs": [],
   "source": [
    "import glob\n",
    "\n",
    "test_image_path = r'/home/atif/machine_learning_stuff/ml_image/test_image_26_aug/'\n",
    "\n",
    "my_name = ['SM_CalgonitFinish_2','SM_CalgonitFinishKlarspueler_5','SM_CalgonitFinishMaschinenpfleger_8','SM_CalgonitFinishSpezialSalz_11',\n",
    "           'SM_CalgonitFinishVorratspack_14','SM_DenkMitEdelstahlreiniger_17','SM_DenkMitEdelstahlReinigerSpray_20','SM_DenkMitEntkalker_23',\n",
    "           'SM_DenkMitGeschirrReiniger_26','SM_DenkMitGeschirrReinigerClassic_29','SM_DenkMitGeschirrReinigerEvo_32','SM_DenkMitGeschirrReinigerNature_35',\n",
    "           'SM_DenkMitHygieneAllzweckreiniger_38','SM_DenkMitMaschinenpfleger_41','SM_DenkMitSpezialsalz_44','SM_SomatClassic_53']\n",
    "\n",
    "img_path = glob.glob(test_image_path+ '/*.jpg')\n",
    "for image in img_path:\n",
    "    X_test=[]\n",
    "    X_test.append(preprocess_img(io.imread(image)))\n",
    "    X_test = np.array(X_test)\n",
    "#     plt.imshow(X_test)\n",
    "    X_test = X_test.reshape(len(X_test),3,IMG_SIZE,IMG_SIZE)\n",
    "    \n",
    "    print('image name is: ',image)\n",
    "    predicted_class = model.predict_classes(X_test)\n",
    "    print(\"predicted class: \",predicted_class)\n",
    "#     print('type-of predicted calss: ', type(predicted_class))\n",
    "    print('class name is: ',my_name[predicted_class[0]])\n",
    "    \n",
    "#     probability = model.predict_proba(X_test)\n",
    "#     print(\"probability: \",probability)\n",
    "    print('\\n')"
   ]
  },
  {
   "cell_type": "markdown",
   "metadata": {},
   "source": [
    "# training with data augmentation"
   ]
  },
  {
   "cell_type": "code",
   "execution_count": null,
   "metadata": {},
   "outputs": [],
   "source": [
    "from sklearn.model_selection import train_test_split\n",
    "\n",
    "X_train, X_val, Y_train, Y_val = train_test_split(X, Y, test_size=0.2, random_state=42)\n",
    "\n",
    "datagen = ImageDataGenerator(rotation_range=40,\n",
    "    width_shift_range=0.2,\n",
    "    height_shift_range=0.2,\n",
    "    rescale=1/255,\n",
    "    shear_range=0.2,\n",
    "    zoom_range=0.2,\n",
    "    horizontal_flip=True,\n",
    "    fill_mode='nearest')\n",
    "\n",
    "datagen.fit(X_train)"
   ]
  },
  {
   "cell_type": "code",
   "execution_count": null,
   "metadata": {},
   "outputs": [],
   "source": [
    "model_augmentation = cnn_model()\n",
    "# let's train the model using SGD + momentum (how original).\n",
    "lr = 0.01\n",
    "sgd = SGD(lr=lr, decay=1e-6, momentum=0.9, nesterov=True)\n",
    "model_augmentation.compile(loss='categorical_crossentropy',\n",
    "          optimizer=sgd,\n",
    "          metrics=['accuracy'])\n",
    "\n",
    "\n",
    "def lr_schedule(epoch):\n",
    "    return lr*(0.1**int(epoch/10))"
   ]
  },
  {
   "cell_type": "code",
   "execution_count": null,
   "metadata": {},
   "outputs": [],
   "source": [
    "nb_epoch = 50\n",
    "batch_size = 32\n",
    "model_augmentation.fit_generator(datagen.flow(X_train, Y_train, batch_size=batch_size),\n",
    "                            steps_per_epoch=X_train.shape[0],\n",
    "                            epochs=nb_epoch,\n",
    "                            validation_data=(X_val, Y_val),\n",
    "                            callbacks=[LearningRateScheduler(lr_schedule),\n",
    "                                       ModelCheckpoint(path+str(current_time)+'_AUGMENTATION_'+str(epochs)+'.h5',save_best_only=True)]\n",
    "                           )"
   ]
  },
  {
   "cell_type": "code",
   "execution_count": null,
   "metadata": {},
   "outputs": [],
   "source": [
    "from keras import backend as K\n",
    "K.tensorflow_backend._get_available_gpus()"
   ]
  },
  {
   "cell_type": "code",
   "execution_count": null,
   "metadata": {},
   "outputs": [],
   "source": [
    "import matplotlib\n",
    "matplotlib.__version__"
   ]
  },
  {
   "cell_type": "code",
   "execution_count": null,
   "metadata": {},
   "outputs": [],
   "source": []
  }
 ],
 "metadata": {
  "kernelspec": {
   "display_name": "Python 3",
   "language": "python",
   "name": "python3"
  },
  "language_info": {
   "codemirror_mode": {
    "name": "ipython",
    "version": 3
   },
   "file_extension": ".py",
   "mimetype": "text/x-python",
   "name": "python",
   "nbconvert_exporter": "python",
   "pygments_lexer": "ipython3",
   "version": "3.6.8"
  }
 },
 "nbformat": 4,
 "nbformat_minor": 2
}
