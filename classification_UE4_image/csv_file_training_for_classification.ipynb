{
 "cells": [
  {
   "cell_type": "code",
   "execution_count": 2,
   "metadata": {},
   "outputs": [],
   "source": [
    "import numpy as np\n",
    "from skimage import io, color, exposure, transform\n",
    "from skimage.color import rgb2gray\n",
    "#from sklearn.cross_validation import train_test_split\n",
    "from sklearn.model_selection import train_test_split  #it came from update scikit learn. https://stackoverflow.com/questions/40704484/importerror-no-module-named-model-selection\n",
    "import os\n",
    "import glob\n",
    "import h5py\n",
    "import keras\n",
    "\n",
    "from keras.preprocessing.image import ImageDataGenerator\n",
    "from keras.models import Sequential, model_from_json\n",
    "from keras.layers.core import Dense, Dropout, Activation, Flatten\n",
    "from keras.layers.convolutional import Conv2D,Conv1D\n",
    "from keras.layers.pooling import MaxPooling2D\n",
    "\n",
    "from keras.layers.convolutional import Convolution2D, MaxPooling2D\n",
    "\n",
    "from keras.optimizers import SGD\n",
    "from keras.optimizers import Adam\n",
    "from keras.utils import np_utils\n",
    "from keras.callbacks import LearningRateScheduler, ModelCheckpoint\n",
    "from keras import backend as K\n",
    "K.set_image_data_format('channels_first')\n",
    "\n",
    "from matplotlib import pyplot as plt\n",
    "get_ipython().run_line_magic('matplotlib', 'inline')\n",
    "from matplotlib.pylab import rcParams\n",
    "\n",
    "#import keras\n",
    "\n",
    "NUM_CLASSES = 19 # change it with respect to the desired class\n",
    "IMG_SIZE = 48 # change it if it desired\n",
    "IMG_depth = 3 # for RGB 3, for B&W it will be 1\n",
    "from keras.applications import VGG16"
   ]
  },
  {
   "cell_type": "code",
   "execution_count": 24,
   "metadata": {},
   "outputs": [],
   "source": [
    "def preprocess_img(img):\n",
    "    # Histogram normalization in y\n",
    "    hsv = color.rgb2hsv(img)\n",
    "    hsv[:,:,2] = exposure.equalize_hist(hsv[:,:,2])\n",
    "    img = color.hsv2rgb(hsv)\n",
    "\n",
    "    # central scrop\n",
    "    min_side = min(img.shape[:-1])\n",
    "    centre = img.shape[0]//2, img.shape[1]//2\n",
    "    img = img[centre[0]-min_side//2:centre[0]+min_side//2,centre[1]-min_side//2:centre[1]+min_side//2,:]\n",
    "#    img = rgb2gray(img)\n",
    "\n",
    "    # rescale to standard size\n",
    "    img = transform.resize(img, (IMG_SIZE, IMG_SIZE))\n",
    "\n",
    "    # roll color axis to axis 0\n",
    "    img = np.rollaxis(img,-1) # this lin is doing the channel first operation\n",
    "\n",
    "    return img\n",
    "\n",
    "# def get_class(img_path):\n",
    "#     return int(img_path.split('/')[-2])\n",
    "# #     return str(img_path.split('/')[-2]) # returning the folder name. If use -1 that means image name. consider the img_path."
   ]
  },
  {
   "cell_type": "markdown",
   "metadata": {},
   "source": [
    "# information fetching from csv file to get image location and class ID"
   ]
  },
  {
   "cell_type": "code",
   "execution_count": 25,
   "metadata": {
    "scrolled": false
   },
   "outputs": [],
   "source": [
    "import pandas as pd\n",
    "imgs = []\n",
    "labels = []\n",
    "\n",
    "train_image_csv_path = pd.read_csv('/home/atif/machine_learning_stuff/ml_image/train_image.csv',sep=';')\n",
    "# test_image_path =  '/home/atif/machine_learning_stuff/ml_image/test_image_crop/'\n",
    "\n",
    "# X_test = []\n",
    "# y_test = []\n",
    "i = 0\n",
    "for file_name, class_id  in zip(list(train_image_csv_path['filename']), list(train_image_csv_path['classID'])):\n",
    "#     print('filename: ',file_name,'\\t classId: ',class_id)\n",
    "    #print('classId: ',class_id)\n",
    "#     img_path = os.path.join('/home/atif/machine_learning_stuff/ml_image/test_image_26_aug/',file_name)\n",
    "    img_path = os.path.join(file_name)\n",
    "#     print(img_path)\n",
    "#     img_path = glob.glob(os.path.join(test_image_path, '*/*.jpg'))\n",
    "    img = preprocess_img(io.imread(img_path))\n",
    "    imgs.append(img)\n",
    "    class_id_int = int(class_id)\n",
    "    labels.append(class_id_int)\n",
    "    \n",
    "# X_test = np.array(X_test)\n",
    "# y_test = np.array(y_test)"
   ]
  },
  {
   "cell_type": "code",
   "execution_count": 26,
   "metadata": {},
   "outputs": [
    {
     "name": "stdout",
     "output_type": "stream",
     "text": [
      "61560\n"
     ]
    }
   ],
   "source": [
    "print(len(imgs))"
   ]
  },
  {
   "cell_type": "code",
   "execution_count": 27,
   "metadata": {},
   "outputs": [
    {
     "name": "stdout",
     "output_type": "stream",
     "text": [
      "X shape:  (61560, 3, 48, 48)  type:  <class 'numpy.ndarray'>\n",
      "Y shape:  (61560, 19)  type:  <class 'numpy.ndarray'>\n"
     ]
    }
   ],
   "source": [
    "X = np.array(imgs, dtype='float32') #Keeping the image as an array\n",
    "X = X.reshape(len(imgs),IMG_depth,IMG_SIZE,IMG_SIZE) # write (IMG_SIZE,IMG_SIZE,1 if you want channel last; 1= grayscale;3=RGB)\n",
    "# Y = np.eye(NUM_CLASSES, dtype='uint8')[labels]\n",
    "Y = keras.utils.to_categorical(labels, NUM_CLASSES)\n",
    "\n",
    "print('X shape: ', X.shape,' type: ',type(X))\n",
    "print('Y shape: ', Y.shape,' type: ',type(Y))"
   ]
  },
  {
   "cell_type": "code",
   "execution_count": 28,
   "metadata": {},
   "outputs": [],
   "source": [
    "def cnn_model():\n",
    "    model = Sequential()\n",
    "\n",
    "    model.add(Conv2D(32, (3, 3), padding='same',\n",
    "                     input_shape=(3, IMG_SIZE, IMG_SIZE),\n",
    "                     activation='relu'))\n",
    "    model.add(Conv2D(64, (3, 3), activation='relu'))\n",
    "    model.add(MaxPooling2D(pool_size=(2, 2)))\n",
    "    model.add(Dropout(0.2))\n",
    "    \n",
    "    model.add(Conv2D(128, (3, 3), padding='same',\n",
    "                     input_shape=(3, IMG_SIZE, IMG_SIZE),\n",
    "                     activation='relu'))\n",
    "    model.add(Conv2D(256, (3, 3), activation='relu'))\n",
    "    model.add(MaxPooling2D(pool_size=(2, 2)))\n",
    "    model.add(Dropout(0.2))\n",
    "\n",
    "    model.add(Conv2D(256, (3, 3), padding='same',\n",
    "                     activation='relu'))\n",
    "    model.add(Conv2D(256, (3, 3), activation='relu'))\n",
    "    model.add(MaxPooling2D(pool_size=(2, 2)))\n",
    "    model.add(Dropout(0.2))\n",
    "\n",
    "    model.add(Conv2D(512, (3, 3), padding='same',\n",
    "                     activation='relu'))\n",
    "    model.add(Conv2D(512, (3, 3), activation='relu'))\n",
    "    model.add(MaxPooling2D(pool_size=(2, 2)))\n",
    "    model.add(Dropout(0.2))\n",
    "\n",
    "    model.add(Flatten())\n",
    "    model.add(Dense(4096, activation='relu'))\n",
    "#     model.add(Dense(2048, activation='relu'))\n",
    "#     model.add(Dense(1024, activation='relu'))\n",
    "    model.add(Dropout(0.5))\n",
    "    model.add(Dense(NUM_CLASSES, activation='softmax'))\n",
    "    return model\n",
    "\n",
    "model = cnn_model()\n",
    "\n",
    "lr = 0.01\n",
    "sgd = SGD(lr=lr, decay=1e-6, momentum=0.9, nesterov=True)\n",
    "model.compile(loss='categorical_crossentropy',\n",
    "          optimizer=sgd,\n",
    "          metrics=['accuracy'])"
   ]
  },
  {
   "cell_type": "code",
   "execution_count": 29,
   "metadata": {},
   "outputs": [
    {
     "name": "stdout",
     "output_type": "stream",
     "text": [
      "_________________________________________________________________\n",
      "Layer (type)                 Output Shape              Param #   \n",
      "=================================================================\n",
      "conv2d_9 (Conv2D)            (None, 32, 48, 48)        896       \n",
      "_________________________________________________________________\n",
      "conv2d_10 (Conv2D)           (None, 64, 46, 46)        18496     \n",
      "_________________________________________________________________\n",
      "max_pooling2d_5 (MaxPooling2 (None, 64, 23, 23)        0         \n",
      "_________________________________________________________________\n",
      "dropout_6 (Dropout)          (None, 64, 23, 23)        0         \n",
      "_________________________________________________________________\n",
      "conv2d_11 (Conv2D)           (None, 128, 23, 23)       73856     \n",
      "_________________________________________________________________\n",
      "conv2d_12 (Conv2D)           (None, 256, 21, 21)       295168    \n",
      "_________________________________________________________________\n",
      "max_pooling2d_6 (MaxPooling2 (None, 256, 10, 10)       0         \n",
      "_________________________________________________________________\n",
      "dropout_7 (Dropout)          (None, 256, 10, 10)       0         \n",
      "_________________________________________________________________\n",
      "conv2d_13 (Conv2D)           (None, 256, 10, 10)       590080    \n",
      "_________________________________________________________________\n",
      "conv2d_14 (Conv2D)           (None, 256, 8, 8)         590080    \n",
      "_________________________________________________________________\n",
      "max_pooling2d_7 (MaxPooling2 (None, 256, 4, 4)         0         \n",
      "_________________________________________________________________\n",
      "dropout_8 (Dropout)          (None, 256, 4, 4)         0         \n",
      "_________________________________________________________________\n",
      "conv2d_15 (Conv2D)           (None, 512, 4, 4)         1180160   \n",
      "_________________________________________________________________\n",
      "conv2d_16 (Conv2D)           (None, 512, 2, 2)         2359808   \n",
      "_________________________________________________________________\n",
      "max_pooling2d_8 (MaxPooling2 (None, 512, 1, 1)         0         \n",
      "_________________________________________________________________\n",
      "dropout_9 (Dropout)          (None, 512, 1, 1)         0         \n",
      "_________________________________________________________________\n",
      "flatten_2 (Flatten)          (None, 512)               0         \n",
      "_________________________________________________________________\n",
      "dense_3 (Dense)              (None, 4096)              2101248   \n",
      "_________________________________________________________________\n",
      "dropout_10 (Dropout)         (None, 4096)              0         \n",
      "_________________________________________________________________\n",
      "dense_4 (Dense)              (None, 19)                77843     \n",
      "=================================================================\n",
      "Total params: 7,287,635\n",
      "Trainable params: 7,287,635\n",
      "Non-trainable params: 0\n",
      "_________________________________________________________________\n"
     ]
    }
   ],
   "source": [
    "model.summary()"
   ]
  },
  {
   "cell_type": "code",
   "execution_count": 30,
   "metadata": {},
   "outputs": [],
   "source": [
    "path = '/home/atif/machine_learning_stuff/model_file_keras/'"
   ]
  },
  {
   "cell_type": "code",
   "execution_count": 31,
   "metadata": {},
   "outputs": [
    {
     "name": "stdout",
     "output_type": "stream",
     "text": [
      "current time: 2019-10-29 21:16:45\n"
     ]
    }
   ],
   "source": [
    "import datetime\n",
    "current_time = datetime.datetime.now().strftime(\"%Y-%m-%d %H:%M:%S\")\n",
    "print(\"current time:\", current_time)"
   ]
  },
  {
   "cell_type": "code",
   "execution_count": 34,
   "metadata": {
    "scrolled": true
   },
   "outputs": [
    {
     "name": "stdout",
     "output_type": "stream",
     "text": [
      "Train on 49248 samples, validate on 12312 samples\n",
      "Epoch 1/50\n",
      " - 43s - loss: 0.0240 - acc: 0.9926 - val_loss: 11.1500 - val_acc: 0.2105\n",
      "Epoch 2/50\n",
      " - 43s - loss: 0.0263 - acc: 0.9927 - val_loss: 11.2704 - val_acc: 0.2104\n",
      "Epoch 3/50\n",
      " - 43s - loss: 0.0140 - acc: 0.9956 - val_loss: 11.1969 - val_acc: 0.2072\n",
      "Epoch 4/50\n",
      " - 44s - loss: 0.0172 - acc: 0.9950 - val_loss: 11.0393 - val_acc: 0.2104\n",
      "Epoch 5/50\n",
      " - 43s - loss: 0.0117 - acc: 0.9970 - val_loss: 12.1632 - val_acc: 0.2105\n",
      "Epoch 6/50\n",
      " - 43s - loss: 0.0123 - acc: 0.9968 - val_loss: 11.6600 - val_acc: 0.2105\n",
      "Epoch 7/50\n",
      " - 43s - loss: 0.0025 - acc: 0.9993 - val_loss: 11.9175 - val_acc: 0.2105\n",
      "Epoch 8/50\n",
      " - 43s - loss: 0.0026 - acc: 0.9992 - val_loss: 11.6796 - val_acc: 0.2104\n",
      "Epoch 9/50\n",
      " - 43s - loss: 0.0023 - acc: 0.9994 - val_loss: 12.3349 - val_acc: 0.2101\n",
      "Epoch 10/50\n",
      " - 43s - loss: 0.0146 - acc: 0.9960 - val_loss: 12.1284 - val_acc: 0.2105\n",
      "Epoch 11/50\n",
      " - 43s - loss: 0.0011 - acc: 0.9998 - val_loss: 12.1393 - val_acc: 0.2105\n",
      "Epoch 12/50\n",
      " - 43s - loss: 4.7023e-04 - acc: 0.9999 - val_loss: 12.1446 - val_acc: 0.2105\n",
      "Epoch 13/50\n",
      " - 43s - loss: 2.5614e-04 - acc: 1.0000 - val_loss: 12.1744 - val_acc: 0.2105\n",
      "Epoch 14/50\n",
      " - 43s - loss: 1.9496e-04 - acc: 1.0000 - val_loss: 12.1936 - val_acc: 0.2105\n",
      "Epoch 15/50\n",
      " - 43s - loss: 1.5209e-04 - acc: 1.0000 - val_loss: 12.2294 - val_acc: 0.2105\n",
      "Epoch 16/50\n",
      " - 43s - loss: 2.2918e-04 - acc: 0.9999 - val_loss: 12.1982 - val_acc: 0.2105\n",
      "Epoch 17/50\n",
      " - 43s - loss: 1.1059e-04 - acc: 1.0000 - val_loss: 12.2299 - val_acc: 0.2105\n",
      "Epoch 18/50\n",
      " - 43s - loss: 1.5626e-04 - acc: 0.9999 - val_loss: 12.2631 - val_acc: 0.2105\n",
      "Epoch 19/50\n",
      " - 43s - loss: 9.1129e-05 - acc: 1.0000 - val_loss: 12.2776 - val_acc: 0.2105\n",
      "Epoch 20/50\n",
      " - 43s - loss: 1.4903e-04 - acc: 0.9999 - val_loss: 12.3107 - val_acc: 0.2105\n",
      "Epoch 21/50\n",
      " - 43s - loss: 7.0633e-05 - acc: 1.0000 - val_loss: 12.3126 - val_acc: 0.2105\n",
      "Epoch 22/50\n",
      " - 43s - loss: 1.3324e-04 - acc: 1.0000 - val_loss: 12.3142 - val_acc: 0.2105\n",
      "Epoch 23/50\n",
      " - 43s - loss: 1.3900e-04 - acc: 1.0000 - val_loss: 12.3160 - val_acc: 0.2105\n",
      "Epoch 24/50\n",
      " - 43s - loss: 1.4450e-04 - acc: 1.0000 - val_loss: 12.3191 - val_acc: 0.2105\n",
      "Epoch 25/50\n",
      " - 43s - loss: 7.8228e-05 - acc: 1.0000 - val_loss: 12.3205 - val_acc: 0.2105\n",
      "Epoch 26/50\n",
      " - 43s - loss: 1.3103e-04 - acc: 1.0000 - val_loss: 12.3242 - val_acc: 0.2105\n",
      "Epoch 27/50\n",
      " - 43s - loss: 6.9402e-05 - acc: 1.0000 - val_loss: 12.3261 - val_acc: 0.2105\n",
      "Epoch 28/50\n",
      " - 43s - loss: 7.0280e-05 - acc: 1.0000 - val_loss: 12.3278 - val_acc: 0.2105\n",
      "Epoch 29/50\n",
      " - 43s - loss: 1.4561e-04 - acc: 0.9999 - val_loss: 12.3289 - val_acc: 0.2105\n",
      "Epoch 30/50\n",
      " - 43s - loss: 1.0433e-04 - acc: 1.0000 - val_loss: 12.3291 - val_acc: 0.2105\n",
      "Epoch 31/50\n",
      " - 43s - loss: 8.1256e-05 - acc: 1.0000 - val_loss: 12.3291 - val_acc: 0.2105\n",
      "Epoch 32/50\n",
      " - 43s - loss: 1.3470e-04 - acc: 1.0000 - val_loss: 12.3289 - val_acc: 0.2105\n",
      "Epoch 33/50\n",
      " - 43s - loss: 1.1463e-04 - acc: 1.0000 - val_loss: 12.3289 - val_acc: 0.2105\n",
      "Epoch 34/50\n",
      " - 43s - loss: 1.2965e-04 - acc: 1.0000 - val_loss: 12.3289 - val_acc: 0.2105\n",
      "Epoch 35/50\n",
      " - 43s - loss: 9.0879e-05 - acc: 1.0000 - val_loss: 12.3290 - val_acc: 0.2105\n",
      "Epoch 36/50\n",
      " - 43s - loss: 6.4011e-05 - acc: 1.0000 - val_loss: 12.3290 - val_acc: 0.2105\n",
      "Epoch 37/50\n",
      " - 43s - loss: 1.6929e-04 - acc: 1.0000 - val_loss: 12.3288 - val_acc: 0.2105\n",
      "Epoch 38/50\n",
      " - 43s - loss: 9.5826e-05 - acc: 1.0000 - val_loss: 12.3289 - val_acc: 0.2105\n",
      "Epoch 39/50\n",
      " - 43s - loss: 1.0551e-04 - acc: 1.0000 - val_loss: 12.3289 - val_acc: 0.2105\n",
      "Epoch 40/50\n",
      " - 43s - loss: 1.1139e-04 - acc: 1.0000 - val_loss: 12.3290 - val_acc: 0.2105\n",
      "Epoch 41/50\n",
      " - 43s - loss: 1.1411e-04 - acc: 1.0000 - val_loss: 12.3289 - val_acc: 0.2105\n",
      "Epoch 42/50\n",
      " - 43s - loss: 1.1975e-04 - acc: 0.9999 - val_loss: 12.3289 - val_acc: 0.2105\n",
      "Epoch 43/50\n",
      " - 43s - loss: 9.2640e-05 - acc: 1.0000 - val_loss: 12.3289 - val_acc: 0.2105\n",
      "Epoch 44/50\n",
      " - 43s - loss: 2.0239e-04 - acc: 0.9999 - val_loss: 12.3289 - val_acc: 0.2105\n",
      "Epoch 45/50\n",
      " - 43s - loss: 9.1667e-05 - acc: 1.0000 - val_loss: 12.3289 - val_acc: 0.2105\n",
      "Epoch 46/50\n",
      " - 43s - loss: 9.3905e-05 - acc: 1.0000 - val_loss: 12.3289 - val_acc: 0.2105\n",
      "Epoch 47/50\n",
      " - 43s - loss: 7.8419e-05 - acc: 1.0000 - val_loss: 12.3289 - val_acc: 0.2105\n",
      "Epoch 48/50\n",
      " - 43s - loss: 1.9447e-04 - acc: 0.9999 - val_loss: 12.3290 - val_acc: 0.2105\n",
      "Epoch 49/50\n",
      " - 43s - loss: 1.3289e-04 - acc: 1.0000 - val_loss: 12.3289 - val_acc: 0.2105\n",
      "Epoch 50/50\n",
      " - 43s - loss: 7.5482e-05 - acc: 1.0000 - val_loss: 12.3289 - val_acc: 0.2105\n"
     ]
    }
   ],
   "source": [
    "def lr_schedule(epoch):\n",
    "    return lr * (0.1 ** int(epoch / 10))\n",
    "\n",
    "batch_size = 32\n",
    "epochs = 50\n",
    "do_train_model=model.fit(X, Y,\n",
    "          batch_size=batch_size,\n",
    "          epochs=epochs,\n",
    "          validation_split=0.2,verbose=2, shuffle=True,\n",
    "          #np.resize(img, (-1, <image shape>)\n",
    "          callbacks=[LearningRateScheduler(lr_schedule),ModelCheckpoint(path+str(current_time)+'_new_model_csv_train_epoch_'+str(epochs)+'.h5', save_best_only=True)])"
   ]
  },
  {
   "cell_type": "code",
   "execution_count": 35,
   "metadata": {},
   "outputs": [
    {
     "name": "stdout",
     "output_type": "stream",
     "text": [
      "dict_keys(['val_loss', 'val_acc', 'loss', 'acc'])\n",
      "dict_keys(['val_loss', 'val_acc', 'loss', 'acc'])\n"
     ]
    },
    {
     "data": {
      "image/png": "[encoded data removed]",
      "text/plain": [
       "<Figure size 432x288 with 1 Axes>"
      ]
     },
     "metadata": {
      "needs_background": "light"
     },
     "output_type": "display_data"
    },
    {
     "data": {
      "image/png": "[encoded data removed]",
      "text/plain": [
       "<Figure size 432x288 with 1 Axes>"
      ]
     },
     "metadata": {
      "needs_background": "light"
     },
     "output_type": "display_data"
    }
   ],
   "source": [
    "print(do_train_model.history.keys())\n",
    "# summarize history for accuracy\n",
    "plt.plot(do_train_model.history['acc'], '-o', color = 'red')\n",
    "plt.plot(do_train_model.history['val_acc'],'-^', color = 'green')\n",
    "plt.title('model accuracy')\n",
    "plt.ylabel('accuracy')\n",
    "plt.xlabel('epoch')\n",
    "plt.legend(['train_accuracy', 'validation_accuracy'], loc='best')\n",
    "# plt.savefig(path+str(current_time)+'_epoch_vs_accuracy.jpg')\n",
    "# plt.show()\n",
    "\n",
    "plt.figure()\n",
    "\n",
    "\n",
    "print(do_train_model.history.keys())\n",
    "# summarize history for accuracy\n",
    "plt.plot(do_train_model.history['loss'],'-o', color = 'red')\n",
    "plt.plot(do_train_model.history['val_loss'],'-^', color = 'green')\n",
    "plt.title('model loss')\n",
    "plt.ylabel('loss')\n",
    "plt.xlabel('epoch')\n",
    "plt.legend(['train_loss', 'validation_loss'], loc='best')\n",
    "# plt.savefig(path+str(current_time)+'_epoch_vs_loss.jpg')\n",
    "plt.rcParams['figure.figsize'] =(12,5)\n",
    "plt.show()"
   ]
  },
  {
   "cell_type": "code",
   "execution_count": 36,
   "metadata": {},
   "outputs": [],
   "source": [
    "from keras.models import load_model\n",
    "model = load_model(path+'2019-10-29 21:16:45_new_model_csv_train_epoch_50.h5')"
   ]
  },
  {
   "cell_type": "code",
   "execution_count": 37,
   "metadata": {
    "scrolled": true
   },
   "outputs": [
    {
     "name": "stdout",
     "output_type": "stream",
     "text": [
      "filename:  calgonit_finish_speizalsalz (3).jpg \t classId:  3\n",
      "filename:  calgonit_finish_speizalsalz (1).jpg \t classId:  3\n",
      "filename:  calgonit_finish_speizalsalz (2).jpg \t classId:  3\n",
      "filename:  calgonit_finish_speizalsalz (4).jpg \t classId:  3\n",
      "filename:  denkmit_edelstahk_reiniger (3).jpg \t classId:  5\n",
      "filename:  denkmit_edelstahk_reiniger (1).jpg \t classId:  5\n",
      "filename:  denkmit_edelstahk_reiniger (6).jpg \t classId:  5\n",
      "filename:  denkmit_edelstahk_reiniger (7).jpg \t classId:  5\n",
      "filename:  34_SM_DenkMitEdelstahlReinigerSpray_20_33_90_60_lit_cropped.jpg \t classId:  6\n",
      "filename:  denkmit_edelsthal_reiniger_spray.jpg \t classId:  6\n",
      "filename:  real_DenkMitEdelstahlReinigerSpray_right1.jpg \t classId:  6\n",
      "filename:  real_DenkMitEdelstahlReinigerSpray_right4.jpg \t classId:  6\n",
      "filename:  somat_3.jpg \t classId:  17\n",
      "filename:  somat_6.jpg \t classId:  17\n",
      "filename:  somat_7.jpg \t classId:  17\n",
      "filename:  somat_8.jpg \t classId:  17\n",
      "filename:  denkmit_Entkalker (4).jpg \t classId:  7\n",
      "filename:  denkmit_Entkalker (2).jpg \t classId:  7\n",
      "filename:  denkmit_Entkalker (5).jpg \t classId:  7\n",
      "filename:  denkmit_Entkalker (6).jpg \t classId:  7\n",
      "filename:  denkmit_hygiene_Allzweck_reiniger (3).jpg \t classId:  12\n",
      "filename:  denkmit_hygiene_Allzweck_reiniger (1).jpg \t classId:  12\n",
      "filename:  real_DenkMitHygieneAllzweckReiniger_left1.jpg \t classId:  12\n",
      "filename:  real_DenkMitHygieneAllzweckReiniger_right4.jpg \t classId:  12\n",
      "filename:  real_DenkMitMaschinenPfleger_front2.jpg \t classId:  13\n",
      "filename:  real_DenkMitMaschinenPfleger_left4.jpg \t classId:  13\n",
      "filename:  real_DenkMitMaschinenPfleger_front1.jpg \t classId:  13\n",
      "filename:  real_DenkMitMaschinenPfleger_left1.jpg \t classId:  13\n",
      "filename:  calgonit_finish_klarspueler (1).jpg \t classId:  1\n",
      "filename:  calgonit_finish_klarspueler (2).jpg \t classId:  1\n",
      "filename:  real_calgonitFinishKlarspueler_front3.jpg \t classId:  1\n",
      "filename:  real_calgonitFinishKlarspueler_right1.jpg \t classId:  1\n",
      "filename:  calgonit_finish_classic (1).jpg \t classId:  0\n",
      "filename:  calgonit_finish_classic (2).jpg \t classId:  0\n",
      "filename:  calgonit_finish_classic (4).jpg \t classId:  0\n",
      "filename:  calgonit_finish_classic (5).jpg \t classId:  0\n",
      "filename:  denkmit_geschirr_reiniger_NATURE (5).jpg \t classId:  11\n",
      "filename:  denkmit_geschirr_reiniger_NATURE (2).jpg \t classId:  11\n",
      "filename:  denkmit_geschirr_reiniger_NATURE (3).jpg \t classId:  11\n",
      "filename:  denkmit_geschirr_reiniger_NATURE (4).jpg \t classId:  11\n",
      "filename:  denkmit_geschirr_reiniger_multipower (1).jpg \t classId:  8\n",
      "filename:  denkmit_geschirr_reiniger_multipower (3).jpg \t classId:  8\n",
      "filename:  denkmit_geschirr_reiniger_multipower (5).jpg \t classId:  8\n",
      "filename:  denkmit_geschirr_reiniger_multipower (6).jpg \t classId:  8\n",
      "filename:  denkmit_spezalsalz (1).jpg \t classId:  14\n",
      "filename:  denkmit_spezalsalz (5).jpg \t classId:  14\n",
      "filename:  denkmit_spezalsalz (8).jpg \t classId:  14\n",
      "filename:  denkmit_spezalsalz (9).jpg \t classId:  14\n",
      "filename:  Denkmit_geschirr_reiniger_classic (1).jpg \t classId:  9\n",
      "filename:  Denkmit_geschirr_reiniger_classic (3).jpg \t classId:  9\n",
      "filename:  Denkmit_geschirr_reiniger_classic (5).jpg \t classId:  9\n",
      "filename:  Denkmit_geschirr_reiniger_classic (6).jpg \t classId:  9\n",
      "filename:  calgonit_finish_vorratspack.jpg \t classId:  4\n",
      "filename:  2_SM_CalgonitFinishVorratspack_14_1_90_60_lit_cropped.jpg \t classId:  4\n",
      "filename:  32_SM_CalgonitFinishVorratspack_14_31_90_60_lit_cropped.png \t classId:  4\n",
      "filename:  349_SM_CalgonitFinishVorratspack_14_348_90_60_lit_cropped.png \t classId:  4\n",
      "filename:  calgonit_maschine_pfleger (1).jpg \t classId:  2\n",
      "filename:  real_calgonitFinishMaschinenPfleger_front2.jpg \t classId:  2\n",
      "filename:  calgonit_maschine_pfleger (3).jpg \t classId:  2\n",
      "filename:  calgonit_maschine_pfleger (4).jpg \t classId:  2\n",
      "filename:  denkmit_geschirrreiniger_REVOLUTION (1).jpg \t classId:  10\n",
      "filename:  denkmit_geschirrreiniger_REVOLUTION (4).jpg \t classId:  10\n",
      "filename:  denkmit_geschirrreiniger_REVOLUTION (5).jpg \t classId:  10\n",
      "filename:  denkmit_geschirrreiniger_REVOLUTION (6).jpg \t classId:  10\n",
      "filename:  DomestokosUniversalReiniger.jpg \t classId:  15\n",
      "filename:  DomestokosUniversalReiniger_1.jpg \t classId:  15\n",
      "filename:  DomestokosUniversalReiniger_2.jpg \t classId:  15\n",
      "filename:  DomestokosUniversalReiniger_3.jpg \t classId:  15\n",
      "filename:  hitman_reine_sitrone_sauer.jpg \t classId:  16\n",
      "filename:  hitman_reine_sitrone_sauer_1.jpg \t classId:  16\n",
      "filename:  hitman_reine_sitrone_sauer_2.jpg \t classId:  16\n",
      "filename:  hitman_reine_sitrone_sauer_3.jpg \t classId:  16\n",
      "filename:  94_SM_SomatExtraAllIn1_56_93_90_60_lit_cropped.png \t classId:  18\n",
      "filename:  418_SM_SomatExtraAllIn1_56_57_80_60_lit_cropped.png \t classId:  18\n",
      "filename:  58_SM_SomatExtraAllIn1_56_57_90_60_lit_cropped.png \t classId:  18\n",
      "filename:  385_SM_SomatExtraAllIn1_56_24_80_60_lit_cropped.png \t classId:  18\n"
     ]
    }
   ],
   "source": [
    "import pandas as pd\n",
    "# test_file_same_number\n",
    "# test = pd.read_csv('/home/atif/machine_learning_stuff/ml_image/test_file_16_class.csv', sep=';')\n",
    "test = pd.read_csv('/home/atif/machine_learning_stuff/ml_image/test_file_same_number.csv', sep=';')\n",
    "# test_image_path =  '/home/atif/machine_learning_stuff/ml_image/test_image_crop/'\n",
    "\n",
    "X_test = []\n",
    "y_test = []\n",
    "i = 0\n",
    "for file_name, class_id in zip(list(test['Filename']), list(test['ClassId'])):\n",
    "    print('filename: ', file_name, '\\t classId: ', class_id)\n",
    "    # print('classId: ',class_id)\n",
    "    img_path = os.path.join('/home/atif/machine_learning_stuff/ml_image/test_image_26_aug/', file_name)\n",
    "    #     img_path = glob.glob(os.path.join(test_image_path, '*/*.jpg'))\n",
    "    X_test.append(preprocess_img(io.imread(img_path)))\n",
    "    y_test.append(class_id)\n"
   ]
  },
  {
   "cell_type": "code",
   "execution_count": 40,
   "metadata": {},
   "outputs": [
    {
     "name": "stdout",
     "output_type": "stream",
     "text": [
      "(76, 3, 48, 48) (76,)\n"
     ]
    }
   ],
   "source": [
    "X_test = np.array(X_test)\n",
    "y_test = np.array(y_test)\n",
    "print(X_test.shape,y_test.shape)"
   ]
  },
  {
   "cell_type": "code",
   "execution_count": 41,
   "metadata": {},
   "outputs": [
    {
     "name": "stdout",
     "output_type": "stream",
     "text": [
      "Test accuracy = 0.6052631578947368\n"
     ]
    }
   ],
   "source": [
    "y_pred = model.predict_classes(X_test)\n",
    "acc = np.sum(y_pred==y_test)/np.size(y_pred)\n",
    "print(\"Test accuracy = {}\".format(acc))"
   ]
  },
  {
   "cell_type": "code",
   "execution_count": 42,
   "metadata": {},
   "outputs": [
    {
     "name": "stdout",
     "output_type": "stream",
     "text": [
      "[[4 0 0 0 0 0 0 0 0 0 0 0 0 0 0 0 0 0 0]\n",
      " [0 3 0 0 1 0 0 0 0 0 0 0 0 0 0 0 0 0 0]\n",
      " [0 1 0 0 3 0 0 0 0 0 0 0 0 0 0 0 0 0 0]\n",
      " [0 0 0 4 0 0 0 0 0 0 0 0 0 0 0 0 0 0 0]\n",
      " [1 0 0 0 3 0 0 0 0 0 0 0 0 0 0 0 0 0 0]\n",
      " [0 0 0 0 0 0 4 0 0 0 0 0 0 0 0 0 0 0 0]\n",
      " [0 0 0 0 0 1 0 0 0 0 0 3 0 0 0 0 0 0 0]\n",
      " [0 0 0 0 0 0 0 4 0 0 0 0 0 0 0 0 0 0 0]\n",
      " [0 0 0 0 0 0 0 0 4 0 0 0 0 0 0 0 0 0 0]\n",
      " [0 0 0 0 0 0 0 0 0 0 0 4 0 0 0 0 0 0 0]\n",
      " [0 0 0 0 0 0 0 0 0 0 2 2 0 0 0 0 0 0 0]\n",
      " [0 0 0 0 0 0 0 0 0 0 0 4 0 0 0 0 0 0 0]\n",
      " [0 0 0 2 1 0 1 0 0 0 0 0 0 0 0 0 0 0 0]\n",
      " [0 0 0 0 0 0 0 0 0 0 1 1 0 0 1 0 1 0 0]\n",
      " [0 0 0 0 0 0 0 0 0 0 0 0 0 0 4 0 0 0 0]\n",
      " [0 0 0 0 0 0 2 0 0 0 0 0 0 0 0 2 0 0 0]\n",
      " [0 0 0 0 0 0 0 0 0 0 0 0 0 0 0 0 4 0 0]\n",
      " [0 0 0 0 0 0 0 0 0 0 0 0 0 0 0 0 0 4 0]\n",
      " [0 0 0 0 0 0 0 0 0 0 0 0 0 0 0 0 0 0 4]]\n",
      "<class 'numpy.ndarray'>\n",
      "(19, 19)\n"
     ]
    }
   ],
   "source": [
    "from sklearn.metrics import confusion_matrix\n",
    "results = confusion_matrix(y_test, y_pred)\n",
    "print(results)\n",
    "print(type(results))\n",
    "print(results.shape)"
   ]
  },
  {
   "cell_type": "code",
   "execution_count": 43,
   "metadata": {},
   "outputs": [
    {
     "data": {
      "image/png": "[encoded data removed]",
      "text/plain": [
       "<Figure size 720x504 with 2 Axes>"
      ]
     },
     "metadata": {
      "needs_background": "light"
     },
     "output_type": "display_data"
    }
   ],
   "source": [
    "import seaborn as sn\n",
    "import pandas as pd\n",
    "import matplotlib.pyplot as plt\n",
    "\n",
    "df_cm = pd.DataFrame(results, range(19),\n",
    "                  range(19))\n",
    "plt.figure(figsize = (10,7))\n",
    "plt.tight_layout()\n",
    "sn.set(font_scale=1.4)#for label size\n",
    "\n",
    "ax = sn.heatmap(df_cm, annot=True,annot_kws={\"size\": 14},xticklabels=True, yticklabels=True)# font size\n",
    "ax.set(xlabel='predicted_class', ylabel='true_class')\n",
    "ax.set_ylim(19)\n",
    "figure = ax.get_figure()    \n",
    "# figure.savefig('22_OCT_sequential_model_85_percent_acc_VGG_16_channel_last.png', dpi=400)"
   ]
  },
  {
   "cell_type": "code",
   "execution_count": null,
   "metadata": {},
   "outputs": [],
   "source": []
  }
 ],
 "metadata": {
  "kernelspec": {
   "display_name": "Python 3",
   "language": "python",
   "name": "python3"
  },
  "language_info": {
   "codemirror_mode": {
    "name": "ipython",
    "version": 3
   },
   "file_extension": ".py",
   "mimetype": "text/x-python",
   "name": "python",
   "nbconvert_exporter": "python",
   "pygments_lexer": "ipython3",
   "version": "3.6.8"
  }
 },
 "nbformat": 4,
 "nbformat_minor": 2
}
