{
 "cells": [
  {
   "cell_type": "code",
   "execution_count": 2,
   "metadata": {},
   "outputs": [],
   "source": [
    "import numpy as np\n",
    "from skimage import io, color, exposure, transform\n",
    "from skimage.color import rgb2gray\n",
    "#from sklearn.cross_validation import train_test_split\n",
    "from sklearn.model_selection import train_test_split  #it came from update scikit learn. https://stackoverflow.com/questions/40704484/importerror-no-module-named-model-selection\n",
    "import os\n",
    "import glob\n",
    "import h5py\n",
    "import keras\n",
    "import pandas as pd\n",
    "\n",
    "from keras.preprocessing.image import ImageDataGenerator\n",
    "from keras.models import Sequential, model_from_json\n",
    "from keras.layers.core import Dense, Dropout, Activation, Flatten\n",
    "from keras.layers.convolutional import Conv2D,Conv1D\n",
    "from keras.layers.pooling import MaxPooling2D\n",
    "\n",
    "from keras.layers.convolutional import Convolution2D, MaxPooling2D\n",
    "\n",
    "from keras.optimizers import SGD\n",
    "from keras.optimizers import Adam\n",
    "from keras.utils import np_utils\n",
    "from keras.callbacks import LearningRateScheduler, ModelCheckpoint\n",
    "from keras import backend as K\n",
    "K.set_image_data_format('channels_first')\n",
    "\n",
    "from matplotlib import pyplot as plt\n",
    "get_ipython().run_line_magic('matplotlib', 'inline')\n",
    "from matplotlib.pylab import rcParams\n",
    "\n",
    "#import keras\n",
    "\n",
    "NUM_CLASSES = 19 # change it with respect to the desired class\n",
    "IMG_SIZE = 48 # change it if it desired\n",
    "IMG_depth = 3 # for RGB 3, for B&W it will be 1\n",
    "from keras.applications import VGG16"
   ]
  },
  {
   "cell_type": "code",
   "execution_count": 3,
   "metadata": {},
   "outputs": [],
   "source": [
    "def preprocess_img(img):\n",
    "    # Histogram normalization in y\n",
    "    hsv = color.rgb2hsv(img)\n",
    "    hsv[:,:,2] = exposure.equalize_hist(hsv[:,:,2])\n",
    "    img = color.hsv2rgb(hsv)\n",
    "\n",
    "    # central scrop\n",
    "    min_side = min(img.shape[:-1])\n",
    "    centre = img.shape[0]//2, img.shape[1]//2\n",
    "    img = img[centre[0]-min_side//2:centre[0]+min_side//2,centre[1]-min_side//2:centre[1]+min_side//2,:]\n",
    "#    img = rgb2gray(img)\n",
    "\n",
    "    # rescale to standard size\n",
    "    img = transform.resize(img, (IMG_SIZE, IMG_SIZE))\n",
    "\n",
    "    # roll color axis to axis 0\n",
    "    img = np.rollaxis(img,-1) # this lin is doing the channel first operation\n",
    "\n",
    "    return img\n",
    "\n",
    "# def get_class(img_path):\n",
    "#     return int(img_path.split('/')[-2])\n",
    "# #     return str(img_path.split('/')[-2]) # returning the folder name. If use -1 that means image name. consider the img_path."
   ]
  },
  {
   "cell_type": "code",
   "execution_count": 4,
   "metadata": {},
   "outputs": [
    {
     "data": {
      "text/html": [
       "<div>\n",
       "<style scoped>\n",
       "    .dataframe tbody tr th:only-of-type {\n",
       "        vertical-align: middle;\n",
       "    }\n",
       "\n",
       "    .dataframe tbody tr th {\n",
       "        vertical-align: top;\n",
       "    }\n",
       "\n",
       "    .dataframe thead th {\n",
       "        text-align: right;\n",
       "    }\n",
       "</style>\n",
       "<table border=\"1\" class=\"dataframe\">\n",
       "  <thead>\n",
       "    <tr style=\"text-align: right;\">\n",
       "      <th></th>\n",
       "      <th>filename</th>\n",
       "      <th>classID</th>\n",
       "    </tr>\n",
       "  </thead>\n",
       "  <tbody>\n",
       "    <tr>\n",
       "      <td>0</td>\n",
       "      <td>/home/atif/machine_learning_stuff/ml_image/tra...</td>\n",
       "      <td>12</td>\n",
       "    </tr>\n",
       "    <tr>\n",
       "      <td>1</td>\n",
       "      <td>/home/atif/machine_learning_stuff/ml_image/tra...</td>\n",
       "      <td>12</td>\n",
       "    </tr>\n",
       "    <tr>\n",
       "      <td>2</td>\n",
       "      <td>/home/atif/machine_learning_stuff/ml_image/tra...</td>\n",
       "      <td>12</td>\n",
       "    </tr>\n",
       "    <tr>\n",
       "      <td>3</td>\n",
       "      <td>/home/atif/machine_learning_stuff/ml_image/tra...</td>\n",
       "      <td>12</td>\n",
       "    </tr>\n",
       "    <tr>\n",
       "      <td>4</td>\n",
       "      <td>/home/atif/machine_learning_stuff/ml_image/tra...</td>\n",
       "      <td>12</td>\n",
       "    </tr>\n",
       "  </tbody>\n",
       "</table>\n",
       "</div>"
      ],
      "text/plain": [
       "                                            filename  classID\n",
       "0  /home/atif/machine_learning_stuff/ml_image/tra...       12\n",
       "1  /home/atif/machine_learning_stuff/ml_image/tra...       12\n",
       "2  /home/atif/machine_learning_stuff/ml_image/tra...       12\n",
       "3  /home/atif/machine_learning_stuff/ml_image/tra...       12\n",
       "4  /home/atif/machine_learning_stuff/ml_image/tra...       12"
      ]
     },
     "execution_count": 4,
     "metadata": {},
     "output_type": "execute_result"
    }
   ],
   "source": [
    "tra_1 = pd.read_csv('/home/atif/machine_learning_stuff/ml_image/train_image.csv',sep=';')\n",
    "tra_1.head()"
   ]
  },
  {
   "cell_type": "code",
   "execution_count": 5,
   "metadata": {},
   "outputs": [],
   "source": [
    "tra_shuffle = tra_1.sample(frac=1)"
   ]
  },
  {
   "cell_type": "code",
   "execution_count": 6,
   "metadata": {},
   "outputs": [
    {
     "name": "stdout",
     "output_type": "stream",
     "text": [
      "<class 'pandas.core.frame.DataFrame'>\n",
      "<class 'pandas.core.frame.DataFrame'>\n",
      "570\n",
      "570\n"
     ]
    }
   ],
   "source": [
    "# tra_shuffle.head()\n",
    "print(type(tra_1))\n",
    "print(type(tra_shuffle))\n",
    "print(len(tra_1))\n",
    "print(len(tra_shuffle))"
   ]
  },
  {
   "cell_type": "markdown",
   "metadata": {},
   "source": [
    "# information fetching from csv file to get image location and class ID"
   ]
  },
  {
   "cell_type": "code",
   "execution_count": 8,
   "metadata": {
    "scrolled": false
   },
   "outputs": [],
   "source": [
    "import pandas as pd\n",
    "imgs = []\n",
    "labels = []\n",
    "\n",
    "train_image_csv_path = pd.read_csv('/home/atif/machine_learning_stuff/ml_image/train_image_reduced.csv',sep=';')\n",
    "train_image_csv_path_shuffle = train_image_csv_path.sample(frac=1)\n",
    "# test_image_path =  '/home/atif/machine_learning_stuff/ml_image/test_image_crop/'\n",
    "\n",
    "# X_test = []\n",
    "# y_test = []\n",
    "i = 0\n",
    "for file_name, class_id  in zip(list(train_image_csv_path_shuffle['filename']), list(train_image_csv_path_shuffle['classID'])):\n",
    "#     print('filename: ',file_name,'\\t classId: ',class_id)\n",
    "    #print('classId: ',class_id)\n",
    "#     img_path = os.path.join('/home/atif/machine_learning_stuff/ml_image/test_image_26_aug/',file_name)\n",
    "    img_path = os.path.join(file_name)\n",
    "#     print(img_path)\n",
    "#     img_path = glob.glob(os.path.join(test_image_path, '*/*.jpg'))\n",
    "    img = preprocess_img(io.imread(img_path))\n",
    "    imgs.append(img)\n",
    "    class_id_int = int(class_id)\n",
    "    labels.append(class_id_int)\n",
    "    \n",
    "# X_test = np.array(X_test)\n",
    "# y_test = np.array(y_test)"
   ]
  },
  {
   "cell_type": "code",
   "execution_count": 9,
   "metadata": {},
   "outputs": [
    {
     "name": "stdout",
     "output_type": "stream",
     "text": [
      "570\n"
     ]
    }
   ],
   "source": [
    "print(len(imgs))"
   ]
  },
  {
   "cell_type": "code",
   "execution_count": 10,
   "metadata": {},
   "outputs": [
    {
     "name": "stdout",
     "output_type": "stream",
     "text": [
      "X shape:  (570, 3, 48, 48)  type:  <class 'numpy.ndarray'>\n",
      "Y shape:  (570, 19)  type:  <class 'numpy.ndarray'>\n"
     ]
    }
   ],
   "source": [
    "X = np.array(imgs, dtype='float32') #Keeping the image as an array\n",
    "X = X.reshape(len(imgs),IMG_depth,IMG_SIZE,IMG_SIZE) # write (IMG_SIZE,IMG_SIZE,1 if you want channel last; 1= grayscale;3=RGB)\n",
    "# Y = np.eye(NUM_CLASSES, dtype='uint8')[labels]\n",
    "Y = keras.utils.to_categorical(labels, NUM_CLASSES)\n",
    "\n",
    "print('X shape: ', X.shape,' type: ',type(X))\n",
    "print('Y shape: ', Y.shape,' type: ',type(Y))"
   ]
  },
  {
   "cell_type": "code",
   "execution_count": 11,
   "metadata": {},
   "outputs": [
    {
     "name": "stdout",
     "output_type": "stream",
     "text": [
      "WARNING:tensorflow:From /home/atif/tf_gpu/lib/python3.6/site-packages/keras/backend/tensorflow_backend.py:1264: calling reduce_prod (from tensorflow.python.ops.math_ops) with keep_dims is deprecated and will be removed in a future version.\n",
      "Instructions for updating:\n",
      "keep_dims is deprecated, use keepdims instead\n",
      "WARNING:tensorflow:From /home/atif/tf_gpu/lib/python3.6/site-packages/keras/backend/tensorflow_backend.py:2885: calling reduce_sum (from tensorflow.python.ops.math_ops) with keep_dims is deprecated and will be removed in a future version.\n",
      "Instructions for updating:\n",
      "keep_dims is deprecated, use keepdims instead\n",
      "WARNING:tensorflow:From /home/atif/tf_gpu/lib/python3.6/site-packages/keras/backend/tensorflow_backend.py:1349: calling reduce_mean (from tensorflow.python.ops.math_ops) with keep_dims is deprecated and will be removed in a future version.\n",
      "Instructions for updating:\n",
      "keep_dims is deprecated, use keepdims instead\n"
     ]
    }
   ],
   "source": [
    "def cnn_model():\n",
    "    model = Sequential()\n",
    "\n",
    "    model.add(Conv2D(32, (3, 3), padding='same',\n",
    "                     input_shape=(3, IMG_SIZE, IMG_SIZE),\n",
    "                     activation='relu'))\n",
    "    model.add(Conv2D(64, (3, 3), activation='relu'))\n",
    "    model.add(MaxPooling2D(pool_size=(2, 2)))\n",
    "    model.add(Dropout(0.2))\n",
    "    \n",
    "    model.add(Conv2D(128, (3, 3), padding='same',\n",
    "                     input_shape=(3, IMG_SIZE, IMG_SIZE),\n",
    "                     activation='relu'))\n",
    "    model.add(Conv2D(256, (3, 3), activation='relu'))\n",
    "    model.add(MaxPooling2D(pool_size=(2, 2)))\n",
    "    model.add(Dropout(0.2))\n",
    "\n",
    "    model.add(Conv2D(256, (3, 3), padding='same',\n",
    "                     activation='relu'))\n",
    "    model.add(Conv2D(256, (3, 3), activation='relu'))\n",
    "    model.add(MaxPooling2D(pool_size=(2, 2)))\n",
    "    model.add(Dropout(0.2))\n",
    "\n",
    "    model.add(Conv2D(512, (3, 3), padding='same',\n",
    "                     activation='relu'))\n",
    "    model.add(Conv2D(512, (3, 3), activation='relu'))\n",
    "    model.add(MaxPooling2D(pool_size=(2, 2)))\n",
    "    model.add(Dropout(0.2))\n",
    "\n",
    "    model.add(Flatten())\n",
    "    model.add(Dense(4096, activation='relu'))\n",
    "#     model.add(Dense(2048, activation='relu'))\n",
    "#     model.add(Dense(1024, activation='relu'))\n",
    "    model.add(Dropout(0.5))\n",
    "    model.add(Dense(NUM_CLASSES, activation='softmax'))\n",
    "    return model\n",
    "\n",
    "model = cnn_model()\n",
    "\n",
    "lr = 0.01\n",
    "sgd = SGD(lr=lr, decay=1e-6, momentum=0.9, nesterov=True)\n",
    "model.compile(loss='categorical_crossentropy',\n",
    "          optimizer=sgd,\n",
    "          metrics=['accuracy'])"
   ]
  },
  {
   "cell_type": "code",
   "execution_count": 12,
   "metadata": {},
   "outputs": [
    {
     "name": "stdout",
     "output_type": "stream",
     "text": [
      "_________________________________________________________________\n",
      "Layer (type)                 Output Shape              Param #   \n",
      "=================================================================\n",
      "conv2d_1 (Conv2D)            (None, 32, 48, 48)        896       \n",
      "_________________________________________________________________\n",
      "conv2d_2 (Conv2D)            (None, 64, 46, 46)        18496     \n",
      "_________________________________________________________________\n",
      "max_pooling2d_1 (MaxPooling2 (None, 64, 23, 23)        0         \n",
      "_________________________________________________________________\n",
      "dropout_1 (Dropout)          (None, 64, 23, 23)        0         \n",
      "_________________________________________________________________\n",
      "conv2d_3 (Conv2D)            (None, 128, 23, 23)       73856     \n",
      "_________________________________________________________________\n",
      "conv2d_4 (Conv2D)            (None, 256, 21, 21)       295168    \n",
      "_________________________________________________________________\n",
      "max_pooling2d_2 (MaxPooling2 (None, 256, 10, 10)       0         \n",
      "_________________________________________________________________\n",
      "dropout_2 (Dropout)          (None, 256, 10, 10)       0         \n",
      "_________________________________________________________________\n",
      "conv2d_5 (Conv2D)            (None, 256, 10, 10)       590080    \n",
      "_________________________________________________________________\n",
      "conv2d_6 (Conv2D)            (None, 256, 8, 8)         590080    \n",
      "_________________________________________________________________\n",
      "max_pooling2d_3 (MaxPooling2 (None, 256, 4, 4)         0         \n",
      "_________________________________________________________________\n",
      "dropout_3 (Dropout)          (None, 256, 4, 4)         0         \n",
      "_________________________________________________________________\n",
      "conv2d_7 (Conv2D)            (None, 512, 4, 4)         1180160   \n",
      "_________________________________________________________________\n",
      "conv2d_8 (Conv2D)            (None, 512, 2, 2)         2359808   \n",
      "_________________________________________________________________\n",
      "max_pooling2d_4 (MaxPooling2 (None, 512, 1, 1)         0         \n",
      "_________________________________________________________________\n",
      "dropout_4 (Dropout)          (None, 512, 1, 1)         0         \n",
      "_________________________________________________________________\n",
      "flatten_1 (Flatten)          (None, 512)               0         \n",
      "_________________________________________________________________\n",
      "dense_1 (Dense)              (None, 4096)              2101248   \n",
      "_________________________________________________________________\n",
      "dropout_5 (Dropout)          (None, 4096)              0         \n",
      "_________________________________________________________________\n",
      "dense_2 (Dense)              (None, 19)                77843     \n",
      "=================================================================\n",
      "Total params: 7,287,635\n",
      "Trainable params: 7,287,635\n",
      "Non-trainable params: 0\n",
      "_________________________________________________________________\n"
     ]
    }
   ],
   "source": [
    "model.summary()"
   ]
  },
  {
   "cell_type": "code",
   "execution_count": 13,
   "metadata": {},
   "outputs": [],
   "source": [
    "path = '/home/atif/machine_learning_stuff/model_file_keras/'"
   ]
  },
  {
   "cell_type": "code",
   "execution_count": 14,
   "metadata": {},
   "outputs": [
    {
     "name": "stdout",
     "output_type": "stream",
     "text": [
      "current time: 2019-10-31 10:38:02\n"
     ]
    }
   ],
   "source": [
    "import datetime\n",
    "current_time = datetime.datetime.now().strftime(\"%Y-%m-%d %H:%M:%S\")\n",
    "print(\"current time:\", current_time)"
   ]
  },
  {
   "cell_type": "code",
   "execution_count": 15,
   "metadata": {
    "scrolled": true
   },
   "outputs": [
    {
     "name": "stdout",
     "output_type": "stream",
     "text": [
      "WARNING:tensorflow:Variable *= will be deprecated. Use variable.assign_mul if you want assignment to the variable value or 'x = x * y' if you want a new python Tensor object.\n",
      "Train on 456 samples, validate on 114 samples\n",
      "Epoch 1/50\n",
      " - 2s - loss: 2.9442 - acc: 0.0504 - val_loss: 2.9440 - val_acc: 0.0614\n",
      "Epoch 2/50\n",
      " - 1s - loss: 2.9422 - acc: 0.0526 - val_loss: 2.9433 - val_acc: 0.0877\n",
      "Epoch 3/50\n",
      " - 1s - loss: 2.9353 - acc: 0.0636 - val_loss: 2.9377 - val_acc: 0.0351\n",
      "Epoch 4/50\n",
      " - 1s - loss: 2.9203 - acc: 0.0702 - val_loss: 2.9088 - val_acc: 0.0351\n",
      "Epoch 5/50\n",
      " - 1s - loss: 2.8853 - acc: 0.0724 - val_loss: 2.8456 - val_acc: 0.1667\n",
      "Epoch 6/50\n",
      " - 1s - loss: 2.7687 - acc: 0.0943 - val_loss: 2.5681 - val_acc: 0.1404\n",
      "Epoch 7/50\n",
      " - 1s - loss: 2.3236 - acc: 0.2083 - val_loss: 2.4232 - val_acc: 0.2719\n",
      "Epoch 8/50\n",
      " - 1s - loss: 1.9728 - acc: 0.4386 - val_loss: 1.3007 - val_acc: 0.4912\n",
      "Epoch 9/50\n",
      " - 1s - loss: 1.3265 - acc: 0.6294 - val_loss: 0.8868 - val_acc: 0.7456\n",
      "Epoch 10/50\n",
      " - 1s - loss: 0.4994 - acc: 0.8443 - val_loss: 0.0943 - val_acc: 0.9825\n",
      "Epoch 11/50\n",
      " - 1s - loss: 0.2361 - acc: 0.9211 - val_loss: 0.0249 - val_acc: 1.0000\n",
      "Epoch 12/50\n",
      " - 1s - loss: 0.0843 - acc: 0.9693 - val_loss: 0.0050 - val_acc: 1.0000\n",
      "Epoch 13/50\n",
      " - 1s - loss: 0.0371 - acc: 0.9912 - val_loss: 0.0021 - val_acc: 1.0000\n",
      "Epoch 14/50\n",
      " - 1s - loss: 0.0153 - acc: 0.9978 - val_loss: 0.0011 - val_acc: 1.0000\n",
      "Epoch 15/50\n",
      " - 1s - loss: 0.0313 - acc: 0.9956 - val_loss: 7.4346e-04 - val_acc: 1.0000\n",
      "Epoch 16/50\n",
      " - 1s - loss: 0.0179 - acc: 0.9956 - val_loss: 6.4548e-04 - val_acc: 1.0000\n",
      "Epoch 17/50\n",
      " - 0s - loss: 0.0183 - acc: 0.9934 - val_loss: 7.5984e-04 - val_acc: 1.0000\n",
      "Epoch 18/50\n",
      " - 0s - loss: 0.0266 - acc: 0.9912 - val_loss: 6.8613e-04 - val_acc: 1.0000\n",
      "Epoch 19/50\n",
      " - 0s - loss: 0.0280 - acc: 0.9890 - val_loss: 8.5812e-04 - val_acc: 1.0000\n",
      "Epoch 20/50\n",
      " - 1s - loss: 0.0173 - acc: 0.9978 - val_loss: 5.4504e-04 - val_acc: 1.0000\n",
      "Epoch 21/50\n",
      " - 1s - loss: 0.0150 - acc: 0.9956 - val_loss: 5.1517e-04 - val_acc: 1.0000\n",
      "Epoch 22/50\n",
      " - 1s - loss: 0.0080 - acc: 1.0000 - val_loss: 4.8963e-04 - val_acc: 1.0000\n",
      "Epoch 23/50\n",
      " - 1s - loss: 0.0102 - acc: 0.9978 - val_loss: 4.6771e-04 - val_acc: 1.0000\n",
      "Epoch 24/50\n",
      " - 1s - loss: 0.0065 - acc: 1.0000 - val_loss: 4.4487e-04 - val_acc: 1.0000\n",
      "Epoch 25/50\n",
      " - 1s - loss: 0.0070 - acc: 0.9978 - val_loss: 4.2380e-04 - val_acc: 1.0000\n",
      "Epoch 26/50\n",
      " - 1s - loss: 0.0087 - acc: 0.9956 - val_loss: 4.1597e-04 - val_acc: 1.0000\n",
      "Epoch 27/50\n",
      " - 0s - loss: 0.0180 - acc: 0.9956 - val_loss: 4.2274e-04 - val_acc: 1.0000\n",
      "Epoch 28/50\n",
      " - 0s - loss: 0.0068 - acc: 0.9978 - val_loss: 4.1818e-04 - val_acc: 1.0000\n",
      "Epoch 29/50\n",
      " - 1s - loss: 0.0112 - acc: 0.9934 - val_loss: 4.1092e-04 - val_acc: 1.0000\n",
      "Epoch 30/50\n",
      " - 1s - loss: 0.0119 - acc: 0.9978 - val_loss: 4.1038e-04 - val_acc: 1.0000\n",
      "Epoch 31/50\n",
      " - 1s - loss: 0.0106 - acc: 0.9978 - val_loss: 4.0864e-04 - val_acc: 1.0000\n",
      "Epoch 32/50\n",
      " - 1s - loss: 0.0039 - acc: 1.0000 - val_loss: 4.0732e-04 - val_acc: 1.0000\n",
      "Epoch 33/50\n",
      " - 1s - loss: 0.0048 - acc: 1.0000 - val_loss: 4.0592e-04 - val_acc: 1.0000\n",
      "Epoch 34/50\n",
      " - 1s - loss: 0.0110 - acc: 0.9978 - val_loss: 4.0552e-04 - val_acc: 1.0000\n",
      "Epoch 35/50\n",
      " - 1s - loss: 0.0101 - acc: 0.9956 - val_loss: 4.0518e-04 - val_acc: 1.0000\n",
      "Epoch 36/50\n",
      " - 1s - loss: 0.0075 - acc: 0.9978 - val_loss: 4.0483e-04 - val_acc: 1.0000\n",
      "Epoch 37/50\n",
      " - 1s - loss: 0.0073 - acc: 0.9956 - val_loss: 4.0251e-04 - val_acc: 1.0000\n",
      "Epoch 38/50\n",
      " - 1s - loss: 0.0030 - acc: 1.0000 - val_loss: 4.0102e-04 - val_acc: 1.0000\n",
      "Epoch 39/50\n",
      " - 1s - loss: 0.0066 - acc: 0.9978 - val_loss: 3.9969e-04 - val_acc: 1.0000\n",
      "Epoch 40/50\n",
      " - 1s - loss: 0.0069 - acc: 1.0000 - val_loss: 3.9894e-04 - val_acc: 1.0000\n",
      "Epoch 41/50\n",
      " - 1s - loss: 0.0067 - acc: 0.9978 - val_loss: 3.9846e-04 - val_acc: 1.0000\n",
      "Epoch 42/50\n",
      " - 1s - loss: 0.0037 - acc: 1.0000 - val_loss: 3.9824e-04 - val_acc: 1.0000\n",
      "Epoch 43/50\n",
      " - 1s - loss: 0.0034 - acc: 1.0000 - val_loss: 3.9809e-04 - val_acc: 1.0000\n",
      "Epoch 44/50\n",
      " - 1s - loss: 0.0040 - acc: 1.0000 - val_loss: 3.9794e-04 - val_acc: 1.0000\n",
      "Epoch 45/50\n",
      " - 1s - loss: 0.0087 - acc: 0.9978 - val_loss: 3.9776e-04 - val_acc: 1.0000\n",
      "Epoch 46/50\n",
      " - 1s - loss: 0.0112 - acc: 0.9978 - val_loss: 3.9761e-04 - val_acc: 1.0000\n",
      "Epoch 47/50\n",
      " - 1s - loss: 0.0101 - acc: 0.9978 - val_loss: 3.9750e-04 - val_acc: 1.0000\n",
      "Epoch 48/50\n",
      " - 1s - loss: 0.0036 - acc: 1.0000 - val_loss: 3.9742e-04 - val_acc: 1.0000\n",
      "Epoch 49/50\n",
      " - 1s - loss: 0.0053 - acc: 1.0000 - val_loss: 3.9726e-04 - val_acc: 1.0000\n",
      "Epoch 50/50\n",
      " - 1s - loss: 0.0056 - acc: 1.0000 - val_loss: 3.9713e-04 - val_acc: 1.0000\n"
     ]
    }
   ],
   "source": [
    "def lr_schedule(epoch):\n",
    "    return lr * (0.1 ** int(epoch / 10))\n",
    "\n",
    "batch_size = 32\n",
    "epochs = 50\n",
    "do_train_model=model.fit(X, Y,\n",
    "          batch_size=batch_size,\n",
    "          epochs=epochs,\n",
    "          validation_split=0.2,verbose=2, #shuffle=True,\n",
    "          #np.resize(img, (-1, <image shape>)\n",
    "          callbacks=[LearningRateScheduler(lr_schedule),ModelCheckpoint(path+str(current_time)+'_new_image_reduced_CSV_PROCESS_model_epoch_'+str(epochs)+'.h5', save_best_only=True)])"
   ]
  },
  {
   "cell_type": "code",
   "execution_count": 17,
   "metadata": {},
   "outputs": [
    {
     "name": "stdout",
     "output_type": "stream",
     "text": [
      "dict_keys(['val_loss', 'val_acc', 'loss', 'acc'])\n",
      "dict_keys(['val_loss', 'val_acc', 'loss', 'acc'])\n"
     ]
    },
    {
     "data": {
      "image/png": "[encoded data removed]",
      "text/plain": [
       "<Figure size 864x360 with 1 Axes>"
      ]
     },
     "metadata": {
      "needs_background": "light"
     },
     "output_type": "display_data"
    },
    {
     "data": {
      "image/png": "[encoded data removed]",
      "text/plain": [
       "<Figure size 864x360 with 1 Axes>"
      ]
     },
     "metadata": {
      "needs_background": "light"
     },
     "output_type": "display_data"
    }
   ],
   "source": [
    "print(do_train_model.history.keys())\n",
    "# summarize history for accuracy\n",
    "plt.plot(do_train_model.history['acc'], '-o', color = 'red')\n",
    "plt.plot(do_train_model.history['val_acc'],'-^', color = 'green')\n",
    "plt.title('model accuracy')\n",
    "plt.ylabel('accuracy')\n",
    "plt.xlabel('epoch')\n",
    "plt.legend(['train_accuracy', 'validation_accuracy'], loc='best')\n",
    "plt.savefig(path+str(current_time)+'_CSV_process_epoch_vs_accuracy.jpg')\n",
    "# plt.show()\n",
    "\n",
    "plt.figure()\n",
    "\n",
    "\n",
    "print(do_train_model.history.keys())\n",
    "# summarize history for accuracy\n",
    "plt.plot(do_train_model.history['loss'],'-o', color = 'red')\n",
    "plt.plot(do_train_model.history['val_loss'],'-^', color = 'green')\n",
    "plt.title('model loss')\n",
    "plt.ylabel('loss')\n",
    "plt.xlabel('epoch')\n",
    "plt.legend(['train_loss', 'validation_loss'], loc='best')\n",
    "plt.savefig(path+str(current_time)+'_CSV_process_epoch_vs_loss.jpg')\n",
    "plt.rcParams['figure.figsize'] =(12,5)\n",
    "plt.show()"
   ]
  },
  {
   "cell_type": "code",
   "execution_count": 36,
   "metadata": {},
   "outputs": [],
   "source": [
    "from keras.models import load_model\n",
    "model = load_model(path+'2019-10-29 21:16:45_new_model_csv_train_epoch_50.h5')"
   ]
  },
  {
   "cell_type": "code",
   "execution_count": 37,
   "metadata": {
    "scrolled": true
   },
   "outputs": [
    {
     "name": "stdout",
     "output_type": "stream",
     "text": [
      "filename:  calgonit_finish_speizalsalz (3).jpg \t classId:  3\n",
      "filename:  calgonit_finish_speizalsalz (1).jpg \t classId:  3\n",
      "filename:  calgonit_finish_speizalsalz (2).jpg \t classId:  3\n",
      "filename:  calgonit_finish_speizalsalz (4).jpg \t classId:  3\n",
      "filename:  denkmit_edelstahk_reiniger (3).jpg \t classId:  5\n",
      "filename:  denkmit_edelstahk_reiniger (1).jpg \t classId:  5\n",
      "filename:  denkmit_edelstahk_reiniger (6).jpg \t classId:  5\n",
      "filename:  denkmit_edelstahk_reiniger (7).jpg \t classId:  5\n",
      "filename:  34_SM_DenkMitEdelstahlReinigerSpray_20_33_90_60_lit_cropped.jpg \t classId:  6\n",
      "filename:  denkmit_edelsthal_reiniger_spray.jpg \t classId:  6\n",
      "filename:  real_DenkMitEdelstahlReinigerSpray_right1.jpg \t classId:  6\n",
      "filename:  real_DenkMitEdelstahlReinigerSpray_right4.jpg \t classId:  6\n",
      "filename:  somat_3.jpg \t classId:  17\n",
      "filename:  somat_6.jpg \t classId:  17\n",
      "filename:  somat_7.jpg \t classId:  17\n",
      "filename:  somat_8.jpg \t classId:  17\n",
      "filename:  denkmit_Entkalker (4).jpg \t classId:  7\n",
      "filename:  denkmit_Entkalker (2).jpg \t classId:  7\n",
      "filename:  denkmit_Entkalker (5).jpg \t classId:  7\n",
      "filename:  denkmit_Entkalker (6).jpg \t classId:  7\n",
      "filename:  denkmit_hygiene_Allzweck_reiniger (3).jpg \t classId:  12\n",
      "filename:  denkmit_hygiene_Allzweck_reiniger (1).jpg \t classId:  12\n",
      "filename:  real_DenkMitHygieneAllzweckReiniger_left1.jpg \t classId:  12\n",
      "filename:  real_DenkMitHygieneAllzweckReiniger_right4.jpg \t classId:  12\n",
      "filename:  real_DenkMitMaschinenPfleger_front2.jpg \t classId:  13\n",
      "filename:  real_DenkMitMaschinenPfleger_left4.jpg \t classId:  13\n",
      "filename:  real_DenkMitMaschinenPfleger_front1.jpg \t classId:  13\n",
      "filename:  real_DenkMitMaschinenPfleger_left1.jpg \t classId:  13\n",
      "filename:  calgonit_finish_klarspueler (1).jpg \t classId:  1\n",
      "filename:  calgonit_finish_klarspueler (2).jpg \t classId:  1\n",
      "filename:  real_calgonitFinishKlarspueler_front3.jpg \t classId:  1\n",
      "filename:  real_calgonitFinishKlarspueler_right1.jpg \t classId:  1\n",
      "filename:  calgonit_finish_classic (1).jpg \t classId:  0\n",
      "filename:  calgonit_finish_classic (2).jpg \t classId:  0\n",
      "filename:  calgonit_finish_classic (4).jpg \t classId:  0\n",
      "filename:  calgonit_finish_classic (5).jpg \t classId:  0\n",
      "filename:  denkmit_geschirr_reiniger_NATURE (5).jpg \t classId:  11\n",
      "filename:  denkmit_geschirr_reiniger_NATURE (2).jpg \t classId:  11\n",
      "filename:  denkmit_geschirr_reiniger_NATURE (3).jpg \t classId:  11\n",
      "filename:  denkmit_geschirr_reiniger_NATURE (4).jpg \t classId:  11\n",
      "filename:  denkmit_geschirr_reiniger_multipower (1).jpg \t classId:  8\n",
      "filename:  denkmit_geschirr_reiniger_multipower (3).jpg \t classId:  8\n",
      "filename:  denkmit_geschirr_reiniger_multipower (5).jpg \t classId:  8\n",
      "filename:  denkmit_geschirr_reiniger_multipower (6).jpg \t classId:  8\n",
      "filename:  denkmit_spezalsalz (1).jpg \t classId:  14\n",
      "filename:  denkmit_spezalsalz (5).jpg \t classId:  14\n",
      "filename:  denkmit_spezalsalz (8).jpg \t classId:  14\n",
      "filename:  denkmit_spezalsalz (9).jpg \t classId:  14\n",
      "filename:  Denkmit_geschirr_reiniger_classic (1).jpg \t classId:  9\n",
      "filename:  Denkmit_geschirr_reiniger_classic (3).jpg \t classId:  9\n",
      "filename:  Denkmit_geschirr_reiniger_classic (5).jpg \t classId:  9\n",
      "filename:  Denkmit_geschirr_reiniger_classic (6).jpg \t classId:  9\n",
      "filename:  calgonit_finish_vorratspack.jpg \t classId:  4\n",
      "filename:  2_SM_CalgonitFinishVorratspack_14_1_90_60_lit_cropped.jpg \t classId:  4\n",
      "filename:  32_SM_CalgonitFinishVorratspack_14_31_90_60_lit_cropped.png \t classId:  4\n",
      "filename:  349_SM_CalgonitFinishVorratspack_14_348_90_60_lit_cropped.png \t classId:  4\n",
      "filename:  calgonit_maschine_pfleger (1).jpg \t classId:  2\n",
      "filename:  real_calgonitFinishMaschinenPfleger_front2.jpg \t classId:  2\n",
      "filename:  calgonit_maschine_pfleger (3).jpg \t classId:  2\n",
      "filename:  calgonit_maschine_pfleger (4).jpg \t classId:  2\n",
      "filename:  denkmit_geschirrreiniger_REVOLUTION (1).jpg \t classId:  10\n",
      "filename:  denkmit_geschirrreiniger_REVOLUTION (4).jpg \t classId:  10\n",
      "filename:  denkmit_geschirrreiniger_REVOLUTION (5).jpg \t classId:  10\n",
      "filename:  denkmit_geschirrreiniger_REVOLUTION (6).jpg \t classId:  10\n",
      "filename:  DomestokosUniversalReiniger.jpg \t classId:  15\n",
      "filename:  DomestokosUniversalReiniger_1.jpg \t classId:  15\n",
      "filename:  DomestokosUniversalReiniger_2.jpg \t classId:  15\n",
      "filename:  DomestokosUniversalReiniger_3.jpg \t classId:  15\n",
      "filename:  hitman_reine_sitrone_sauer.jpg \t classId:  16\n",
      "filename:  hitman_reine_sitrone_sauer_1.jpg \t classId:  16\n",
      "filename:  hitman_reine_sitrone_sauer_2.jpg \t classId:  16\n",
      "filename:  hitman_reine_sitrone_sauer_3.jpg \t classId:  16\n",
      "filename:  94_SM_SomatExtraAllIn1_56_93_90_60_lit_cropped.png \t classId:  18\n",
      "filename:  418_SM_SomatExtraAllIn1_56_57_80_60_lit_cropped.png \t classId:  18\n",
      "filename:  58_SM_SomatExtraAllIn1_56_57_90_60_lit_cropped.png \t classId:  18\n",
      "filename:  385_SM_SomatExtraAllIn1_56_24_80_60_lit_cropped.png \t classId:  18\n"
     ]
    }
   ],
   "source": [
    "import pandas as pd\n",
    "# test_file_same_number\n",
    "# test = pd.read_csv('/home/atif/machine_learning_stuff/ml_image/test_file_16_class.csv', sep=';')\n",
    "test = pd.read_csv('/home/atif/machine_learning_stuff/ml_image/test_file_same_number.csv', sep=';')\n",
    "# test_image_path =  '/home/atif/machine_learning_stuff/ml_image/test_image_crop/'\n",
    "\n",
    "X_test = []\n",
    "y_test = []\n",
    "i = 0\n",
    "for file_name, class_id in zip(list(test['Filename']), list(test['ClassId'])):\n",
    "    print('filename: ', file_name, '\\t classId: ', class_id)\n",
    "    # print('classId: ',class_id)\n",
    "    img_path = os.path.join('/home/atif/machine_learning_stuff/ml_image/test_image_26_aug/', file_name)\n",
    "    #     img_path = glob.glob(os.path.join(test_image_path, '*/*.jpg'))\n",
    "    X_test.append(preprocess_img(io.imread(img_path)))\n",
    "    y_test.append(class_id)\n"
   ]
  },
  {
   "cell_type": "code",
   "execution_count": 40,
   "metadata": {},
   "outputs": [
    {
     "name": "stdout",
     "output_type": "stream",
     "text": [
      "(76, 3, 48, 48) (76,)\n"
     ]
    }
   ],
   "source": [
    "X_test = np.array(X_test)\n",
    "y_test = np.array(y_test)\n",
    "print(X_test.shape,y_test.shape)"
   ]
  },
  {
   "cell_type": "code",
   "execution_count": 41,
   "metadata": {},
   "outputs": [
    {
     "name": "stdout",
     "output_type": "stream",
     "text": [
      "Test accuracy = 0.6052631578947368\n"
     ]
    }
   ],
   "source": [
    "y_pred = model.predict_classes(X_test)\n",
    "acc = np.sum(y_pred==y_test)/np.size(y_pred)\n",
    "print(\"Test accuracy = {}\".format(acc))"
   ]
  },
  {
   "cell_type": "code",
   "execution_count": 42,
   "metadata": {},
   "outputs": [
    {
     "name": "stdout",
     "output_type": "stream",
     "text": [
      "[[4 0 0 0 0 0 0 0 0 0 0 0 0 0 0 0 0 0 0]\n",
      " [0 3 0 0 1 0 0 0 0 0 0 0 0 0 0 0 0 0 0]\n",
      " [0 1 0 0 3 0 0 0 0 0 0 0 0 0 0 0 0 0 0]\n",
      " [0 0 0 4 0 0 0 0 0 0 0 0 0 0 0 0 0 0 0]\n",
      " [1 0 0 0 3 0 0 0 0 0 0 0 0 0 0 0 0 0 0]\n",
      " [0 0 0 0 0 0 4 0 0 0 0 0 0 0 0 0 0 0 0]\n",
      " [0 0 0 0 0 1 0 0 0 0 0 3 0 0 0 0 0 0 0]\n",
      " [0 0 0 0 0 0 0 4 0 0 0 0 0 0 0 0 0 0 0]\n",
      " [0 0 0 0 0 0 0 0 4 0 0 0 0 0 0 0 0 0 0]\n",
      " [0 0 0 0 0 0 0 0 0 0 0 4 0 0 0 0 0 0 0]\n",
      " [0 0 0 0 0 0 0 0 0 0 2 2 0 0 0 0 0 0 0]\n",
      " [0 0 0 0 0 0 0 0 0 0 0 4 0 0 0 0 0 0 0]\n",
      " [0 0 0 2 1 0 1 0 0 0 0 0 0 0 0 0 0 0 0]\n",
      " [0 0 0 0 0 0 0 0 0 0 1 1 0 0 1 0 1 0 0]\n",
      " [0 0 0 0 0 0 0 0 0 0 0 0 0 0 4 0 0 0 0]\n",
      " [0 0 0 0 0 0 2 0 0 0 0 0 0 0 0 2 0 0 0]\n",
      " [0 0 0 0 0 0 0 0 0 0 0 0 0 0 0 0 4 0 0]\n",
      " [0 0 0 0 0 0 0 0 0 0 0 0 0 0 0 0 0 4 0]\n",
      " [0 0 0 0 0 0 0 0 0 0 0 0 0 0 0 0 0 0 4]]\n",
      "<class 'numpy.ndarray'>\n",
      "(19, 19)\n"
     ]
    }
   ],
   "source": [
    "from sklearn.metrics import confusion_matrix\n",
    "results = confusion_matrix(y_test, y_pred)\n",
    "print(results)\n",
    "print(type(results))\n",
    "print(results.shape)"
   ]
  },
  {
   "cell_type": "code",
   "execution_count": 43,
   "metadata": {},
   "outputs": [
    {
     "data": {
      "image/png": "[encoded data removed]",
      "text/plain": [
       "<Figure size 720x504 with 2 Axes>"
      ]
     },
     "metadata": {
      "needs_background": "light"
     },
     "output_type": "display_data"
    }
   ],
   "source": [
    "import seaborn as sn\n",
    "import pandas as pd\n",
    "import matplotlib.pyplot as plt\n",
    "\n",
    "df_cm = pd.DataFrame(results, range(19),\n",
    "                  range(19))\n",
    "plt.figure(figsize = (10,7))\n",
    "plt.tight_layout()\n",
    "sn.set(font_scale=1.4)#for label size\n",
    "\n",
    "ax = sn.heatmap(df_cm, annot=True,annot_kws={\"size\": 14},xticklabels=True, yticklabels=True)# font size\n",
    "ax.set(xlabel='predicted_class', ylabel='true_class')\n",
    "ax.set_ylim(19)\n",
    "figure = ax.get_figure()    \n",
    "# figure.savefig('22_OCT_sequential_model_85_percent_acc_VGG_16_channel_last.png', dpi=400)"
   ]
  },
  {
   "cell_type": "code",
   "execution_count": null,
   "metadata": {},
   "outputs": [],
   "source": []
  }
 ],
 "metadata": {
  "kernelspec": {
   "display_name": "Python 3",
   "language": "python",
   "name": "python3"
  },
  "language_info": {
   "codemirror_mode": {
    "name": "ipython",
    "version": 3
   },
   "file_extension": ".py",
   "mimetype": "text/x-python",
   "name": "python",
   "nbconvert_exporter": "python",
   "pygments_lexer": "ipython3",
   "version": "3.6.8"
  }
 },
 "nbformat": 4,
 "nbformat_minor": 2
}
