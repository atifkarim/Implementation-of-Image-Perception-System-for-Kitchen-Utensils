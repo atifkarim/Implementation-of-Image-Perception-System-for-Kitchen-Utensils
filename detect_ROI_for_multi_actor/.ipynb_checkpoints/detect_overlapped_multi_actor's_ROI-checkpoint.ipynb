{
 "cells": [
  {
   "cell_type": "code",
   "execution_count": 1,
   "metadata": {},
   "outputs": [
    {
     "name": "stderr",
     "output_type": "stream",
     "text": [
      "INFO:__init__:211:Got connection confirm: b'connected to test_game_4_19'\n"
     ]
    },
    {
     "name": "stdout",
     "output_type": "stream",
     "text": [
      "The last update of this file: 2019-06-21 20:40:37\n",
      "status:  Is Listening\n",
      "Client Connected\n",
      "9000\n",
      "Configuration\n",
      "Config file: C:/Program Files/Epic Games/UE_4.19/Engine/Binaries/Win64/unrealcv.ini\n",
      "Port: 9000\n",
      "Width: 640\n",
      "Height: 480\n",
      "FOV: 90.000000\n",
      "EnableInput: true\n",
      "EnableRightEye: false\n",
      "\n"
     ]
    }
   ],
   "source": [
    "import time; print(time.strftime(\"The last update of this file: %Y-%m-%d %H:%M:%S\", time.gmtime()))\n",
    "import sys, time\n",
    "# Establish connection with the UE4 game\n",
    "from unrealcv import client\n",
    "client.connect()\n",
    "if not client.isconnected():\n",
    "    print('UnrealCV server is not running. Run the game downloaded from http://unrealcv.github.io first.')\n",
    "    sys.exit(-1)\n",
    "\n",
    "# Checking status of connection between UnrealCV and UE4 game\n",
    "\n",
    "res = client.request('vget /unrealcv/status')\n",
    "# The image resolution and port is configured in the config file.\n",
    "print('status: ',res)"
   ]
  },
  {
   "cell_type": "code",
   "execution_count": 31,
   "metadata": {},
   "outputs": [],
   "source": [
    "import numpy as np\n",
    "import cv2\n",
    "import os\n",
    "import copy"
   ]
  },
  {
   "cell_type": "code",
   "execution_count": 32,
   "metadata": {},
   "outputs": [],
   "source": [
    "set_camera_location = client.request('vset /camera/0/location 221.442 -15.149 71.794')\n",
    "set_camera_rotation = client.request('vset /camera/0/rotation -2.044 -175.653 0.000')"
   ]
  },
  {
   "cell_type": "code",
   "execution_count": 33,
   "metadata": {},
   "outputs": [],
   "source": [
    "actor_array = ['SM_DenkMitEdelstahlReinigerSpray_18','SM_CalgonitFinishKlarspueler_3','SM_CalgonitFinishVorratspack_12']\n",
    "actor_array = np.array(actor_array)"
   ]
  },
  {
   "cell_type": "code",
   "execution_count": 34,
   "metadata": {},
   "outputs": [
    {
     "name": "stdout",
     "output_type": "stream",
     "text": [
      "SM_DenkMitEdelstahlReinigerSpray_18\n",
      "SM_CalgonitFinishKlarspueler_3\n",
      "SM_CalgonitFinishVorratspack_12\n"
     ]
    }
   ],
   "source": [
    "for i in actor_array:\n",
    "    print(i)"
   ]
  },
  {
   "cell_type": "code",
   "execution_count": 35,
   "metadata": {},
   "outputs": [],
   "source": [
    "# # set floor color (front floor)\n",
    "\n",
    "# # set_floor_mask_color= client.request('vset /object/Floor/color 0 255 0')\n",
    "# for j in actor_array:\n",
    "#     set_mask_color= client.request('vset /object/'+str(j)+'/color 255 0 0')\n",
    "# # here it is RGB"
   ]
  },
  {
   "cell_type": "code",
   "execution_count": 36,
   "metadata": {},
   "outputs": [],
   "source": [
    "dirName_1 = 'F:/unreal_cv_documentation/detect_ROI_for_multi_actor/unreal_test/'\n",
    "viewmode_1 = 'lit'\n",
    "viewmode_2 = 'object_mask'\n",
    "viewmode_3 = 'depth'\n",
    "image_type = '.png'\n",
    "depth_type = '.npy'"
   ]
  },
  {
   "cell_type": "code",
   "execution_count": 46,
   "metadata": {},
   "outputs": [],
   "source": [
    "test_rgb = client.request('vget /camera/0/'+str(viewmode_1)+str(\" \")+str(dirName_1)+'test_rgb'+str(image_type))\n",
    "test_mask = client.request('vget /camera/0/'+str(viewmode_2)+str(\" \")+str(dirName_1)+'test_mask'+str(image_type))\n",
    "\n",
    "read_test_rgb = cv2.imread(test_rgb)\n",
    "read_test_mask = cv2.imread(test_mask)\n",
    "\n",
    "rgb_copy_1 = copy.copy(read_test_rgb)\n",
    "rgb_copy_2 = copy.copy(read_test_rgb)\n",
    "mask_copy = copy.copy(read_test_mask)"
   ]
  },
  {
   "cell_type": "code",
   "execution_count": 44,
   "metadata": {},
   "outputs": [
    {
     "name": "stdout",
     "output_type": "stream",
     "text": [
      "length is:  1\n",
      "contour of  0  actor  382 , 257 , 426 , 337\n",
      "now roi list:  [[382, 257, 426, 337]]\n",
      "length is:  1\n",
      "contour of  1  actor  503 , 247 , 534 , 334\n",
      "now roi list:  [[382, 257, 426, 337], [503, 247, 534, 334]]\n",
      "length is:  1\n",
      "contour of  2  actor  494 , 251 , 561 , 329\n",
      "now roi list:  [[382, 257, 426, 337], [503, 247, 534, 334], [494, 251, 561, 329]]\n",
      "\n",
      " FInal roi_list:  [[382, 257, 426, 337], [503, 247, 534, 334], [494, 251, 561, 329]]\n"
     ]
    }
   ],
   "source": [
    "roi_list = []\n",
    "for a in actor_array:\n",
    "    hide=client.request('vset /object/'+str(a)+'/hide')\n",
    "\n",
    "for index_1,j in enumerate(actor_array):\n",
    "    show=client.request('vset /object/'+str(j)+'/show')\n",
    "    set_mask_color= client.request('vset /object/'+str(j)+'/color 255 0 0')\n",
    "    res_test_mask = client.request('vget /camera/0/'+str(viewmode_2)+str(\" \")+str(dirName_1)+'mask_3'+str(image_type))\n",
    "    test_mask = cv2.imread(res_test_mask)\n",
    "    \n",
    "    img_hsv = cv2.cvtColor(test_mask, cv2.COLOR_BGR2HSV)\n",
    "    ## Gen lower mask (0-5) and upper mask (175-180) of RED\n",
    "    mask1 = cv2.inRange(img_hsv, (0,50,20), (5,255,255))\n",
    "    mask2 = cv2.inRange(img_hsv, (175,50,20), (180,255,255))\n",
    "    ## Merge the mask and crop the red regions\n",
    "    mask = cv2.bitwise_or(mask1, mask2 )\n",
    "#     croped = cv2.bitwise_and(mask_2, mask_2, mask=mask)\n",
    "    \n",
    "    image, contours, hierarchy =  cv2.findContours(mask,cv2.RETR_TREE,cv2.CHAIN_APPROX_SIMPLE)\n",
    "    \n",
    "    if len(contours)>0:\n",
    "        print('length is: ',len(contours))\n",
    "        cnt = contours[0]\n",
    "        x,y,w,h = cv2.boundingRect(cnt)\n",
    "        print('contour of ',index_1,' actor ',x,',',y,',',x+w,',',y+h)\n",
    "        x=x\n",
    "        y=y\n",
    "        x_1=x+w\n",
    "        y_1=y+h\n",
    "        \n",
    "        roi_point = [x,y,x_1,y_1]\n",
    "        roi_list.append(roi_point)\n",
    "        print('now roi list: ', roi_list)\n",
    "        hide=client.request('vset /object/'+str(j)+'/hide')\n",
    "\n",
    "for b in actor_array:\n",
    "    show=client.request('vset /object/'+str(b)+'/show')\n",
    "\n",
    "print('\\n FInal roi_list: ', roi_list)"
   ]
  },
  {
   "cell_type": "code",
   "execution_count": 48,
   "metadata": {},
   "outputs": [],
   "source": [
    "for i in roi_list:\n",
    "    x_new = i[0]\n",
    "    y_new = i[1]\n",
    "    x_w_new = i[2]\n",
    "    y_h_new = i[3]\n",
    "    \n",
    "    test_roi_rgb_image = cv2.rectangle(rgb_copy_1,(x_new,y_new),(x_w_new,y_h_new),(0,255,0),1)\n",
    "\n",
    "img_hsv_1 = cv2.cvtColor(mask_copy, cv2.COLOR_BGR2HSV)\n",
    "mask1_1 = cv2.inRange(img_hsv_1, (0,50,20), (5,255,255))\n",
    "mask2_1 = cv2.inRange(img_hsv_1, (175,50,20), (180,255,255))\n",
    "## Merge the mask and crop the red regions\n",
    "mask_final = cv2.bitwise_or(mask1_1, mask2_1 )\n",
    "test_black_rgb = cv2.bitwise_and(rgb_copy_2,rgb_copy_2, mask=mask_final)\n",
    "\n",
    "test_black_rgb_copy = copy.copy(test_black_rgb)\n",
    "\n",
    "for k in roi_list:\n",
    "    x_new = k[0]\n",
    "    y_new = k[1]\n",
    "    x_w_new = k[2]\n",
    "    y_h_new = k[3]\n",
    "    \n",
    "    test_roi_black_rgb = cv2.rectangle(test_black_rgb_copy,(x_new,y_new),(x_w_new,y_h_new),(0,255,0),1)\n",
    "    \n",
    "\n",
    "    \n",
    "cv2.imshow('test_roi_rgb_image',test_roi_rgb_image)\n",
    "cv2.imshow('test_black_rgb', test_black_rgb)\n",
    "cv2.imshow('test_roi_black_rgb',test_roi_black_rgb)\n",
    "if cv2.waitKey() == ord('q'): #press q to close the output image window\n",
    "        cv2.destroyAllWindows()"
   ]
  },
  {
   "cell_type": "code",
   "execution_count": 50,
   "metadata": {},
   "outputs": [
    {
     "data": {
      "text/plain": [
       "True"
      ]
     },
     "execution_count": 50,
     "metadata": {},
     "output_type": "execute_result"
    }
   ],
   "source": [
    "cv2.imwrite(str(dirName_1)+'test_roi_rgb'+str(image_type),test_roi_rgb_image)\n",
    "cv2.imwrite(str(dirName_1)+'test_black_rgb'+str(image_type),test_black_rgb)\n",
    "cv2.imwrite(str(dirName_1)+'test_roi_black_rgb'+str(image_type),test_roi_black_rgb)"
   ]
  },
  {
   "cell_type": "code",
   "execution_count": null,
   "metadata": {},
   "outputs": [],
   "source": []
  }
 ],
 "metadata": {
  "kernelspec": {
   "display_name": "Python 3",
   "language": "python",
   "name": "python3"
  },
  "language_info": {
   "codemirror_mode": {
    "name": "ipython",
    "version": 3
   },
   "file_extension": ".py",
   "mimetype": "text/x-python",
   "name": "python",
   "nbconvert_exporter": "python",
   "pygments_lexer": "ipython3",
   "version": "3.6.5"
  }
 },
 "nbformat": 4,
 "nbformat_minor": 2
}
