{
 "cells": [
  {
   "cell_type": "markdown",
   "metadata": {},
   "source": [
    "# establish the connection with UE4"
   ]
  },
  {
   "cell_type": "code",
   "execution_count": 2,
   "metadata": {},
   "outputs": [
    {
     "name": "stderr",
     "output_type": "stream",
     "text": [
      "INFO:__init__:211:Got connection confirm: b'connected to test_game_4_19'\n"
     ]
    },
    {
     "name": "stdout",
     "output_type": "stream",
     "text": [
      "The last update of this file: 2019-06-26 20:37:38\n",
      "status:  Is Listening\n",
      "Client Connected\n",
      "9000\n",
      "Configuration\n",
      "Config file: C:/Program Files/Epic Games/UE_4.19/Engine/Binaries/Win64/unrealcv.ini\n",
      "Port: 9000\n",
      "Width: 640\n",
      "Height: 480\n",
      "FOV: 90.000000\n",
      "EnableInput: true\n",
      "EnableRightEye: false\n",
      "\n"
     ]
    }
   ],
   "source": [
    "import time; print(time.strftime(\"The last update of this file: %Y-%m-%d %H:%M:%S\", time.gmtime()))\n",
    "import sys, time\n",
    "# Establish connection with the UE4 game\n",
    "from unrealcv import client\n",
    "client.connect()\n",
    "if not client.isconnected():\n",
    "    print('UnrealCV server is not running. Run the game downloaded from http://unrealcv.github.io first.')\n",
    "    sys.exit(-1)\n",
    "\n",
    "# Checking status of connection between UnrealCV and UE4 game\n",
    "\n",
    "res = client.request('vget /unrealcv/status')\n",
    "# The image resolution and port is configured in the config file.\n",
    "print('status: ',res)"
   ]
  },
  {
   "cell_type": "markdown",
   "metadata": {},
   "source": [
    "# Before running the next cell please point the camera to the object in such a way it can capture all of the object"
   ]
  },
  {
   "cell_type": "code",
   "execution_count": 3,
   "metadata": {},
   "outputs": [],
   "source": [
    "import numpy as np\n",
    "\n",
    "get_camera_location = client.request('vget /camera/0/location')\n",
    "get_camera_rotation = client.request('vget /camera/0/rotation')\n",
    "\n",
    "get_camera_location = get_camera_location.split(\" \")\n",
    "get_camera_location_array = np.array(get_camera_location)\n",
    "get_camera_location_array = get_camera_location_array.astype(np.float)\n",
    "\n",
    "get_camera_rotation = get_camera_rotation.split(\" \")\n",
    "get_camera_rotation_array = np.array(get_camera_rotation)\n",
    "get_camera_rotation_array = get_camera_rotation_array.astype(np.float)"
   ]
  },
  {
   "cell_type": "code",
   "execution_count": 4,
   "metadata": {},
   "outputs": [
    {
     "name": "stdout",
     "output_type": "stream",
     "text": [
      "[230.447  -8.029  67.179]\n",
      "[  -9.792 -172.488    0.   ]\n"
     ]
    }
   ],
   "source": [
    "print(get_camera_location_array)\n",
    "print(get_camera_rotation_array)"
   ]
  },
  {
   "cell_type": "markdown",
   "metadata": {},
   "source": [
    "# the following cell will set the location and rotaion of the camera got from the previous cell"
   ]
  },
  {
   "cell_type": "code",
   "execution_count": 5,
   "metadata": {},
   "outputs": [],
   "source": [
    "# set_camera_location = client.request('vset /camera/0/location '+str(loc_x)+' '+str(loc_y)+' '+str(loc_z)+'')\n",
    "# set_camera_rotation = client.request('vset /camera/0/rotation '+str(rot_x)+' '+str(rot_y)+' '+str(rot_z)+'')\n",
    "\n",
    "set_camera_location = client.request('vset /camera/0/location '+str(get_camera_location_array[0])+' '+str(get_camera_location_array[1])+' '+str(get_camera_location_array[2])+'')\n",
    "set_camera_rotation = client.request('vset /camera/0/rotation '+str(get_camera_rotation_array[0])+' '+str(get_camera_rotation_array[1])+' '+str(get_camera_rotation_array[2])+'')"
   ]
  },
  {
   "cell_type": "code",
   "execution_count": 6,
   "metadata": {},
   "outputs": [
    {
     "name": "stdout",
     "output_type": "stream",
     "text": [
      "ok\n",
      "ok\n"
     ]
    }
   ],
   "source": [
    "print(set_camera_location)\n",
    "print(set_camera_rotation)"
   ]
  },
  {
   "cell_type": "markdown",
   "metadata": {},
   "source": [
    "# update next cell's array with your desired actor's name"
   ]
  },
  {
   "cell_type": "code",
   "execution_count": 7,
   "metadata": {},
   "outputs": [],
   "source": [
    "actor_array = ['SM_DenkMitEdelstahlReinigerSpray_18','SM_CalgonitFinishKlarspueler_3','SM_CalgonitFinishVorratspack_12']\n",
    "actor_array = np.array(actor_array)"
   ]
  },
  {
   "cell_type": "code",
   "execution_count": 8,
   "metadata": {},
   "outputs": [
    {
     "name": "stdout",
     "output_type": "stream",
     "text": [
      "SM_DenkMitEdelstahlReinigerSpray_18\n",
      "SM_CalgonitFinishKlarspueler_3\n",
      "SM_CalgonitFinishVorratspack_12\n"
     ]
    }
   ],
   "source": [
    "for i in actor_array:\n",
    "    print(i)"
   ]
  },
  {
   "cell_type": "code",
   "execution_count": 9,
   "metadata": {},
   "outputs": [],
   "source": [
    "dirName = 'F:/unreal_cv_documentation/detect_ROI_for_multi_actor/new_image/'\n",
    "viewmode_1 = 'lit'\n",
    "viewmode_2 = 'object_mask'\n",
    "viewmode_3 = 'depth'\n",
    "image_type = '.png'\n",
    "depth_type = '.npy'"
   ]
  },
  {
   "cell_type": "code",
   "execution_count": 18,
   "metadata": {},
   "outputs": [
    {
     "name": "stdout",
     "output_type": "stream",
     "text": [
      "2019-06-26_22-41-31\n"
     ]
    }
   ],
   "source": [
    "import time\n",
    "timestr = time.strftime(\"%Y-%m-%d_%H-%M-%S\")\n",
    "print (timestr)"
   ]
  },
  {
   "cell_type": "markdown",
   "metadata": {},
   "source": [
    "# this cell will capture the image"
   ]
  },
  {
   "cell_type": "code",
   "execution_count": 21,
   "metadata": {},
   "outputs": [],
   "source": [
    "res_lit = client.request('vget /camera/0/'+str(viewmode_1)+str(\" \")+str(dirName)+'lit_new_'+str(timestr)+str(image_type))\n",
    "res_mask = client.request('vget /camera/0/'+str(viewmode_2)+str(\" \")+str(dirName)+'mask_new_'+str(timestr)+str(image_type))"
   ]
  },
  {
   "cell_type": "code",
   "execution_count": 22,
   "metadata": {},
   "outputs": [
    {
     "name": "stdout",
     "output_type": "stream",
     "text": [
      "F:/unreal_cv_documentation/detect_ROI_for_multi_actor/new_image/lit_new_2019-06-26_22-41-31.png\n",
      "F:/unreal_cv_documentation/detect_ROI_for_multi_actor/new_image/mask_new_2019-06-26_22-41-31.png\n"
     ]
    }
   ],
   "source": [
    "print(res_lit)\n",
    "print(res_mask)"
   ]
  },
  {
   "cell_type": "markdown",
   "metadata": {},
   "source": [
    "# this will take the RGB info of every desired object and store it in a text file. UnrealCV will also give 'A' value along with RGB, it has also saved in the text file. But, till now I haven't used the 'A' value for any purpose."
   ]
  },
  {
   "cell_type": "code",
   "execution_count": 25,
   "metadata": {},
   "outputs": [],
   "source": [
    "f = open(str(dirName)+'color_info'+str(timestr)+'.txt', 'a')\n",
    "f = open(str(dirName)+'color_info'+str(timestr)+'.txt', 'r+')\n",
    "f.truncate(0)\n",
    "\n",
    "for j in actor_array:\n",
    "    get_mask_color= client.request('vget /object/'+str(j)+'/color')\n",
    "    ww = str(get_mask_color)\n",
    "    ww=ww.replace('R','')\n",
    "    ww=ww.replace('G','')\n",
    "    ww=ww.replace('B','')\n",
    "    ww=ww.replace('A','')\n",
    "    ww=ww.replace('=','')\n",
    "    ww=ww.replace('(','')\n",
    "    ww=ww.replace(')','')\n",
    "    ww=ww.replace(',',' ')\n",
    "    f.write(ww)\n",
    "    f.write(\"\\n\")\n",
    "    \n",
    "f.close()"
   ]
  },
  {
   "cell_type": "code",
   "execution_count": 1,
   "metadata": {},
   "outputs": [],
   "source": [
    "# for in_actor,i in enumerate(actor_array):\n",
    "#     print(r[in_actor])\n",
    "#     print(g[in_actor])\n",
    "#     print(b[in_actor])\n",
    "#     print('\\n')"
   ]
  }
 ],
 "metadata": {
  "kernelspec": {
   "display_name": "Python 3",
   "language": "python",
   "name": "python3"
  },
  "language_info": {
   "codemirror_mode": {
    "name": "ipython",
    "version": 3
   },
   "file_extension": ".py",
   "mimetype": "text/x-python",
   "name": "python",
   "nbconvert_exporter": "python",
   "pygments_lexer": "ipython3",
   "version": "3.6.5"
  }
 },
 "nbformat": 4,
 "nbformat_minor": 2
}
