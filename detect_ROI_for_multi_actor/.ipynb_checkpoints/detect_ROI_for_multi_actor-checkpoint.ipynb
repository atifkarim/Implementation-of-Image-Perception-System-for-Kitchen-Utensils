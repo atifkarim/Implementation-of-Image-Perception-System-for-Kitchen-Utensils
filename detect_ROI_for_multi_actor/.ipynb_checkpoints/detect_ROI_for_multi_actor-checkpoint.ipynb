{
 "cells": [
  {
   "cell_type": "code",
   "execution_count": null,
   "metadata": {},
   "outputs": [],
   "source": [
    "import time; print(time.strftime(\"The last update of this file: %Y-%m-%d %H:%M:%S\", time.gmtime()))\n",
    "import sys, time\n",
    "# Establish connection with the UE4 game\n",
    "from unrealcv import client\n",
    "client.connect()\n",
    "if not client.isconnected():\n",
    "    print('UnrealCV server is not running. Run the game downloaded from http://unrealcv.github.io first.')\n",
    "    sys.exit(-1)\n",
    "\n",
    "# Checking status of connection between UnrealCV and UE4 game\n",
    "\n",
    "res = client.request('vget /unrealcv/status')\n",
    "# The image resolution and port is configured in the config file.\n",
    "print('status: ',res)"
   ]
  },
  {
   "cell_type": "code",
   "execution_count": null,
   "metadata": {},
   "outputs": [],
   "source": [
    "import numpy as np\n",
    "# SM_DenkMitEdelstahlReinigerSpray_18\n",
    "# SM_CalgonitFinishKlarspueler_3\n",
    "# SM_CalgonitFinishVorratspack_12\n",
    "# SM_DenkMitSpezialsalz_15\n",
    "\n",
    "# good location 239.593 4.203 174.993\n",
    "# good rotation -42.805 -178.574 0.000"
   ]
  },
  {
   "cell_type": "code",
   "execution_count": null,
   "metadata": {},
   "outputs": [],
   "source": [
    "set_camera_location = client.request('vset /camera/0/location 239.593 4.203 174.993')\n",
    "set_camera_rotation = client.request('vset /camera/0/rotation -42.805 -178.574 0.000')"
   ]
  },
  {
   "cell_type": "code",
   "execution_count": null,
   "metadata": {},
   "outputs": [],
   "source": [
    "actor_array = ['SM_DenkMitEdelstahlReinigerSpray_18','SM_CalgonitFinishKlarspueler_3','SM_CalgonitFinishVorratspack_12']\n",
    "actor_array = np.array(actor_array)"
   ]
  },
  {
   "cell_type": "code",
   "execution_count": null,
   "metadata": {},
   "outputs": [],
   "source": [
    "for i in actor_array:\n",
    "    print(i)"
   ]
  },
  {
   "cell_type": "code",
   "execution_count": null,
   "metadata": {},
   "outputs": [],
   "source": [
    "# set floor color (front floor)\n",
    "\n",
    "set_floor_mask_color= client.request('vset /object/Floor/color 0 255 0')\n",
    "for j in actor_array:\n",
    "    set_mask_color= client.request('vset /object/'+str(j)+'/color 255 0 0')"
   ]
  },
  {
   "cell_type": "code",
   "execution_count": null,
   "metadata": {},
   "outputs": [],
   "source": [
    "dirName = 'F:/unreal_cv_documentation/detect_ROI_for_multi_actor/image_test/'\n",
    "viewmode_1 = 'lit'\n",
    "viewmode_2 = 'object_mask'\n",
    "viewmode_3 = 'depth'\n",
    "image_type = '.png'\n",
    "depth_type = '.npy'"
   ]
  },
  {
   "cell_type": "code",
   "execution_count": null,
   "metadata": {},
   "outputs": [],
   "source": [
    "res_lit = client.request('vget /camera/0/'+str(viewmode_1)+str(\" \")+str(dirName)+'lit_1_1'+str(image_type))\n",
    "res_mask = client.request('vget /camera/0/'+str(viewmode_2)+str(\" \")+str(dirName)+'mask_1_1'+str(image_type))\n",
    "res_depth = client.request('vget /camera/0/'+str(viewmode_3)+str(\" \")+str(dirName)+'depth_1_1'+str(depth_type))"
   ]
  },
  {
   "cell_type": "code",
   "execution_count": null,
   "metadata": {},
   "outputs": [],
   "source": [
    "print(res_lit)\n",
    "print(res_mask)\n",
    "print(res_depth)"
   ]
  },
  {
   "cell_type": "code",
   "execution_count": null,
   "metadata": {},
   "outputs": [],
   "source": [
    "from matplotlib import pyplot as plt\n",
    "depth = np.load(res_depth)\n",
    "plt.imshow(depth, cmap='gray')\n",
    "plt.show()"
   ]
  },
  {
   "cell_type": "code",
   "execution_count": null,
   "metadata": {},
   "outputs": [],
   "source": [
    "import numpy as np\n",
    "import cv2\n",
    "import os\n",
    "\n",
    "lit = 'F:/unreal_cv_documentation/detect_ROI_for_multi_actor/image_test/lit_1_1.png'\n",
    "mask = 'F:/unreal_cv_documentation/detect_ROI_for_multi_actor/image_test/mask_1_1.png'"
   ]
  },
  {
   "cell_type": "code",
   "execution_count": 14,
   "metadata": {},
   "outputs": [
    {
     "name": "stdout",
     "output_type": "stream",
     "text": [
      "length is:  3\n",
      "info of  0  contour  314 , 271 , 339 , 327\n",
      "length is:  3\n",
      "info of  1  contour  381 , 240 , 414 , 277\n",
      "length is:  3\n",
      "info of  2  contour  437 , 158 , 477 , 197\n"
     ]
    }
   ],
   "source": [
    "import numpy as np\n",
    "import cv2\n",
    "import os\n",
    "\n",
    "lit = 'F:/unreal_cv_documentation/detect_ROI_for_multi_actor/image_test/lit_1_1.png'\n",
    "mask = 'F:/unreal_cv_documentation/detect_ROI_for_multi_actor/image_test/mask_1.png'\n",
    "\n",
    "\n",
    "img = cv2.imread(mask)\n",
    "rgb_img = cv2.imread(lit)\n",
    "img_hsv = cv2.cvtColor(img, cv2.COLOR_BGR2HSV)\n",
    "\n",
    "## Gen lower mask (0-5) and upper mask (175-180) of RED\n",
    "mask1 = cv2.inRange(img_hsv, (0,50,20), (5,255,255))\n",
    "mask2 = cv2.inRange(img_hsv, (175,50,20), (180,255,255))\n",
    "\n",
    "## Merge the mask and crop the red regions\n",
    "mask = cv2.bitwise_or(mask1, mask2 )\n",
    "croped = cv2.bitwise_and(img, img, mask=mask)\n",
    "f = open('F:/unreal_cv_documentation/detect_ROI_for_multi_actor/image_test/ROI.txt', 'a')\n",
    "f = open('F:/unreal_cv_documentation/detect_ROI_for_multi_actor/image_test/ROI.txt', 'r+')\n",
    "f.truncate(0)\n",
    "\n",
    "image, contours, hierarchy =  cv2.findContours(mask,cv2.RETR_TREE,cv2.CHAIN_APPROX_SIMPLE)\n",
    "for t in range (0,3,1):\n",
    "    if len(contours)>0:\n",
    "        print('length is: ',len(contours))\n",
    "        cnt = contours[t]\n",
    "        x,y,w,h = cv2.boundingRect(cnt)\n",
    "        draw_rec_lit_image=cv2.rectangle(rgb_img,(x,y),(x+w,y+h),(0,255,0),0)\n",
    "        print('info of ',t,' contour ',x,',',y,',',x+w,',',y+h)\n",
    "        x=x\n",
    "        y=y\n",
    "        x_1=x+w\n",
    "        y_1=y+h\n",
    "        \n",
    "        f.write(str(x)+' ')\n",
    "        f.write(str(y)+' ')\n",
    "        f.write(str(x_1)+' ')\n",
    "        f.write(str(y_1)+' ')\n",
    "        f.write(\"\\n\")\n",
    "        \n",
    "        test_rgb = cv2.bitwise_and(draw_rec_lit_image, draw_rec_lit_image, mask=mask)\n",
    "f.close()\n",
    "## Display\n",
    "cv2.imshow(\"mask\", mask)\n",
    "cv2.imshow(\"croped\", croped)\n",
    "cv2.imshow('lit_ROI', draw_rec_lit_image)\n",
    "cv2.imshow(\"test_rgb\", test_rgb)\n",
    "\n",
    "cv2.imwrite('F:/unreal_cv_documentation/detect_ROI_for_multi_actor/image_test/desired_1.png',draw_rec_lit_image)\n",
    "cv2.imwrite('F:/unreal_cv_documentation/detect_ROI_for_multi_actor/image_test/desired_2.png',test_rgb)\n",
    "\n",
    "if cv2.waitKey() == ord('q'): #press q to close the output image window\n",
    "        cv2.destroyAllWindows()"
   ]
  },
  {
   "cell_type": "code",
   "execution_count": null,
   "metadata": {},
   "outputs": [],
   "source": []
  },
  {
   "cell_type": "code",
   "execution_count": null,
   "metadata": {},
   "outputs": [],
   "source": []
  }
 ],
 "metadata": {
  "kernelspec": {
   "display_name": "Python 3",
   "language": "python",
   "name": "python3"
  },
  "language_info": {
   "codemirror_mode": {
    "name": "ipython",
    "version": 3
   },
   "file_extension": ".py",
   "mimetype": "text/x-python",
   "name": "python",
   "nbconvert_exporter": "python",
   "pygments_lexer": "ipython3",
   "version": "3.6.5"
  }
 },
 "nbformat": 4,
 "nbformat_minor": 2
}
