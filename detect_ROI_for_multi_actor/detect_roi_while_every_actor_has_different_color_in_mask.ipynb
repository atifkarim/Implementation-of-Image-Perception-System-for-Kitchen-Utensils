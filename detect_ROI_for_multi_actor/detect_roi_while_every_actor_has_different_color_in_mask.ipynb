{
 "cells": [
  {
   "cell_type": "code",
   "execution_count": 1,
   "metadata": {},
   "outputs": [
    {
     "name": "stderr",
     "output_type": "stream",
     "text": [
      "INFO:__init__:211:Got connection confirm: b'connected to test_game_4_19'\n"
     ]
    },
    {
     "name": "stdout",
     "output_type": "stream",
     "text": [
      "The last update of this file: 2019-06-26 10:40:13\n",
      "status:  Is Listening\n",
      "Client Connected\n",
      "9000\n",
      "Configuration\n",
      "Config file: C:/Program Files/Epic Games/UE_4.19/Engine/Binaries/Win64/unrealcv.ini\n",
      "Port: 9000\n",
      "Width: 640\n",
      "Height: 480\n",
      "FOV: 90.000000\n",
      "EnableInput: true\n",
      "EnableRightEye: false\n",
      "\n"
     ]
    }
   ],
   "source": [
    "import time; print(time.strftime(\"The last update of this file: %Y-%m-%d %H:%M:%S\", time.gmtime()))\n",
    "import sys, time\n",
    "# Establish connection with the UE4 game\n",
    "from unrealcv import client\n",
    "client.connect()\n",
    "if not client.isconnected():\n",
    "    print('UnrealCV server is not running. Run the game downloaded from http://unrealcv.github.io first.')\n",
    "    sys.exit(-1)\n",
    "\n",
    "# Checking status of connection between UnrealCV and UE4 game\n",
    "\n",
    "res = client.request('vget /unrealcv/status')\n",
    "# The image resolution and port is configured in the config file.\n",
    "print('status: ',res)"
   ]
  },
  {
   "cell_type": "code",
   "execution_count": 72,
   "metadata": {},
   "outputs": [],
   "source": [
    "import numpy as np\n",
    "\n",
    "get_camera_location = client.request('vget /camera/0/location')\n",
    "get_camera_rotation = client.request('vget /camera/0/rotation')\n",
    "\n",
    "get_camera_location = get_camera_location.split(\" \")\n",
    "get_camera_location_array = np.array(get_camera_location)\n",
    "get_camera_location_array = get_camera_location_array.astype(np.float)\n",
    "\n",
    "get_camera_rotation = get_camera_rotation.split(\" \")\n",
    "get_camera_rotation_array = np.array(get_camera_rotation)\n",
    "get_camera_rotation_array = get_camera_rotation_array.astype(np.float)"
   ]
  },
  {
   "cell_type": "code",
   "execution_count": 73,
   "metadata": {},
   "outputs": [
    {
     "name": "stdout",
     "output_type": "stream",
     "text": [
      "[223.851  -0.344  79.887]\n",
      "[  -0.331 -170.286   -0.   ]\n"
     ]
    }
   ],
   "source": [
    "print(get_camera_location_array)\n",
    "print(get_camera_rotation_array)"
   ]
  },
  {
   "cell_type": "code",
   "execution_count": 74,
   "metadata": {},
   "outputs": [],
   "source": [
    "# set_camera_location = client.request('vset /camera/0/location '+str(loc_x)+' '+str(loc_y)+' '+str(loc_z)+'')\n",
    "# set_camera_rotation = client.request('vset /camera/0/rotation '+str(rot_x)+' '+str(rot_y)+' '+str(rot_z)+'')\n",
    "\n",
    "set_camera_location = client.request('vset /camera/0/location '+str(get_camera_location_array[0])+' '+str(get_camera_location_array[1])+' '+str(get_camera_location_array[2])+'')\n",
    "set_camera_rotation = client.request('vset /camera/0/rotation '+str(get_camera_rotation_array[0])+' '+str(get_camera_rotation_array[1])+' '+str(get_camera_rotation_array[2])+'')"
   ]
  },
  {
   "cell_type": "code",
   "execution_count": 75,
   "metadata": {},
   "outputs": [
    {
     "name": "stdout",
     "output_type": "stream",
     "text": [
      "ok\n",
      "ok\n"
     ]
    }
   ],
   "source": [
    "print(set_camera_location)\n",
    "print(set_camera_rotation)"
   ]
  },
  {
   "cell_type": "code",
   "execution_count": 76,
   "metadata": {},
   "outputs": [],
   "source": [
    "actor_array = ['SM_DenkMitEdelstahlReinigerSpray_18','SM_CalgonitFinishKlarspueler_3','SM_CalgonitFinishVorratspack_12']\n",
    "actor_array = np.array(actor_array)"
   ]
  },
  {
   "cell_type": "code",
   "execution_count": 77,
   "metadata": {},
   "outputs": [
    {
     "name": "stdout",
     "output_type": "stream",
     "text": [
      "SM_DenkMitEdelstahlReinigerSpray_18\n",
      "SM_CalgonitFinishKlarspueler_3\n",
      "SM_CalgonitFinishVorratspack_12\n"
     ]
    }
   ],
   "source": [
    "for i in actor_array:\n",
    "    print(i)"
   ]
  },
  {
   "cell_type": "code",
   "execution_count": 78,
   "metadata": {},
   "outputs": [],
   "source": [
    "dirName = 'F:/unreal_cv_documentation/detect_ROI_for_multi_actor/new_image/'\n",
    "viewmode_1 = 'lit'\n",
    "viewmode_2 = 'object_mask'\n",
    "viewmode_3 = 'depth'\n",
    "image_type = '.png'\n",
    "depth_type = '.npy'"
   ]
  },
  {
   "cell_type": "code",
   "execution_count": 79,
   "metadata": {},
   "outputs": [],
   "source": [
    "res_lit = client.request('vget /camera/0/'+str(viewmode_1)+str(\" \")+str(dirName)+'lit_new'+str(image_type))\n",
    "res_mask = client.request('vget /camera/0/'+str(viewmode_2)+str(\" \")+str(dirName)+'mask_new'+str(image_type))"
   ]
  },
  {
   "cell_type": "code",
   "execution_count": 226,
   "metadata": {},
   "outputs": [
    {
     "name": "stdout",
     "output_type": "stream",
     "text": [
      "F:/unreal_cv_documentation/detect_ROI_for_multi_actor/new_image/lit_new.png\n",
      "F:/unreal_cv_documentation/detect_ROI_for_multi_actor/new_image/mask_new.png\n"
     ]
    }
   ],
   "source": [
    "print(res_lit)\n",
    "print(res_mask)"
   ]
  },
  {
   "cell_type": "code",
   "execution_count": 215,
   "metadata": {},
   "outputs": [
    {
     "name": "stdout",
     "output_type": "stream",
     "text": [
      "(R=255,G=127,B=0,A=255)\n",
      "(R=0,G=127,B=127,A=255)\n",
      "(R=0,G=127,B=255,A=255)\n"
     ]
    }
   ],
   "source": [
    "f = open(str(dirName)+'color_info.txt', 'a')\n",
    "f = open(str(dirName)+'color_info.txt', 'r+')\n",
    "f.truncate(0)\n",
    "\n",
    "for j in actor_array:\n",
    "    print(get_mask_color)\n",
    "    get_mask_color= client.request('vget /object/'+str(j)+'/color')\n",
    "    ww = str(get_mask_color)\n",
    "    ww=ww.replace('R','')\n",
    "    ww=ww.replace('G','')\n",
    "    ww=ww.replace('B','')\n",
    "    ww=ww.replace('A','')\n",
    "    ww=ww.replace('=','')\n",
    "    ww=ww.replace('(','')\n",
    "    ww=ww.replace(')','')\n",
    "    ww=ww.replace(',',' ')\n",
    "    f.write(ww)\n",
    "    f.write(\"\\n\")\n",
    "    \n",
    "f.close()"
   ]
  },
  {
   "cell_type": "code",
   "execution_count": 216,
   "metadata": {},
   "outputs": [],
   "source": [
    "import numpy as np\n",
    "store=[]\n",
    "with open(str(dirName)+'color_info.txt') as f1:\n",
    "    a=f1.readlines()\n",
    "    for i in a:\n",
    "        k=i.split('\\n')\n",
    "        m=k[0].split(' ')\n",
    "        store.append(m)\n",
    "store=np.array(store,dtype=int)"
   ]
  },
  {
   "cell_type": "code",
   "execution_count": 217,
   "metadata": {},
   "outputs": [
    {
     "name": "stdout",
     "output_type": "stream",
     "text": [
      "<class 'numpy.ndarray'>\n"
     ]
    }
   ],
   "source": [
    "print(type(store))"
   ]
  },
  {
   "cell_type": "code",
   "execution_count": 218,
   "metadata": {},
   "outputs": [
    {
     "data": {
      "text/plain": [
       "array([[  0, 127, 127, 255],\n",
       "       [  0, 127, 255, 255],\n",
       "       [255, 127,   0, 255]])"
      ]
     },
     "execution_count": 218,
     "metadata": {},
     "output_type": "execute_result"
    }
   ],
   "source": [
    "store"
   ]
  },
  {
   "cell_type": "code",
   "execution_count": 219,
   "metadata": {},
   "outputs": [],
   "source": [
    "r,g,b,a=[store[:,i] for i in range(len(store[0]))]"
   ]
  },
  {
   "cell_type": "code",
   "execution_count": 225,
   "metadata": {},
   "outputs": [
    {
     "name": "stdout",
     "output_type": "stream",
     "text": [
      "0\n",
      "127\n",
      "127\n",
      "\n",
      "\n",
      "0\n",
      "127\n",
      "255\n",
      "\n",
      "\n",
      "255\n",
      "127\n",
      "0\n",
      "\n",
      "\n"
     ]
    }
   ],
   "source": [
    "for in_actor,i in enumerate(actor_array):\n",
    "    print(r[in_actor])\n",
    "    print(g[in_actor])\n",
    "    print(b[in_actor])\n",
    "    print('\\n')"
   ]
  },
  {
   "cell_type": "code",
   "execution_count": 248,
   "metadata": {},
   "outputs": [
    {
     "name": "stdout",
     "output_type": "stream",
     "text": [
      "length is:  3\n",
      "info of  0  contour  391 , 288 , 431 , 365\n",
      "length is:  3\n",
      "info of  1  contour  281 , 282 , 310 , 373\n",
      "length is:  3\n",
      "info of  2  contour  487 , 278 , 546 , 352\n"
     ]
    }
   ],
   "source": [
    "import cv2\n",
    "import copy\n",
    "\n",
    "lit_im = cv2.imread(res_lit)\n",
    "mask_im = cv2.imread(res_mask)\n",
    "img = np.zeros((mask_im.shape[0],mask_im.shape[1],mask_im.shape[2]), np.uint8)\n",
    "test_copy_img = copy.copy(img)\n",
    "test_copy_img_color = copy.copy(img)\n",
    "test_copy_image_color_mask = copy.copy(test_copy_img_color)\n",
    "\n",
    "for in_actor,i in enumerate(actor_array):\n",
    "    for rows in range (0, mask_im.shape[0]):\n",
    "        for cols in range(0, mask_im.shape[1]):\n",
    "            if mask_im[rows][cols][0]==b[in_actor] and mask_im[rows][cols][1]==g[in_actor] and mask_im[rows][cols][2]==r[in_actor]:\n",
    "                test_copy_img[rows][cols] = 255\n",
    "                test_copy_img_color[rows][cols]=mask_im[rows][cols]\n",
    "\n",
    "test_copy_image_color_mask = copy.copy(test_copy_img_color)                \n",
    "                \n",
    "imgray=cv2.cvtColor(test_copy_img,cv2.COLOR_BGR2GRAY)\n",
    "ret,thresh = cv2.threshold(imgray,127,255,0)\n",
    "image, contours, hierarchy =  cv2.findContours(thresh,cv2.RETR_TREE,cv2.CHAIN_APPROX_SIMPLE)\n",
    "\n",
    "roi_list = []\n",
    "\n",
    "for t in range (0,len(actor_array),1):\n",
    "    if len(contours)>0:\n",
    "        print('length is: ',len(contours))\n",
    "        cnt = contours[t]\n",
    "        x,y,w,h = cv2.boundingRect(cnt)\n",
    "        roi_rgb_image=cv2.rectangle(lit_im,(x,y),(x+w,y+h),(0,255,0),1)\n",
    "        print('info of ',t,' contour ',x,',',y,',',x+w,',',y+h)\n",
    "        x=x\n",
    "        y=y\n",
    "        x_1=x+w\n",
    "        y_1=y+h\n",
    "        \n",
    "        roi_point = [x,y,x_1,y_1]\n",
    "        roi_list.append(roi_point)\n",
    "\n",
    "for i in roi_list:\n",
    "    x_new = i[0]\n",
    "    y_new = i[1]\n",
    "    x_w_new = i[2]\n",
    "    y_h_new = i[3]\n",
    "    \n",
    "    roi_black_mask = cv2.rectangle(test_copy_image_color_mask,(x_new,y_new),(x_w_new,y_h_new),(0,255,0),1)\n",
    "\n",
    "    \n",
    "\n",
    "f = open(str(dirName)+'roi_info.txt', 'a')\n",
    "f = open(str(dirName)+'roi_info.txt', 'r+')\n",
    "f.truncate(0)\n",
    "\n",
    "for i in roi_list:\n",
    "    ww = str(i)\n",
    "    ww=ww.replace('[','')\n",
    "    ww=ww.replace(']','')\n",
    "    ww=ww.replace(',','')\n",
    "    f.write(ww)\n",
    "    f.write(\"\\n\")\n",
    "f.close()\n",
    "\n",
    "cv2.imshow('black',img)\n",
    "# cv2.imshow('lit',lit_im)\n",
    "# cv2.imshow('mask',mask_im)\n",
    "cv2.imshow('new_image_black',test_copy_img)\n",
    "# cv2.imshow('test_copy_img_color', test_copy_img_color)\n",
    "# cv2.imshow('imgray', imgray)\n",
    "# cv2.imshow('image_after_thresholding', image)\n",
    "# cv2.imshow('roi_rgb', roi_rgb_image)\n",
    "# cv2.imshow('roi_black_mask', roi_black_mask)\n",
    "\n",
    "if cv2.waitKey() == ord('q'): #press q to close the output image window\n",
    "        cv2.destroyAllWindows()"
   ]
  },
  {
   "cell_type": "code",
   "execution_count": 261,
   "metadata": {},
   "outputs": [
    {
     "ename": "error",
     "evalue": "OpenCV(3.4.1) C:\\Miniconda3\\conda-bld\\opencv-suite_1533128839831\\work\\modules\\core\\src\\arithm.cpp:241: error: (-215) (mtype == 0 || mtype == 1) && _mask.sameSize(*psrc1) in function cv::binary_op\n",
     "output_type": "error",
     "traceback": [
      "\u001b[1;31m---------------------------------------------------------------------------\u001b[0m",
      "\u001b[1;31merror\u001b[0m                                     Traceback (most recent call last)",
      "\u001b[1;32m<ipython-input-261-3e865701dd79>\u001b[0m in \u001b[0;36m<module>\u001b[1;34m()\u001b[0m\n\u001b[0;32m      5\u001b[0m \u001b[0mlit_copy\u001b[0m \u001b[1;33m=\u001b[0m \u001b[0mcopy\u001b[0m\u001b[1;33m.\u001b[0m\u001b[0mcopy\u001b[0m\u001b[1;33m(\u001b[0m\u001b[0mlit_im\u001b[0m\u001b[1;33m)\u001b[0m\u001b[1;33m\u001b[0m\u001b[0m\n\u001b[0;32m      6\u001b[0m \u001b[1;33m\u001b[0m\u001b[0m\n\u001b[1;32m----> 7\u001b[1;33m \u001b[0mblack_rgb\u001b[0m \u001b[1;33m=\u001b[0m \u001b[0mcv2\u001b[0m\u001b[1;33m.\u001b[0m\u001b[0mbitwise_and\u001b[0m\u001b[1;33m(\u001b[0m\u001b[0mlit_copy\u001b[0m\u001b[1;33m,\u001b[0m \u001b[0mlit_copy\u001b[0m\u001b[1;33m,\u001b[0m \u001b[0mmask\u001b[0m \u001b[1;33m=\u001b[0m \u001b[0mmask\u001b[0m\u001b[1;33m)\u001b[0m\u001b[1;33m\u001b[0m\u001b[0m\n\u001b[0m\u001b[0;32m      8\u001b[0m \u001b[1;33m\u001b[0m\u001b[0m\n\u001b[0;32m      9\u001b[0m \u001b[0mcv2\u001b[0m\u001b[1;33m.\u001b[0m\u001b[0mimshow\u001b[0m\u001b[1;33m(\u001b[0m\u001b[1;34m'black_rgb'\u001b[0m\u001b[1;33m,\u001b[0m \u001b[0mblack_rgb\u001b[0m\u001b[1;33m)\u001b[0m\u001b[1;33m\u001b[0m\u001b[0m\n",
      "\u001b[1;31merror\u001b[0m: OpenCV(3.4.1) C:\\Miniconda3\\conda-bld\\opencv-suite_1533128839831\\work\\modules\\core\\src\\arithm.cpp:241: error: (-215) (mtype == 0 || mtype == 1) && _mask.sameSize(*psrc1) in function cv::binary_op\n"
     ]
    }
   ],
   "source": [
    "test_copy_black_mask_1 = copy.copy(img)\n",
    "test_copy_black_mask_2 = copy.copy(test_copy_img)\n",
    "mask = cv2.bitwise_or(test_copy_black_mask_1, test_copy_black_mask_2)\n",
    "\n",
    "lit_copy = copy.copy(lit_im)\n",
    "\n",
    "black_rgb = cv2.bitwise_and(lit_copy, lit_copy, mask = mask)\n",
    "\n",
    "cv2.imshow('black_rgb', black_rgb)\n",
    "\n",
    "cv2.imshow('mask', mask)\n",
    "\n",
    "if cv2.waitKey() == ord('q'): #press q to close the output image window\n",
    "        cv2.destroyAllWindows()"
   ]
  },
  {
   "cell_type": "code",
   "execution_count": null,
   "metadata": {},
   "outputs": [],
   "source": [
    "mask.types()"
   ]
  },
  {
   "cell_type": "code",
   "execution_count": 256,
   "metadata": {},
   "outputs": [
    {
     "data": {
      "text/plain": [
       "numpy.ndarray"
      ]
     },
     "execution_count": 256,
     "metadata": {},
     "output_type": "execute_result"
    }
   ],
   "source": [
    "type(lit_im)"
   ]
  },
  {
   "cell_type": "code",
   "execution_count": null,
   "metadata": {},
   "outputs": [],
   "source": []
  }
 ],
 "metadata": {
  "kernelspec": {
   "display_name": "Python 3",
   "language": "python",
   "name": "python3"
  },
  "language_info": {
   "codemirror_mode": {
    "name": "ipython",
    "version": 3
   },
   "file_extension": ".py",
   "mimetype": "text/x-python",
   "name": "python",
   "nbconvert_exporter": "python",
   "pygments_lexer": "ipython3",
   "version": "3.6.5"
  }
 },
 "nbformat": 4,
 "nbformat_minor": 2
}
