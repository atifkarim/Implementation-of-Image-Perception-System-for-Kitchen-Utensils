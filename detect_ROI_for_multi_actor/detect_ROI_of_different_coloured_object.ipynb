{
 "cells": [
  {
   "cell_type": "code",
   "execution_count": 2,
   "metadata": {},
   "outputs": [],
   "source": [
    "import cv2\n",
    "import numpy as np\n",
    "import copy"
   ]
  },
  {
   "cell_type": "code",
   "execution_count": 3,
   "metadata": {},
   "outputs": [
    {
     "data": {
      "text/plain": [
       "'3.4.0'"
      ]
     },
     "execution_count": 3,
     "metadata": {},
     "output_type": "execute_result"
    }
   ],
   "source": [
    "cv2.__version__"
   ]
  },
  {
   "cell_type": "markdown",
   "metadata": {},
   "source": [
    "# actor from given actor list will be listed as desired object"
   ]
  },
  {
   "cell_type": "code",
   "execution_count": 8,
   "metadata": {},
   "outputs": [],
   "source": [
    "actor_array = ['SM_DenkMitEdelstahlReinigerSpray_18','SM_CalgonitFinishKlarspueler_3','SM_CalgonitFinishVorratspack_12']\n",
    "actor_array = np.array(actor_array)"
   ]
  },
  {
   "cell_type": "code",
   "execution_count": 4,
   "metadata": {},
   "outputs": [],
   "source": [
    "# dirName = 'F:/unreal_cv_documentation/detect_ROI_for_multi_actor/new_image/'\n",
    "\n",
    "dirName = '/media/atif/0820209220208930/unreal_cv_documentation/detect_ROI_for_multi_actor/new_image/'\n",
    "image_type = '.png'"
   ]
  },
  {
   "cell_type": "code",
   "execution_count": 5,
   "metadata": {},
   "outputs": [],
   "source": [
    "rgb_image = cv2.imread(str(dirName)+'lit_new_2019-06-26_22-41-31'+str(image_type))\n",
    "mask_image = cv2.imread(str(dirName)+'mask_new_2019-06-26_22-41-31'+str(image_type))"
   ]
  },
  {
   "cell_type": "markdown",
   "metadata": {},
   "source": [
    "# from the other code named detect_roi_while_every_actor_has_different_color_in_mask.ipynb we have already saved the image and a text file where all RGB info of desired object has stored in a text file\n",
    "# from the text file those RGB info will be fetched and store in an array to use later"
   ]
  },
  {
   "cell_type": "code",
   "execution_count": 6,
   "metadata": {},
   "outputs": [],
   "source": [
    "import numpy as np\n",
    "# store=[]\n",
    "store = list()\n",
    "with open(str(dirName)+'color_info2019-06-26_22-41-31.txt') as f1:\n",
    "    a=f1.readlines()\n",
    "    for i in a:\n",
    "        k=i.split('\\n')\n",
    "        m=k[0].split(' ')\n",
    "        store.append(m)\n",
    "store=np.array(store,dtype=int)\n",
    "r,g,b,a=[store[:,i] for i in range(len(store[0]))]"
   ]
  },
  {
   "cell_type": "code",
   "execution_count": 9,
   "metadata": {},
   "outputs": [
    {
     "name": "stdout",
     "output_type": "stream",
     "text": [
      "0\n",
      "127\n",
      "127\n",
      "\n",
      "\n",
      "0\n",
      "127\n",
      "255\n",
      "\n",
      "\n",
      "255\n",
      "127\n",
      "0\n",
      "\n",
      "\n"
     ]
    }
   ],
   "source": [
    "for in_actor,i in enumerate(actor_array):\n",
    "    print(r[in_actor])\n",
    "    print(g[in_actor])\n",
    "    print(b[in_actor])\n",
    "    print('\\n')"
   ]
  },
  {
   "cell_type": "code",
   "execution_count": 10,
   "metadata": {},
   "outputs": [
    {
     "name": "stdout",
     "output_type": "stream",
     "text": [
      "length is:  3\n",
      "info of  0  contour  375 , 198 , 416 , 270\n",
      "length is:  3\n",
      "info of  1  contour  472 , 194 , 534 , 263\n",
      "length is:  3\n",
      "info of  2  contour  271 , 189 , 298 , 273\n"
     ]
    }
   ],
   "source": [
    "img = np.zeros((mask_image.shape[0],mask_image.shape[1],mask_image.shape[2]), np.uint8) #create a black coloured image\n",
    "test_copy_img = copy.copy(img) #here all object with white color will be passed\n",
    "test_copy_img_color = copy.copy(img) #here all object with their mask color will be passed\n",
    "\n",
    "for in_actor,i in enumerate(actor_array):\n",
    "    for rows in range (0, mask_image.shape[0]):\n",
    "        for cols in range(0, mask_image.shape[1]):\n",
    "            if mask_image[rows][cols][0]==b[in_actor] and mask_image[rows][cols][1]==g[in_actor] and mask_image[rows][cols][2]==r[in_actor]:\n",
    "                test_copy_img[rows][cols] = 255 #for white color 255\n",
    "                test_copy_img_color[rows][cols]=mask_image[rows][cols]\n",
    "                \n",
    "test_copy_image_color_mask = copy.copy(test_copy_img_color)\n",
    "                \n",
    "imgray=cv2.cvtColor(test_copy_img,cv2.COLOR_BGR2GRAY)\n",
    "ret,thresh = cv2.threshold(imgray,127,255,0)\n",
    "image, contours, hierarchy =  cv2.findContours(thresh,cv2.RETR_TREE,cv2.CHAIN_APPROX_SIMPLE)\n",
    "\n",
    "roi_list = []\n",
    "rgb_image_copy = copy.copy(rgb_image)\n",
    "for t in range (0,len(actor_array),1):\n",
    "    if len(contours)>0:\n",
    "        print('length is: ',len(contours))\n",
    "        cnt = contours[t]\n",
    "        x,y,w,h = cv2.boundingRect(cnt)\n",
    "        roi_rgb_image=cv2.rectangle(rgb_image_copy,(x,y),(x+w,y+h),(0,255,0),1)\n",
    "        crop_img = roi_rgb_image[y:y+h, x:x+w]\n",
    "        roi_black_mask = cv2.rectangle(test_copy_image_color_mask,(x,y),(x+w,y+h),(0,255,0),1)\n",
    "        print('info of ',t,' contour ',x,',',y,',',x+w,',',y+h)\n",
    "        x=x\n",
    "        y=y\n",
    "        x_1=x+w\n",
    "        y_1=y+h\n",
    "        \n",
    "        roi_point = [x,y,x_1,y_1]\n",
    "        roi_list.append(roi_point)"
   ]
  },
  {
   "cell_type": "markdown",
   "metadata": {},
   "source": [
    "# store the ROI in a text file to use later"
   ]
  },
  {
   "cell_type": "code",
   "execution_count": 7,
   "metadata": {},
   "outputs": [],
   "source": [
    "f = open(str(dirName)+'roi_info.txt', 'a')\n",
    "f = open(str(dirName)+'roi_info.txt', 'r+')\n",
    "f.truncate(0)\n",
    "\n",
    "for i in roi_list:\n",
    "    ww = str(i)\n",
    "    ww=ww.replace('[','')\n",
    "    ww=ww.replace(']','')\n",
    "    ww=ww.replace(',','')\n",
    "    f.write(ww)\n",
    "    f.write(\"\\n\")\n",
    "f.close()"
   ]
  },
  {
   "cell_type": "markdown",
   "metadata": {},
   "source": [
    "# do RGB image black color except desired actor"
   ]
  },
  {
   "cell_type": "code",
   "execution_count": 11,
   "metadata": {},
   "outputs": [],
   "source": [
    "a_copy = copy.copy(test_copy_img)\n",
    "rgb_black = copy.copy(rgb_image)\n",
    "\n",
    "for rows in range (0, a_copy.shape[0]):\n",
    "    for cols in range (0, a_copy.shape[1]):\n",
    "        if a_copy[rows][cols][0]==0 and a_copy[rows][cols][1]==0 and a_copy[rows][cols][2]==0:\n",
    "            rgb_black[rows][cols]=0\n",
    "        else:\n",
    "            pass"
   ]
  },
  {
   "cell_type": "markdown",
   "metadata": {},
   "source": [
    "# draw ROI of desired object in the RGB_black image"
   ]
  },
  {
   "cell_type": "code",
   "execution_count": 12,
   "metadata": {},
   "outputs": [],
   "source": [
    "rgb_black_roi = copy.copy(rgb_black)\n",
    "\n",
    "for i in roi_list:\n",
    "    x_new = i[0]\n",
    "    y_new = i[1]\n",
    "    x_w_new = i[2]\n",
    "    y_h_new = i[3]\n",
    "    \n",
    "    roi_black_rgb = cv2.rectangle(rgb_black_roi,(x_new,y_new),(x_w_new,y_h_new),(0,255,0),1)"
   ]
  },
  {
   "cell_type": "code",
   "execution_count": 14,
   "metadata": {},
   "outputs": [],
   "source": [
    "cv2.imshow('rgb', rgb_image)\n",
    "cv2.imshow('mask', mask_image)\n",
    "cv2.imshow('test_copy_img',test_copy_img)\n",
    "cv2.imshow('test_copy_img_color', test_copy_img_color)\n",
    "cv2.imshow('roi_rgb_image', roi_rgb_image)\n",
    "cv2.imshow('roi_black_mask',test_copy_image_color_mask)\n",
    "cv2.imshow('rgb_black', rgb_black)\n",
    "cv2.imshow('roi_black_rgb', roi_black_rgb)\n",
    "cv2.imshow('crop_img',crop_img)\n",
    "\n",
    "\n",
    "if cv2.waitKey() == ord('q'): #press q to close the output image window\n",
    "        cv2.destroyAllWindows()"
   ]
  },
  {
   "cell_type": "code",
   "execution_count": 11,
   "metadata": {},
   "outputs": [
    {
     "data": {
      "text/plain": [
       "True"
      ]
     },
     "execution_count": 11,
     "metadata": {},
     "output_type": "execute_result"
    }
   ],
   "source": [
    "cv2.imwrite(str(dirName)+'crop_image'+str(image_type), crop_img)"
   ]
  }
 ],
 "metadata": {
  "kernelspec": {
   "display_name": "Python 3",
   "language": "python",
   "name": "python3"
  },
  "language_info": {
   "codemirror_mode": {
    "name": "ipython",
    "version": 3
   },
   "file_extension": ".py",
   "mimetype": "text/x-python",
   "name": "python",
   "nbconvert_exporter": "python",
   "pygments_lexer": "ipython3",
   "version": "3.6.7"
  }
 },
 "nbformat": 4,
 "nbformat_minor": 2
}
