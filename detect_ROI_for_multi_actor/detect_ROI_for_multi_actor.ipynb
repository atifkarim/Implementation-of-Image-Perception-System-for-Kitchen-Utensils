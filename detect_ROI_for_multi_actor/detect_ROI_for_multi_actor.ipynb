{
 "cells": [
  {
   "cell_type": "code",
   "execution_count": 19,
   "metadata": {},
   "outputs": [
    {
     "name": "stderr",
     "output_type": "stream",
     "text": [
      "INFO:__init__:211:Got connection confirm: b'connected to test_game_4_19'\n"
     ]
    },
    {
     "name": "stdout",
     "output_type": "stream",
     "text": [
      "The last update of this file: 2019-06-19 23:33:09\n",
      "status:  Is Listening\n",
      "Client Connected\n",
      "9000\n",
      "Configuration\n",
      "Config file: C:/Program Files/Epic Games/UE_4.19/Engine/Binaries/Win64/unrealcv.ini\n",
      "Port: 9000\n",
      "Width: 640\n",
      "Height: 480\n",
      "FOV: 90.000000\n",
      "EnableInput: true\n",
      "EnableRightEye: false\n",
      "\n"
     ]
    }
   ],
   "source": [
    "import time; print(time.strftime(\"The last update of this file: %Y-%m-%d %H:%M:%S\", time.gmtime()))\n",
    "import sys, time\n",
    "# Establish connection with the UE4 game\n",
    "from unrealcv import client\n",
    "client.connect()\n",
    "if not client.isconnected():\n",
    "    print('UnrealCV server is not running. Run the game downloaded from http://unrealcv.github.io first.')\n",
    "    sys.exit(-1)\n",
    "\n",
    "# Checking status of connection between UnrealCV and UE4 game\n",
    "\n",
    "res = client.request('vget /unrealcv/status')\n",
    "# The image resolution and port is configured in the config file.\n",
    "print('status: ',res)"
   ]
  },
  {
   "cell_type": "code",
   "execution_count": 20,
   "metadata": {},
   "outputs": [],
   "source": [
    "import numpy as np\n",
    "# SM_DenkMitEdelstahlReinigerSpray_18\n",
    "# SM_CalgonitFinishKlarspueler_3\n",
    "# SM_CalgonitFinishVorratspack_12\n",
    "# SM_DenkMitSpezialsalz_15\n",
    "\n",
    "# good location 239.593 4.203 174.993\n",
    "# good rotation -42.805 -178.574 0.000"
   ]
  },
  {
   "cell_type": "code",
   "execution_count": 21,
   "metadata": {},
   "outputs": [],
   "source": [
    "set_camera_location = client.request('vset /camera/0/location 239.593 4.203 174.993')\n",
    "set_camera_rotation = client.request('vset /camera/0/rotation -42.805 -178.574 0.000')"
   ]
  },
  {
   "cell_type": "code",
   "execution_count": 22,
   "metadata": {},
   "outputs": [],
   "source": [
    "actor_array = ['SM_DenkMitEdelstahlReinigerSpray_18','SM_CalgonitFinishKlarspueler_3','SM_CalgonitFinishVorratspack_12']\n",
    "actor_array = np.array(actor_array)"
   ]
  },
  {
   "cell_type": "code",
   "execution_count": 23,
   "metadata": {},
   "outputs": [
    {
     "name": "stdout",
     "output_type": "stream",
     "text": [
      "SM_DenkMitEdelstahlReinigerSpray_18\n",
      "SM_CalgonitFinishKlarspueler_3\n",
      "SM_CalgonitFinishVorratspack_12\n"
     ]
    }
   ],
   "source": [
    "for i in actor_array:\n",
    "    print(i)"
   ]
  },
  {
   "cell_type": "code",
   "execution_count": 36,
   "metadata": {},
   "outputs": [],
   "source": [
    "# set floor color (front floor)\n",
    "\n",
    "set_floor_mask_color= client.request('vset /object/Floor/color 0 255 0')\n",
    "for j in actor_array:\n",
    "    set_mask_color= client.request('vset /object/'+str(j)+'/color 255 0 0')"
   ]
  },
  {
   "cell_type": "code",
   "execution_count": 37,
   "metadata": {},
   "outputs": [],
   "source": [
    "dirName = 'F:/unreal_cv_documentation/detect_ROI_for_multi_actor/image_test/'\n",
    "viewmode_1 = 'lit'\n",
    "viewmode_2 = 'object_mask'\n",
    "viewmode_3 = 'depth'\n",
    "image_type = '.png'\n",
    "depth_type = '.npy'"
   ]
  },
  {
   "cell_type": "code",
   "execution_count": 38,
   "metadata": {},
   "outputs": [],
   "source": [
    "res_lit = client.request('vget /camera/0/'+str(viewmode_1)+str(\" \")+str(dirName)+'lit_1_1'+str(image_type))\n",
    "res_mask = client.request('vget /camera/0/'+str(viewmode_2)+str(\" \")+str(dirName)+'mask_1_1'+str(image_type))\n",
    "res_depth = client.request('vget /camera/0/'+str(viewmode_3)+str(\" \")+str(dirName)+'depth_1_1'+str(depth_type))"
   ]
  },
  {
   "cell_type": "code",
   "execution_count": 39,
   "metadata": {},
   "outputs": [
    {
     "name": "stdout",
     "output_type": "stream",
     "text": [
      "F:/unreal_cv_documentation/detect_ROI_for_multi_actor/image_test/lit_1_1.png\n",
      "F:/unreal_cv_documentation/detect_ROI_for_multi_actor/image_test/mask_1_1.png\n",
      "F:/unreal_cv_documentation/detect_ROI_for_multi_actor/image_test/depth_1_1.npy\n"
     ]
    }
   ],
   "source": [
    "print(res_lit)\n",
    "print(res_mask)\n",
    "print(res_depth)"
   ]
  },
  {
   "cell_type": "code",
   "execution_count": 40,
   "metadata": {},
   "outputs": [
    {
     "data": {
      "image/png": "[encoded data removed]",
      "text/plain": [
       "<Figure size 432x288 with 1 Axes>"
      ]
     },
     "metadata": {},
     "output_type": "display_data"
    }
   ],
   "source": [
    "from matplotlib import pyplot as plt\n",
    "depth = np.load(res_depth)\n",
    "plt.imshow(depth, cmap='gray')\n",
    "plt.show()"
   ]
  },
  {
   "cell_type": "code",
   "execution_count": 23,
   "metadata": {},
   "outputs": [],
   "source": [
    "import numpy as np\n",
    "import cv2\n",
    "import os\n",
    "\n",
    "lit = 'F:/unreal_cv_documentation/detect_ROI_for_multi_actor/image_test/lit_1_1.png'\n",
    "mask = 'F:/unreal_cv_documentation/detect_ROI_for_multi_actor/image_test/mask_1_1.png'"
   ]
  },
  {
   "cell_type": "code",
   "execution_count": 24,
   "metadata": {},
   "outputs": [
    {
     "name": "stdout",
     "output_type": "stream",
     "text": [
      "length is:  4\n",
      "length is:  4\n",
      "length is:  4\n"
     ]
    }
   ],
   "source": [
    "import cv2\n",
    "\n",
    "lit_image = cv2.imread(lit)\n",
    "mask_image = cv2.imread(mask)\n",
    "cv2.imshow('mask_image', mask_image)\n",
    "\n",
    "# mask_inv = ~mask_image\n",
    "# cv2.imshow('mask_inv',mask_inv)\n",
    "\n",
    "# img_not = cv2.bitwise_not(mask_image)\n",
    "# cv2.imshow(\"Invert1\",img_not)\n",
    "\n",
    "imgray=cv2.cvtColor(mask_image,cv2.COLOR_BGR2GRAY)\n",
    "# cv2.imshow('gray', imgray)\n",
    "ret,thresh = cv2.threshold(imgray,127,255,1)\n",
    "cv2.imshow('thresh',thresh)\n",
    "# cv2.imwrite('F:/unreal_cv_documentation/detect_ROI_for_multi_actor/image_test/threshold.png', thresh)\n",
    "# thresh_inv = ~thresh\n",
    "image, contours, hierarchy =  cv2.findContours(thresh,cv2.RETR_TREE,cv2.CHAIN_APPROX_SIMPLE)\n",
    "# thresh_inv, contours, hierarchy =  cv2.findContours(thresh,cv2.RETR_TREE,cv2.CHAIN_APPROX_SIMPLE)\n",
    "cv2.imshow('image',image)\n",
    "# cv2.imwrite('F:/unreal_cv_documentation/detect_ROI_for_multi_actor/image_test/my_image.png',image)\n",
    "\n",
    "# hsv = cv2.cvtColor(mask_image, cv2.COLOR_BGR2HSV)\n",
    "# hsv_channels = cv2.split(hsv)\n",
    "# _,thresh=cv2.threshold(hsv_channels[0],127,255,0)\n",
    "# im2, contours, hierarchy = cv2.findContours(thresh, cv2.RETR_TREE, cv2.CHAIN_APPROX_SIMPLE)\n",
    "# cv2.imshow('im2',im2)\n",
    "for t in range (0,3,1):\n",
    "    if len(contours)>0:\n",
    "        print('length is: ',len(contours))\n",
    "        cnt = contours[0]\n",
    "        x,y,w,h = cv2.boundingRect(cnt)\n",
    "    \n",
    "        draw_rec_lit_image=cv2.rectangle(lit_image,(x,y),(x+w,y+h),(0,0,255),2)\n",
    "#         cv2.imwrite('F:/unreal_cv_documentation/detect_ROI_for_multi_actor/image_test/detect_roi_lit.png',draw_rec_lit_image)\n",
    "        cv2.imshow('lit_ROI', draw_rec_lit_image)\n",
    "#         crop_img = draw_rec_lit_image[y:y+h, x:x+w]\n",
    "#         cv2.imshow('ROI', crop_img)\n",
    "\n",
    "\n",
    "\n",
    "if cv2.waitKey() == ord('q'): #press q to close the output image window\n",
    "        cv2.destroyAllWindows()"
   ]
  },
  {
   "cell_type": "code",
   "execution_count": 26,
   "metadata": {},
   "outputs": [
    {
     "ename": "TypeError",
     "evalue": "bad argument type for built-in operation",
     "output_type": "error",
     "traceback": [
      "\u001b[1;31m---------------------------------------------------------------------------\u001b[0m",
      "\u001b[1;31mTypeError\u001b[0m                                 Traceback (most recent call last)",
      "\u001b[1;32m<ipython-input-26-e64cef5da9ca>\u001b[0m in \u001b[0;36m<module>\u001b[1;34m()\u001b[0m\n\u001b[1;32m----> 1\u001b[1;33m \u001b[0mimg\u001b[0m \u001b[1;33m=\u001b[0m \u001b[0mcv2\u001b[0m\u001b[1;33m.\u001b[0m\u001b[0mimread\u001b[0m\u001b[1;33m(\u001b[0m\u001b[0mmask\u001b[0m\u001b[1;33m)\u001b[0m\u001b[1;33m\u001b[0m\u001b[0m\n\u001b[0m\u001b[0;32m      2\u001b[0m \u001b[0mrgb_img\u001b[0m \u001b[1;33m=\u001b[0m \u001b[0mcv2\u001b[0m\u001b[1;33m.\u001b[0m\u001b[0mimread\u001b[0m\u001b[1;33m(\u001b[0m\u001b[0mlit\u001b[0m\u001b[1;33m)\u001b[0m\u001b[1;33m\u001b[0m\u001b[0m\n\u001b[0;32m      3\u001b[0m \u001b[0mimg_hsv\u001b[0m \u001b[1;33m=\u001b[0m \u001b[0mcv2\u001b[0m\u001b[1;33m.\u001b[0m\u001b[0mcvtColor\u001b[0m\u001b[1;33m(\u001b[0m\u001b[0mimg\u001b[0m\u001b[1;33m,\u001b[0m \u001b[0mcv2\u001b[0m\u001b[1;33m.\u001b[0m\u001b[0mCOLOR_BGR2HSV\u001b[0m\u001b[1;33m)\u001b[0m\u001b[1;33m\u001b[0m\u001b[0m\n\u001b[0;32m      4\u001b[0m \u001b[1;33m\u001b[0m\u001b[0m\n\u001b[0;32m      5\u001b[0m \u001b[1;31m## Gen lower mask (0-5) and upper mask (175-180) of RED\u001b[0m\u001b[1;33m\u001b[0m\u001b[1;33m\u001b[0m\u001b[0m\n",
      "\u001b[1;31mTypeError\u001b[0m: bad argument type for built-in operation"
     ]
    }
   ],
   "source": [
    "img = cv2.imread(mask)\n",
    "rgb_img = cv2.imread(lit)\n",
    "img_hsv = cv2.cvtColor(img, cv2.COLOR_BGR2HSV)\n",
    "\n",
    "## Gen lower mask (0-5) and upper mask (175-180) of RED\n",
    "mask1 = cv2.inRange(img_hsv, (0,50,20), (5,255,255))\n",
    "mask2 = cv2.inRange(img_hsv, (175,50,20), (180,255,255))\n",
    "\n",
    "## Merge the mask and crop the red regions\n",
    "mask = cv2.bitwise_or(mask1, mask2 )\n",
    "croped = cv2.bitwise_and(img, img, mask=mask)\n",
    "test_rgb = cv2.bitwise_and(rgb_img, rgb_img, mask=mask)\n",
    "\n",
    "image, contours, hierarchy =  cv2.findContours(mask,cv2.RETR_TREE,cv2.CHAIN_APPROX_SIMPLE)\n",
    "cv2.imshow('image', image)\n",
    "## Display\n",
    "cv2.imshow(\"mask\", mask)\n",
    "cv2.imshow(\"croped\", croped)\n",
    "cv2.imshow(\"test_rgb\", test_rgb)\n",
    "\n",
    "if cv2.waitKey() == ord('q'): #press q to close the output image window\n",
    "        cv2.destroyAllWindows()"
   ]
  },
  {
   "cell_type": "code",
   "execution_count": null,
   "metadata": {},
   "outputs": [],
   "source": []
  }
 ],
 "metadata": {
  "kernelspec": {
   "display_name": "Python 3",
   "language": "python",
   "name": "python3"
  },
  "language_info": {
   "codemirror_mode": {
    "name": "ipython",
    "version": 3
   },
   "file_extension": ".py",
   "mimetype": "text/x-python",
   "name": "python",
   "nbconvert_exporter": "python",
   "pygments_lexer": "ipython3",
   "version": "3.6.5"
  }
 },
 "nbformat": 4,
 "nbformat_minor": 2
}
