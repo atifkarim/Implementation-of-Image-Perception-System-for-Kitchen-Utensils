{
 "cells": [
  {
   "cell_type": "markdown",
   "metadata": {},
   "source": [
    "# Check_connection_of_UnrealCV"
   ]
  },
  {
   "cell_type": "code",
   "execution_count": 1,
   "metadata": {},
   "outputs": [
    {
     "name": "stdout",
     "output_type": "stream",
     "text": [
      "The last update of this file: 2019-06-06 14:52:05\n"
     ]
    },
    {
     "name": "stderr",
     "output_type": "stream",
     "text": [
      "INFO:__init__:211:Got connection confirm: b'connected to test_game_4_19'\n"
     ]
    },
    {
     "name": "stdout",
     "output_type": "stream",
     "text": [
      "status:  Is Listening\n",
      "Client Connected\n",
      "9000\n",
      "Configuration\n",
      "Config file: C:/Program Files/Epic Games/UE_4.19/Engine/Binaries/Win64/unrealcv.ini\n",
      "Port: 9000\n",
      "Width: 640\n",
      "Height: 480\n",
      "FOV: 90.000000\n",
      "EnableInput: true\n",
      "EnableRightEye: false\n",
      "\n"
     ]
    }
   ],
   "source": [
    "import time; print(time.strftime(\"The last update of this file: %Y-%m-%d %H:%M:%S\", time.gmtime()))\n",
    "import sys, time\n",
    "# Establish connection with the UE4 game\n",
    "from unrealcv import client\n",
    "client.connect()\n",
    "if not client.isconnected():\n",
    "    print('UnrealCV server is not running. Run the game downloaded from http://unrealcv.github.io first.')\n",
    "    sys.exit(-1)\n",
    "\n",
    "# Checking status of connection between UnrealCV and UE4 game\n",
    "\n",
    "res = client.request('vget /unrealcv/status')\n",
    "# The image resolution and port is configured in the config file.\n",
    "print('status: ',res)"
   ]
  },
  {
   "cell_type": "code",
   "execution_count": 1,
   "metadata": {},
   "outputs": [],
   "source": [
    "import json\n",
    "import numpy as np\n",
    "import os\n",
    "import math\n",
    "import shutil\n",
    "#import glob\n",
    "import cv2\n",
    "crop=0"
   ]
  },
  {
   "cell_type": "code",
   "execution_count": 3,
   "metadata": {},
   "outputs": [
    {
     "name": "stdout",
     "output_type": "stream",
     "text": [
      "GameplayDebuggerCategoryReplicator_0 GameplayDebuggerPlayerManager_0 PlayerController_0 DefaultPawn_0 CameraActor_0 Brush_1 DefaultPhysicsVolume_0 GlobalPostProcessVolume InstancedFoliageActor_0 Floor_14 Floor SM_SomatClassic_2 SM_CalgonitFinishKlarspueler_2 SM_CalgonitFinishMaschinenpfleger_5 SM_CalgonitFinish_2 SM_DenkMitGeschirrReiniger_2 SM_DenkMitGeschirrReinigerClassic_5 SM_DenkMitGeschirrReinigerEvo_8 SM_DenkMitGeschirrReinigerNature_11 SM_DenkMitHygieneAllzweckreiniger_14 SM_DenkMitMaschinenpfleger_17 SM_DenkMitSpezialsalz_20 SM_DomestosKraftUniversalreiniger_23 SM_HeitmannReineCitronenSaeure_26 SM_HeitmannReineCitronensaeure2_29 SM_SomatExtraAllIn1_32 SM_CalgonitFinishSpezialSalz_38 SM_CalgonitFinishVorratspack_41 SM_DenkMitEdelstahlReinigerSpray_44 SM_DenkMitEdelstahlreiniger_47 SM_DenkMitEntkalker_50 AbstractNavData-Default Starter_Background_Cue_2 AtmosphericFog_1 GameModeBase_0 GameNetworkManager_0 GameSession_0 GameStateBase_0 PlayerState_0 SkyLight_1 WorldSettings_1 SphereReflectionCapture10 SphereReflectionCapture_1 HUD_0 LightSource Minimal_Default_C_0 PlayerStart ParticleEventManager_0 PlayerCameraManager_0 UnrealcvWorldController_0 BP_Sky_Sphere_C_2 \n"
     ]
    }
   ],
   "source": [
    "list_obj = client.request('vget /objects')\n",
    "print(list_obj)"
   ]
  },
  {
   "cell_type": "code",
   "execution_count": 4,
   "metadata": {},
   "outputs": [
    {
     "name": "stdout",
     "output_type": "stream",
     "text": [
      "(R=255,G=127,B=127,A=255)\n"
     ]
    }
   ],
   "source": [
    "get_color = client.request('vget /object/SM_CalgonitFinish_2/color')\n",
    "print(get_color)"
   ]
  },
  {
   "cell_type": "code",
   "execution_count": null,
   "metadata": {},
   "outputs": [],
   "source": []
  },
  {
   "cell_type": "markdown",
   "metadata": {},
   "source": [
    "# Hide the floor. It is doing for doing the crop of the actor flawlessly"
   ]
  },
  {
   "cell_type": "code",
   "execution_count": 5,
   "metadata": {},
   "outputs": [
    {
     "name": "stdout",
     "output_type": "stream",
     "text": [
      "hide_Floor:  ok\n",
      "hide_Floor_14:  ok\n"
     ]
    }
   ],
   "source": [
    "hide_Floor=client.request('vset /object/Floor/hide')\n",
    "hide_Floor_14=client.request('vset /object/Floor_14/hide')\n",
    "print('hide_Floor: ',hide_Floor)\n",
    "print('hide_Floor_14: ',hide_Floor_14)"
   ]
  },
  {
   "cell_type": "markdown",
   "metadata": {},
   "source": [
    "# Function for cropping and making the primary text file for YOLO dataset"
   ]
  },
  {
   "cell_type": "code",
   "execution_count": null,
   "metadata": {},
   "outputs": [],
   "source": [
    "def do_crop(path_of_image,lit_image_name,mask_image_name,crop_image_type,class_number):\n",
    "#    print(\"function_start!!!!!!!!!!!!\")\n",
    "    global crop\n",
    "    split_lit_image_name=lit_image_name.split(\".\")\n",
    "    cropped=\"cropped\"\n",
    "    \n",
    "    lit_image=path_of_image+lit_image_name\n",
    "    mask_image=path_of_image+mask_image_name\n",
    "    read_lit_image=cv2.imread(lit_image)\n",
    "    read_mask_image=cv2.imread(mask_image)\n",
    "    \n",
    "    image_mask_copy = read_mask_image.copy()\n",
    "    imgray=cv2.cvtColor(read_mask_image,cv2.COLOR_BGR2GRAY)\n",
    "    ret,thresh = cv2.threshold(imgray,127,255,1)\n",
    "#    print('Till now OK')\n",
    "    image, contours, hierarchy =  cv2.findContours(thresh,cv2.RETR_TREE,cv2.CHAIN_APPROX_SIMPLE)\n",
    "    cv2.drawContours(image_mask_copy,contours,0,(0,255,0))\n",
    "    \n",
    "#    hsv = cv2.cvtColor(read_mask_image, cv2.COLOR_BGR2HSV)\n",
    "#    hsv_channels = cv2.split(hsv)\n",
    "#    _,thresh=cv2.threshold(hsv_channels[1],140,255,cv2.THRESH_BINARY_INV)\n",
    "#    im2,contours, hierarchy = cv2.findContours(thresh, cv2.RETR_TREE, cv2.CHAIN_APPROX_SIMPLE)\n",
    "#    cv2.drawContours(read_mask_image, contours, 0, (0,255,0), 3)\n",
    "    if len(contours)>0:\n",
    "        print('length is: ',len(contours))\n",
    "        cnt = contours[0]\n",
    "        x,y,w,h = cv2.boundingRect(cnt)\n",
    "    \n",
    "        draw_rec_lit_image=cv2.rectangle(read_lit_image,(x,y),(x+w,y+h),(255,255,255),1)\n",
    "        crop_img = draw_rec_lit_image[y:y+h, x:x+w]\n",
    "        crop=crop+1\n",
    "        cv2.imwrite(str(path_of_image)+str(split_lit_image_name[0])+\"_\"+str(cropped)+\".\"+str(crop_image_type),crop_img)\n",
    "        print('CROP done')\n",
    "        \n",
    "        f = open(path_of_image+str(split_lit_image_name[0])+'.txt', 'w')\n",
    "        f.write('00'+str(class_number)+\"\\n\")\n",
    "        f.write(str(x)+' ')\n",
    "        f.write(str(y)+' ')\n",
    "        f.write(str(x+w)+' ')\n",
    "        f.write(str(y+h)+' ')\n",
    "        f.close()\n",
    "        \n",
    "        print('Pre Annotation File has made !!')\n",
    "    else:\n",
    "        print('here length is: ',len(contours))\n",
    "        print('NO Crop has done')\n",
    "        pass"
   ]
  },
  {
   "cell_type": "markdown",
   "metadata": {},
   "source": [
    "# Loading information of actor from config file"
   ]
  },
  {
   "cell_type": "code",
   "execution_count": null,
   "metadata": {},
   "outputs": [],
   "source": [
    "with open('config_file_capture_image.json', 'r') as f:\n",
    "    config = json.load(f)\n",
    "\n",
    "polar_angle_start= config['DEFAULT']['polar_angle_start']\n",
    "polar_angle_end = config['DEFAULT']['polar_angle_end']\n",
    "polar_angle_step = config['DEFAULT']['polar_angle_step']\n",
    "azimuthal_angle_start= config['DEFAULT']['azimuthal_angle_start']\n",
    "azimuthal_angle_end= config['DEFAULT']['azimuthal_angle_end']\n",
    "azimuthal_angle_step= config['DEFAULT']['azimuthal_angle_step']\n",
    "#print('pola_step: ',polar_angle_step,'\\t azi step: ',azimuthal_angle_step)\n",
    "viewmode_1= config['DEFAULT']['viewmode_1']\n",
    "viewmode_2= config['DEFAULT']['viewmode_2']\n",
    "viewmode_3= config['DEFAULT']['viewmode_3']\n",
    "#address= config['DEFAULT']['address']\n",
    "image_type= config['DEFAULT']['image_type']\n",
    "\n",
    "#actor_list= config['DEFAULT']['actor_list']\n",
    "#actor_list=client.request(actor_list)\n",
    "#print(\"type is:\",type(address))\n",
    "#print('actor: ',config['actor'])\n",
    "actor_dict={}\n",
    "for i in config['actor']:\n",
    "    print(i)\n",
    "    actor_dict[i]=[]\n",
    "    actor_dict[i].append(polar_angle_start)\n",
    "    actor_dict[i].append(polar_angle_end)\n",
    "    actor_dict[i].append(azimuthal_angle_start)\n",
    "    actor_dict[i].append(azimuthal_angle_end)\n",
    "    actor_dict[i].append(config['actor'][i]['class'])\n",
    "    actor_dict[i].append(config['actor'][i]['radius'])\n",
    "print('actor dictionary: \\n',actor_dict)\n",
    "\n",
    "\n",
    "#print('type: ',type(actor_list),'\\n list: ',actor_list)\n",
    "#res_list=client.request('vget /objects')\n",
    "#print('res_type: ',type(res_list),'res_list: ',res_list)"
   ]
  },
  {
   "cell_type": "code",
   "execution_count": null,
   "metadata": {},
   "outputs": [],
   "source": [
    "for i in actor_dict:\n",
    "    print('Now: ',i,' will be hidden')\n",
    "    hide=client.request('vset /object/'+str(i)+'/hide')\n",
    "    print('hidden operation for ',i,' has done. \\t',hide)"
   ]
  },
  {
   "cell_type": "code",
   "execution_count": null,
   "metadata": {},
   "outputs": [],
   "source": [
    "for i in actor_dict:\n",
    "    print('Now ',i,' will be appeared in the game')\n",
    "    show_again=client.request('vset /object/'+str(i)+'/show')\n",
    "    print('Visible actor is: ',i,'\\t.',show_again)"
   ]
  },
  {
   "cell_type": "code",
   "execution_count": 6,
   "metadata": {},
   "outputs": [],
   "source": [
    "show_Floor=client.request('vset /object/Floor/show')\n",
    "show_Floor_14=client.request('vset /object/Floor_14/show')"
   ]
  },
  {
   "cell_type": "markdown",
   "metadata": {},
   "source": [
    "# copy all files from lit folder as well as the subfolder inside of the lit folder to another unique folder"
   ]
  },
  {
   "cell_type": "code",
   "execution_count": 11,
   "metadata": {},
   "outputs": [],
   "source": [
    "import os\n",
    "import shutil\n",
    "\n",
    "src = 'F:/unreal_cv_documentation/my_dir/Labels/'\n",
    "dest = 'F:/unreal_cv_documentation/my_dir/yolo_obj/'\n",
    "\n",
    "for path, subdirs, files in os.walk(src):\n",
    "    for name in files:\n",
    "        filename = os.path.join(path, name)\n",
    "        shutil.copy2(filename, dest)"
   ]
  },
  {
   "cell_type": "code",
   "execution_count": null,
   "metadata": {},
   "outputs": [],
   "source": []
  }
 ],
 "metadata": {
  "kernelspec": {
   "display_name": "Python 3",
   "language": "python",
   "name": "python3"
  },
  "language_info": {
   "codemirror_mode": {
    "name": "ipython",
    "version": 3
   },
   "file_extension": ".py",
   "mimetype": "text/x-python",
   "name": "python",
   "nbconvert_exporter": "python",
   "pygments_lexer": "ipython3",
   "version": "3.6.5"
  }
 },
 "nbformat": 4,
 "nbformat_minor": 2
}
